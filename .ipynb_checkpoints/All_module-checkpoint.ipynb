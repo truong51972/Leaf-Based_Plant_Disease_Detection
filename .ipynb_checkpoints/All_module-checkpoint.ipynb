{
 "cells": [
  {
   "cell_type": "code",
   "execution_count": 1,
   "id": "9b482125-f098-4e26-86fb-d95c0f6eae64",
   "metadata": {},
   "outputs": [
    {
     "name": "stdout",
     "output_type": "stream",
     "text": [
      "Overwriting model/data_setup.py\n"
     ]
    }
   ],
   "source": [
    "%%writefile model/data_setup.py\n",
    "import torch\n",
    "from torchvision.datasets import ImageFolder\n",
    "from torch.utils.data import DataLoader\n",
    "from torchvision import datasets, transforms\n",
    "\n",
    "from pathlib import Path\n",
    "\"\"\"\n",
    "Contain for setting updata with full func to create dataloader\n",
    "\"\"\"\n",
    "\n",
    "def create_dataloader(\n",
    "                    train_transform: transforms.Compose,\n",
    "                    val_transform: transforms.Compose,\n",
    "                    test_transform: transforms.Compose,\n",
    "                    **kwargs,\n",
    "                ):\n",
    "    dataset_path = Path(kwargs['dataset']['dataset_path'])\n",
    "    \n",
    "    train_path = dataset_path / kwargs['dataset']['folder_train']\n",
    "    val_path = dataset_path / kwargs['dataset']['folder_val']\n",
    "    test_path = dataset_path / kwargs['dataset']['folder_test']\n",
    "    \n",
    "    train_data = ImageFolder(\n",
    "        root= train_path,\n",
    "        transform= train_transform\n",
    "    )\n",
    "    \n",
    "    val_data = ImageFolder(\n",
    "        root= val_path,\n",
    "        transform= val_transform\n",
    "    )\n",
    "\n",
    "    test_data = ImageFolder(\n",
    "        root= test_path,\n",
    "        transform= test_transform\n",
    "    )\n",
    "    \n",
    "    train_dataloader = DataLoader(\n",
    "        dataset= train_data,\n",
    "        batch_size= kwargs['dataset']['batch_size'],\n",
    "        shuffle= True\n",
    "    )\n",
    "    \n",
    "    val_dataloader = DataLoader(\n",
    "        dataset= val_data,\n",
    "        batch_size= kwargs['dataset']['batch_size'],\n",
    "        shuffle= False\n",
    "    )\n",
    "\n",
    "    test_dataloader = DataLoader(\n",
    "        dataset= test_data,\n",
    "        batch_size= kwargs['dataset']['batch_size'],\n",
    "        shuffle= False\n",
    "    )\n",
    "    class_names = train_data.classes\n",
    "    return train_dataloader, val_dataloader, test_dataloader, class_names"
   ]
  },
  {
   "cell_type": "code",
   "execution_count": 2,
   "id": "c359100c-6a05-4415-bf09-cf9d09ac6d78",
   "metadata": {},
   "outputs": [
    {
     "name": "stdout",
     "output_type": "stream",
     "text": [
      "Overwriting model/model_builder.py\n"
     ]
    }
   ],
   "source": [
    "%%writefile model/model_builder.py\n",
    "import torch\n",
    "from torch import nn\n",
    "from torchvision.models import efficientnet_v2_s, EfficientNet_V2_S_Weights\n",
    "from torchvision.models import resnet50, ResNet50_Weights\n",
    "from torchvision.models import resnet18, ResNet18_Weights\n",
    "\n",
    "from pathlib import Path\n",
    "import json\n",
    "\n",
    "def efficientnet_v2_s_model(class_names: None|list = None, pretrain_model_path: None|str= None, device: str= 'cpu'):\n",
    "    weights = EfficientNet_V2_S_Weights.DEFAULT\n",
    "    model = efficientnet_v2_s(weights= weights).to(device)\n",
    "\n",
    "    model.classifier = nn.Sequential(\n",
    "        nn.Dropout(p=0.2, inplace=True),\n",
    "        nn.Linear(in_features=1280, out_features=len(class_names), bias=True)\n",
    "    )\n",
    "\n",
    "    model = model.to(device)\n",
    "    return model\n",
    "\n",
    "def resnet50_model(class_names: None|list = None, pretrain_model_path: None|str= None, device: str= 'cpu'):\n",
    "    info_data = None\n",
    "    if pretrain_model_path is None:\n",
    "        weights = ResNet50_Weights.DEFAULT\n",
    "        model = resnet50(weights= weights).to(device)\n",
    "        features= model.fc.in_features\n",
    "        model.fc = nn.Sequential(\n",
    "            nn.Linear(in_features=features, out_features=len(class_names), bias=True)\n",
    "        )\n",
    "        model = model.to(device)\n",
    "        \n",
    "    else:\n",
    "        pretrain_model_path = Path(pretrain_model_path)\n",
    "\n",
    "        with open(pretrain_model_path / 'info.json', 'r') as f:\n",
    "            info_data = json.load(f)\n",
    "        \n",
    "        model = resnet50().to(device)\n",
    "        model.fc = nn.Sequential(\n",
    "            nn.Linear(in_features=2048, out_features=len(info_data['class_names']), bias=True)\n",
    "        )\n",
    "        model.load_state_dict(torch.load(f=pretrain_model_path / 'model.pth'))\n",
    "        model = model.to(device)\n",
    "        \n",
    "    return model, info_data\n",
    "\n",
    "def resnet18_model(class_names: None|list = None, pretrain_model_path: None|str= None, device: str= 'cpu'):\n",
    "    info_data = None\n",
    "    if pretrain_model_path is None:\n",
    "        weights = ResNet18_Weights.DEFAULT\n",
    "        model = resnet18(weights= weights).to(device)\n",
    "        features= model.fc.in_features\n",
    "        model.fc = nn.Sequential(\n",
    "            nn.Linear(in_features=features, out_features=len(class_names), bias=True)\n",
    "        )\n",
    "        model = model.to(device)\n",
    "        \n",
    "    else:\n",
    "        pretrain_model_path = Path(pretrain_model_path)\n",
    "\n",
    "        with open(pretrain_model_path / 'info.json', 'r') as f:\n",
    "            info_data = json.load(f)\n",
    "        \n",
    "        model = resnet18().to(device)\n",
    "        features= model.fc.in_features\n",
    "        model.fc = nn.Sequential(\n",
    "            nn.Linear(in_features=features, out_features=len(info_data['class_names']), bias=True)\n",
    "        )\n",
    "        model.load_state_dict(torch.load(f=pretrain_model_path / 'model.pth'))\n",
    "        model = model.to(device)\n",
    "        \n",
    "    return model, info_data"
   ]
  },
  {
   "cell_type": "code",
   "execution_count": 3,
   "id": "3b7ee938-113a-465c-9f6a-bf4c62674528",
   "metadata": {},
   "outputs": [
    {
     "name": "stdout",
     "output_type": "stream",
     "text": [
      "Overwriting model/utils.py\n"
     ]
    }
   ],
   "source": [
    "%%writefile model/utils.py\n",
    "import os\n",
    "from pathlib import Path\n",
    "import torch\n",
    "import json\n",
    "import matplotlib.pyplot as plt\n",
    "import seaborn as sns\n",
    "\n",
    "from torchmetrics import ConfusionMatrix\n",
    "\n",
    "def plot_loss_curves(results: dict[str, list[float]]):\n",
    "    train_loss = results['train_loss']\n",
    "    val_loss = results['val_loss']\n",
    "    train_accuracy = results['train_acc']\n",
    "    val_accuracy = results['val_acc']\n",
    "\n",
    "    epochs = range(len(results['train_loss']))\n",
    "\n",
    "    plt.figure(figsize=(15, 7))\n",
    "\n",
    "    plt.subplot(1, 2, 1)\n",
    "    plt.plot(epochs, train_loss, label='train_loss')\n",
    "    plt.plot(epochs, val_loss, label='val_loss')\n",
    "    plt.title('Loss')\n",
    "    plt.xlabel('Epochs')\n",
    "    plt.legend()\n",
    "\n",
    "    plt.subplot(1, 2, 2)\n",
    "    plt.plot(epochs, train_accuracy, label='train_accuracy')\n",
    "    plt.plot(epochs, val_accuracy, label='val_accuracy')\n",
    "    plt.title('Accuracy')\n",
    "    plt.xlabel('Epochs')\n",
    "    plt.legend()\n",
    "    return plt\n",
    "\n",
    "def plot_confmat(table):\n",
    "    plt.figure(figsize=(11, 8))\n",
    "    sns.heatmap(table, annot=True, fmt='.0f')\n",
    "    plt.title('Confusion Matrix')\n",
    "\n",
    "    return plt\n",
    "\n",
    "def save_model(model: torch.nn.Module,\n",
    "               results: dict[str, list[float]],\n",
    "               class_names: list,\n",
    "               device: str,\n",
    "               **kwargs):\n",
    "\n",
    "    confmat = ConfusionMatrix(task=\"multiclass\", num_classes= len(class_names)).to(device)\n",
    "    \n",
    "    preds = torch.tensor(results['test_results']['preds']).to(device)\n",
    "    target = torch.tensor(results['test_results']['target']).to(device)\n",
    "    table = confmat(preds, target).tolist()\n",
    "    \n",
    "    \n",
    "    \n",
    "    target_dir = Path('runs/classify/')\n",
    "    target_dir.mkdir(parents=True, exist_ok=True)\n",
    "    \n",
    "    model_name = kwargs['save_para']['model_name']\n",
    "    graph_loss_name = kwargs['save_para']['graph_loss_name']\n",
    "    graph_confmat_name = kwargs['save_para']['graph_confmat_name']\n",
    "    info_file_name = kwargs['save_para']['info_file_name']\n",
    "    \n",
    "    train_paths = os.listdir(target_dir)\n",
    "    \n",
    "    i = 0\n",
    "    \n",
    "    while True:\n",
    "        train_path = f'train{i}'\n",
    "        if train_path not in train_paths:\n",
    "            break\n",
    "        else:\n",
    "            i += 1\n",
    "\n",
    "    target_dir = target_dir / train_path\n",
    "    \n",
    "    target_dir_path = Path(target_dir)\n",
    "    target_dir_path.mkdir(parents=True,exist_ok=True)\n",
    "    \n",
    "    model_save_path = target_dir_path / model_name\n",
    "    graph_loss_save_path = target_dir_path / graph_loss_name\n",
    "    graph_confmat_save_path = target_dir_path / graph_confmat_name\n",
    "    info_save_path = target_dir_path / info_file_name\n",
    "    \n",
    "    print(f\"[INFO] Saving model to: {target_dir}\")\n",
    "    \n",
    "    info_data = {\n",
    "        \"class_names\" : class_names,\n",
    "        \"results\" : results\n",
    "    }\n",
    "    \n",
    "    with open(info_save_path, 'w') as f:\n",
    "        json.dump(info_data, f, indent=4)\n",
    "        \n",
    "    graph_loss = plot_loss_curves(results)\n",
    "    graph_loss.savefig(graph_loss_save_path)\n",
    "\n",
    "    graph_confmat = plot_confmat(table)\n",
    "    graph_confmat.savefig(graph_confmat_save_path)\n",
    "    \n",
    "    torch.save(obj=model.state_dict(), f=model_save_path)\n",
    "\n",
    "def save_checkpoint(model: torch.nn.Module, num: int):\n",
    "    target_path = Path('runs/classify/')\n",
    "    target_path.mkdir(parents=True, exist_ok=True)\n",
    "\n",
    "    checkpoint_dir = target_path / 'checkpoints'\n",
    "    checkpoint_dir.mkdir(parents=True, exist_ok=True)\n",
    "\n",
    "    checkpoint_names = os.listdir(checkpoint_dir)\n",
    "    \n",
    "    checkpoint_name = f'.checkpoint_{num}.pth'\n",
    "\n",
    "    checkpoint_path = checkpoint_dir / checkpoint_name\n",
    "    torch.save(obj=model.state_dict(), f=checkpoint_path)\n",
    "\n",
    "    print(f'Save checkpoint to {checkpoint_path}')"
   ]
  },
  {
   "cell_type": "code",
   "execution_count": 4,
   "id": "3e06eca4-adf7-4d57-b122-1ce232052503",
   "metadata": {},
   "outputs": [
    {
     "name": "stdout",
     "output_type": "stream",
     "text": [
      "Overwriting model/engine.py\n"
     ]
    }
   ],
   "source": [
    "%%writefile model/engine.py\n",
    "import torch\n",
    "from torchmetrics import Accuracy\n",
    "from tqdm.auto import tqdm\n",
    "from model.utils import save_checkpoint\n",
    "\n",
    "def __train(model: torch.nn.Module,\n",
    "            dataloader: torch.utils.data.DataLoader,\n",
    "            loss_func: torch.nn.Module,\n",
    "            optimizer: torch.optim.Optimizer,\n",
    "            mectric_func: Accuracy,\n",
    "            device: str):\n",
    "    \n",
    "    train_loss = 0\n",
    "    train_acc = 0\n",
    "    \n",
    "    model.train()\n",
    "\n",
    "    for _, (X, y) in enumerate(tqdm(dataloader, desc= '-----Train')):\n",
    "        X, y = X.to(device), y.to(device)\n",
    "\n",
    "        y_pred = model(X)\n",
    "        loss = loss_func(y_pred, y)\n",
    "\n",
    "        train_loss += loss.item()\n",
    "\n",
    "        optimizer.zero_grad()\n",
    "        loss.backward()\n",
    "\n",
    "        optimizer.step()\n",
    "        y_pred_class = torch.argmax(torch.softmax(y_pred, dim= 1), dim= 1)\n",
    "        train_acc += mectric_func(y_pred, y).item()\n",
    "\n",
    "    train_loss /= len(dataloader)\n",
    "    train_acc /= len(dataloader)\n",
    "    \n",
    "    return train_loss, train_acc\n",
    "\n",
    "def __val(model: torch.nn.Module,\n",
    "           dataloader: torch.utils.data.DataLoader,\n",
    "           loss_func: torch.nn.Module,\n",
    "           mectric_func: Accuracy,\n",
    "           device: str):\n",
    "\n",
    "    val_loss = 0\n",
    "    val_acc = 0\n",
    "    \n",
    "    model.eval()\n",
    "    \n",
    "    with torch.inference_mode():\n",
    "        for _, (X, y) in enumerate(tqdm(dataloader, desc= '-------Val')):\n",
    "            X, y = X.to(device), y.to(device)\n",
    "            \n",
    "            y_pred = model(X)\n",
    "            loss = loss_func(y_pred, y)\n",
    "            \n",
    "            val_loss += loss.item()\n",
    "            \n",
    "            y_pred_class = torch.argmax(torch.softmax(y_pred, dim= 1), dim= 1)\n",
    "            val_acc += mectric_func(y_pred, y).item()\n",
    "\n",
    "        val_loss /= len(dataloader)\n",
    "        val_acc /= len(dataloader)\n",
    "\n",
    "    return val_loss, val_acc\n",
    "\n",
    "def __test(model: torch.nn.Module,\n",
    "           dataloader: torch.utils.data.DataLoader,\n",
    "           device: str):\n",
    "    \n",
    "    model.eval()\n",
    "    target = torch.tensor([]).to(device)\n",
    "    preds = torch.tensor([]).to(device)\n",
    "    print('\\n\\n')\n",
    "    with torch.inference_mode():\n",
    "        for _, (X, y) in enumerate(tqdm(dataloader, desc= '------Test')):\n",
    "            X, y = X.to(device), y.to(device)\n",
    "\n",
    "            \n",
    "            y_pred = model(X)\n",
    "            \n",
    "            y_pred_class = torch.argmax(torch.softmax(y_pred, dim= 1), dim= 1)\n",
    "\n",
    "            target = torch.cat((target, y), dim= 0)\n",
    "            preds = torch.cat((preds, y_pred_class), dim= 0)\n",
    "\n",
    "    test_results = {\n",
    "        'preds' : preds.tolist(),\n",
    "        'target' : target.tolist()\n",
    "    }\n",
    "\n",
    "    return test_results\n",
    "\n",
    "def train(model: torch.nn.Module,\n",
    "          train_dataloader: torch.utils.data.DataLoader,\n",
    "          val_dataloader: torch.utils.data.DataLoader,\n",
    "          test_dataloader: torch.utils.data.DataLoader,\n",
    "          loss_func: torch.nn.Module,\n",
    "          optimizer: torch.optim.Optimizer,\n",
    "          lr_scheduler: torch.optim.lr_scheduler.LRScheduler,\n",
    "          mectric_funcs: Accuracy,\n",
    "          epochs: int,\n",
    "          info_data: list,\n",
    "          save_checkpoint_freq: int,\n",
    "          device: str):\n",
    "\n",
    "    if info_data is None:\n",
    "        results = {\n",
    "            'train_loss': [],\n",
    "            'train_acc': [],\n",
    "            'val_loss': [],\n",
    "            'val_acc': [],\n",
    "            'test_results' : {}\n",
    "        }\n",
    "    else:\n",
    "        results = info_data['results']\n",
    "    torch.manual_seed(42) \n",
    "    torch.cuda.manual_seed(42)\n",
    "\n",
    "    try:\n",
    "        for epoch in tqdm(range(epochs), desc= 'Training'):\n",
    "            print(f\"\\n\\nEpoch: {epoch+1:2} ------------\")\n",
    "            train_loss, train_acc = __train(model=model,\n",
    "                                            dataloader=train_dataloader,\n",
    "                                            loss_func=loss_func,\n",
    "                                            optimizer=optimizer,\n",
    "                                            mectric_func=mectric_funcs,\n",
    "                                            device= device)\n",
    "            lr_scheduler.step()\n",
    "            val_loss, val_acc = __val(model=model,\n",
    "                                    dataloader=val_dataloader,\n",
    "                                    loss_func=loss_func,\n",
    "                                    mectric_func=mectric_funcs,\n",
    "                                    device= device)\n",
    "            \n",
    "            print(f\"Epoch: {epoch+1:2} | Train Loss: {train_loss:.5f} | Train Acc: {train_acc:.4f} | Val Loss: {val_loss:.5f} | Val Acc: {val_acc:.4f}\")\n",
    "            results[\"train_loss\"].append(train_loss)\n",
    "            results[\"train_acc\"].append(train_acc)\n",
    "            results[\"val_loss\"].append(val_loss)\n",
    "            results[\"val_acc\"].append(val_acc)\n",
    "    \n",
    "            if (save_checkpoint_freq != 0) and ((epoch+1) % save_checkpoint_freq == 0):\n",
    "                save_checkpoint(model= model, num= int((epoch+1) / save_checkpoint_freq))\n",
    "                \n",
    "            temp_model_state_dict = model.state_dict()\n",
    "    except KeyboardInterrupt:\n",
    "        print('\\nStop trainning')\n",
    "        model.load_state_dict(temp_model_state_dict)\n",
    "        \n",
    "    results[\"test_results\"] = __test(model=model,\n",
    "                                     dataloader=test_dataloader,\n",
    "                                     device= device)\n",
    "    return results"
   ]
  },
  {
   "cell_type": "code",
   "execution_count": 5,
   "id": "9c48a854-20c5-4a0a-b2e8-fd24e14989fc",
   "metadata": {
    "scrolled": true
   },
   "outputs": [
    {
     "name": "stdout",
     "output_type": "stream",
     "text": [
      "Overwriting model/train.py\n"
     ]
    }
   ],
   "source": [
    "%%writefile model/train.py\n",
    "import torch\n",
    "from torch import nn\n",
    "from torchvision import transforms\n",
    "\n",
    "from pathlib import Path\n",
    "from torchmetrics import Accuracy, ConfusionMatrix\n",
    "\n",
    "from model.data_setup import create_dataloader\n",
    "from model.engine import train\n",
    "from model.utils import save_model\n",
    "# from model.model_builder import resnet50_model\n",
    "from model.model_builder import resnet18_model\n",
    "\n",
    "def run(**kwargs):\n",
    "    device = 'cuda' if torch.cuda.is_available() else 'cpu'\n",
    "    print(f\"Device: '{device}'\")\n",
    "    \n",
    "    train_transforms_data = transforms.Compose([\n",
    "        transforms.RandomResizedCrop(size=(224, 224), antialias=True),\n",
    "        transforms.RandomHorizontalFlip(p=0.5),\n",
    "        transforms.RandomVerticalFlip(p=0.5),\n",
    "        # transforms.GaussianBlur(kernel_size=(5, 5), sigma=(0.1, 2.0)),\n",
    "        transforms.transforms.ColorJitter(brightness= [0.8, 1.2], contrast= [0.9, 1.1]),\n",
    "        transforms.ToTensor()\n",
    "    ])\n",
    "    \n",
    "    val_transforms_data = transforms.Compose([\n",
    "        transforms.Resize(size= 224),\n",
    "        transforms.ToTensor()\n",
    "    ])\n",
    "\n",
    "    test_transforms_data = transforms.Compose([\n",
    "        transforms.Resize(size= 224),\n",
    "        transforms.ToTensor()\n",
    "    ])\n",
    "    \n",
    "    train_dataloader, val_dataloader, test_dataloader, class_names = create_dataloader(train_transform=train_transforms_data,\n",
    "                                                                                      val_transform=val_transforms_data,\n",
    "                                                                                      test_transform=test_transforms_data,\n",
    "                                                                                      **kwargs)\n",
    "\n",
    "\n",
    "    # model, info_data = resnet50_model(class_names= class_names, pretrain_model_path= kwargs['train_para']['pretrain_model_path'], device= device)\n",
    "    model, info_data = resnet18_model(class_names= class_names, pretrain_model_path= kwargs['train_para']['pretrain_model_path'], device= device)\n",
    "    \n",
    "    loss_func = nn.CrossEntropyLoss()\n",
    "\n",
    "    lr = kwargs['train_para']['optimize']['learning_rate']\n",
    "    momentum = kwargs['train_para']['optimize']['momentum']\n",
    "    weight_decay = kwargs['train_para']['optimize']['weight_decay']\n",
    "    optimizer = torch.optim.SGD(params= model.parameters(), lr=lr, momentum=momentum, weight_decay=weight_decay)\n",
    "    # optimizer = torch.optim.Adam(params= model.parameters(), lr= kwargs['train_para']['learning_rate'], weight_decay= 0.0001)\n",
    "    \n",
    "    accur = Accuracy(task='multiclass', num_classes= len(class_names)).to(device)\n",
    "\n",
    "    step_size = kwargs['train_para']['lr_scheduler']['step_size']\n",
    "    gamma = kwargs['train_para']['lr_scheduler']['gamma']\n",
    "    lr_scheduler = torch.optim.lr_scheduler.StepLR(\n",
    "        optimizer,\n",
    "        step_size= step_size,\n",
    "        gamma= gamma\n",
    "    )\n",
    "\n",
    "    epochs= kwargs['train_para']['epochs']\n",
    "    save_checkpoint_freq= kwargs['train_para']['save_checkpoint_freq']\n",
    "    results = train(\n",
    "            model= model,\n",
    "            train_dataloader= train_dataloader,\n",
    "            val_dataloader= val_dataloader,\n",
    "            test_dataloader= test_dataloader,\n",
    "            loss_func= loss_func,\n",
    "            optimizer= optimizer,\n",
    "            lr_scheduler= lr_scheduler,\n",
    "            mectric_funcs= accur,\n",
    "            epochs= epochs,\n",
    "            info_data = info_data,\n",
    "            save_checkpoint_freq= save_checkpoint_freq,\n",
    "            device= device,\n",
    "    )\n",
    "    \n",
    "    save_model(model= model, results= results, class_names= class_names, device= device, **kwargs)"
   ]
  },
  {
   "cell_type": "code",
   "execution_count": 6,
   "id": "8345f941-bdbd-4d02-83db-2c6f90942dba",
   "metadata": {},
   "outputs": [
    {
     "name": "stdout",
     "output_type": "stream",
     "text": [
      "Device: 'cuda'\n"
     ]
    },
    {
     "data": {
      "application/vnd.jupyter.widget-view+json": {
       "model_id": "12361073fae54cbe8bc162c4280c97e3",
       "version_major": 2,
       "version_minor": 0
      },
      "text/plain": [
       "Training:   0%|          | 0/20 [00:00<?, ?it/s]"
      ]
     },
     "metadata": {},
     "output_type": "display_data"
    },
    {
     "name": "stdout",
     "output_type": "stream",
     "text": [
      "\n",
      "\n",
      "Epoch:  1 ------------\n"
     ]
    },
    {
     "data": {
      "application/vnd.jupyter.widget-view+json": {
       "model_id": "e82415a276df44608d55297d4170eefa",
       "version_major": 2,
       "version_minor": 0
      },
      "text/plain": [
       "-----Train:   0%|          | 0/250 [00:00<?, ?it/s]"
      ]
     },
     "metadata": {},
     "output_type": "display_data"
    },
    {
     "name": "stderr",
     "output_type": "stream",
     "text": [
      "C:\\Users\\tranq\\AppData\\Local\\miniconda3\\envs\\Leaf_based_project\\Lib\\site-packages\\torch\\nn\\modules\\conv.py:456: UserWarning: Plan failed with a cudnnException: CUDNN_BACKEND_EXECUTION_PLAN_DESCRIPTOR: cudnnFinalize Descriptor Failed cudnn_status: CUDNN_STATUS_NOT_SUPPORTED (Triggered internally at ..\\aten\\src\\ATen\\native\\cudnn\\Conv_v8.cpp:919.)\n",
      "  return F.conv2d(input, weight, bias, self.stride,\n"
     ]
    },
    {
     "data": {
      "application/vnd.jupyter.widget-view+json": {
       "model_id": "041bf630f22d454899c0ef7a2e9b93f2",
       "version_major": 2,
       "version_minor": 0
      },
      "text/plain": [
       "-------Val:   0%|          | 0/63 [00:00<?, ?it/s]"
      ]
     },
     "metadata": {},
     "output_type": "display_data"
    },
    {
     "name": "stdout",
     "output_type": "stream",
     "text": [
      "Epoch:  1 | Train Loss: 0.95551 | Train Acc: 0.7055 | Val Loss: 0.29695 | Val Acc: 0.9082\n",
      "\n",
      "\n",
      "Epoch:  2 ------------\n"
     ]
    },
    {
     "data": {
      "application/vnd.jupyter.widget-view+json": {
       "model_id": "731fe72088534af28d693f24ef8b0dc9",
       "version_major": 2,
       "version_minor": 0
      },
      "text/plain": [
       "-----Train:   0%|          | 0/250 [00:00<?, ?it/s]"
      ]
     },
     "metadata": {},
     "output_type": "display_data"
    },
    {
     "data": {
      "application/vnd.jupyter.widget-view+json": {
       "model_id": "72ce1415c58544d893d713dc0a60f878",
       "version_major": 2,
       "version_minor": 0
      },
      "text/plain": [
       "-------Val:   0%|          | 0/63 [00:00<?, ?it/s]"
      ]
     },
     "metadata": {},
     "output_type": "display_data"
    },
    {
     "name": "stdout",
     "output_type": "stream",
     "text": [
      "Epoch:  2 | Train Loss: 0.34918 | Train Acc: 0.8872 | Val Loss: 0.16242 | Val Acc: 0.9484\n",
      "Save checkpoint to runs\\classify\\checkpoints\\.checkpoint_1.pth\n",
      "\n",
      "\n",
      "Epoch:  3 ------------\n"
     ]
    },
    {
     "data": {
      "application/vnd.jupyter.widget-view+json": {
       "model_id": "8edf9fe7700349d0b7b84223de47f618",
       "version_major": 2,
       "version_minor": 0
      },
      "text/plain": [
       "-----Train:   0%|          | 0/250 [00:00<?, ?it/s]"
      ]
     },
     "metadata": {},
     "output_type": "display_data"
    },
    {
     "data": {
      "application/vnd.jupyter.widget-view+json": {
       "model_id": "39f31f2bc2ed46179096a63824c9f26b",
       "version_major": 2,
       "version_minor": 0
      },
      "text/plain": [
       "-------Val:   0%|          | 0/63 [00:00<?, ?it/s]"
      ]
     },
     "metadata": {},
     "output_type": "display_data"
    },
    {
     "name": "stdout",
     "output_type": "stream",
     "text": [
      "Epoch:  3 | Train Loss: 0.25873 | Train Acc: 0.9174 | Val Loss: 0.12394 | Val Acc: 0.9593\n",
      "\n",
      "\n",
      "Epoch:  4 ------------\n"
     ]
    },
    {
     "data": {
      "application/vnd.jupyter.widget-view+json": {
       "model_id": "c77399350b914e58be0304e6557944a0",
       "version_major": 2,
       "version_minor": 0
      },
      "text/plain": [
       "-----Train:   0%|          | 0/250 [00:00<?, ?it/s]"
      ]
     },
     "metadata": {},
     "output_type": "display_data"
    },
    {
     "data": {
      "application/vnd.jupyter.widget-view+json": {
       "model_id": "c1f07d874fad44e3a3c902554c038d6d",
       "version_major": 2,
       "version_minor": 0
      },
      "text/plain": [
       "-------Val:   0%|          | 0/63 [00:00<?, ?it/s]"
      ]
     },
     "metadata": {},
     "output_type": "display_data"
    },
    {
     "name": "stdout",
     "output_type": "stream",
     "text": [
      "Epoch:  4 | Train Loss: 0.21722 | Train Acc: 0.9286 | Val Loss: 0.09763 | Val Acc: 0.9742\n",
      "Save checkpoint to runs\\classify\\checkpoints\\.checkpoint_2.pth\n",
      "\n",
      "\n",
      "Epoch:  5 ------------\n"
     ]
    },
    {
     "data": {
      "application/vnd.jupyter.widget-view+json": {
       "model_id": "121eb167e48b4b1fb2587f4078a917a9",
       "version_major": 2,
       "version_minor": 0
      },
      "text/plain": [
       "-----Train:   0%|          | 0/250 [00:00<?, ?it/s]"
      ]
     },
     "metadata": {},
     "output_type": "display_data"
    },
    {
     "data": {
      "application/vnd.jupyter.widget-view+json": {
       "model_id": "a81cc24dc051483e8d8320dbadb52832",
       "version_major": 2,
       "version_minor": 0
      },
      "text/plain": [
       "-------Val:   0%|          | 0/63 [00:00<?, ?it/s]"
      ]
     },
     "metadata": {},
     "output_type": "display_data"
    },
    {
     "name": "stdout",
     "output_type": "stream",
     "text": [
      "Epoch:  5 | Train Loss: 0.17619 | Train Acc: 0.9419 | Val Loss: 0.07849 | Val Acc: 0.9757\n",
      "\n",
      "\n",
      "Epoch:  6 ------------\n"
     ]
    },
    {
     "data": {
      "application/vnd.jupyter.widget-view+json": {
       "model_id": "b6304272e2c54461a7e1fe2fbabae01d",
       "version_major": 2,
       "version_minor": 0
      },
      "text/plain": [
       "-----Train:   0%|          | 0/250 [00:00<?, ?it/s]"
      ]
     },
     "metadata": {},
     "output_type": "display_data"
    },
    {
     "data": {
      "application/vnd.jupyter.widget-view+json": {
       "model_id": "51daf0de20c544a6896952f0a1b80fb7",
       "version_major": 2,
       "version_minor": 0
      },
      "text/plain": [
       "-------Val:   0%|          | 0/63 [00:00<?, ?it/s]"
      ]
     },
     "metadata": {},
     "output_type": "display_data"
    },
    {
     "name": "stdout",
     "output_type": "stream",
     "text": [
      "Epoch:  6 | Train Loss: 0.15019 | Train Acc: 0.9511 | Val Loss: 0.06769 | Val Acc: 0.9797\n",
      "Save checkpoint to runs\\classify\\checkpoints\\.checkpoint_3.pth\n",
      "\n",
      "\n",
      "Epoch:  7 ------------\n"
     ]
    },
    {
     "data": {
      "application/vnd.jupyter.widget-view+json": {
       "model_id": "1b6ba270be1f47ae8c8ae83bc71c0911",
       "version_major": 2,
       "version_minor": 0
      },
      "text/plain": [
       "-----Train:   0%|          | 0/250 [00:00<?, ?it/s]"
      ]
     },
     "metadata": {},
     "output_type": "display_data"
    },
    {
     "data": {
      "application/vnd.jupyter.widget-view+json": {
       "model_id": "4c8b8b9ebfa7489fb79ce5c238ba79d2",
       "version_major": 2,
       "version_minor": 0
      },
      "text/plain": [
       "-------Val:   0%|          | 0/63 [00:00<?, ?it/s]"
      ]
     },
     "metadata": {},
     "output_type": "display_data"
    },
    {
     "name": "stdout",
     "output_type": "stream",
     "text": [
      "Epoch:  7 | Train Loss: 0.13830 | Train Acc: 0.9562 | Val Loss: 0.06658 | Val Acc: 0.9797\n",
      "\n",
      "\n",
      "Epoch:  8 ------------\n"
     ]
    },
    {
     "data": {
      "application/vnd.jupyter.widget-view+json": {
       "model_id": "d100348e32a54ecbb0cb6964b9e0bbfb",
       "version_major": 2,
       "version_minor": 0
      },
      "text/plain": [
       "-----Train:   0%|          | 0/250 [00:00<?, ?it/s]"
      ]
     },
     "metadata": {},
     "output_type": "display_data"
    },
    {
     "data": {
      "application/vnd.jupyter.widget-view+json": {
       "model_id": "7e804438c56841349d6f0844b15f595f",
       "version_major": 2,
       "version_minor": 0
      },
      "text/plain": [
       "-------Val:   0%|          | 0/63 [00:00<?, ?it/s]"
      ]
     },
     "metadata": {},
     "output_type": "display_data"
    },
    {
     "name": "stdout",
     "output_type": "stream",
     "text": [
      "Epoch:  8 | Train Loss: 0.13965 | Train Acc: 0.9541 | Val Loss: 0.05942 | Val Acc: 0.9812\n",
      "Save checkpoint to runs\\classify\\checkpoints\\.checkpoint_4.pth\n",
      "\n",
      "\n",
      "Epoch:  9 ------------\n"
     ]
    },
    {
     "data": {
      "application/vnd.jupyter.widget-view+json": {
       "model_id": "b51ab9fe35d142c5bbdd95356f389cec",
       "version_major": 2,
       "version_minor": 0
      },
      "text/plain": [
       "-----Train:   0%|          | 0/250 [00:00<?, ?it/s]"
      ]
     },
     "metadata": {},
     "output_type": "display_data"
    },
    {
     "data": {
      "application/vnd.jupyter.widget-view+json": {
       "model_id": "908d2da2470141a0a283d02aca97b4cd",
       "version_major": 2,
       "version_minor": 0
      },
      "text/plain": [
       "-------Val:   0%|          | 0/63 [00:00<?, ?it/s]"
      ]
     },
     "metadata": {},
     "output_type": "display_data"
    },
    {
     "name": "stdout",
     "output_type": "stream",
     "text": [
      "Epoch:  9 | Train Loss: 0.13101 | Train Acc: 0.9560 | Val Loss: 0.05369 | Val Acc: 0.9821\n",
      "\n",
      "\n",
      "Epoch: 10 ------------\n"
     ]
    },
    {
     "data": {
      "application/vnd.jupyter.widget-view+json": {
       "model_id": "1d7b7130e7fa4437ac4d14c302464ada",
       "version_major": 2,
       "version_minor": 0
      },
      "text/plain": [
       "-----Train:   0%|          | 0/250 [00:00<?, ?it/s]"
      ]
     },
     "metadata": {},
     "output_type": "display_data"
    },
    {
     "data": {
      "application/vnd.jupyter.widget-view+json": {
       "model_id": "9a452b254d4249e3b0c7aa7d388ee770",
       "version_major": 2,
       "version_minor": 0
      },
      "text/plain": [
       "-------Val:   0%|          | 0/63 [00:00<?, ?it/s]"
      ]
     },
     "metadata": {},
     "output_type": "display_data"
    },
    {
     "name": "stdout",
     "output_type": "stream",
     "text": [
      "Epoch: 10 | Train Loss: 0.13109 | Train Acc: 0.9539 | Val Loss: 0.05746 | Val Acc: 0.9807\n",
      "Save checkpoint to runs\\classify\\checkpoints\\.checkpoint_5.pth\n",
      "\n",
      "\n",
      "Epoch: 11 ------------\n"
     ]
    },
    {
     "data": {
      "application/vnd.jupyter.widget-view+json": {
       "model_id": "cee642c5a00b4a3b886ae719241b7471",
       "version_major": 2,
       "version_minor": 0
      },
      "text/plain": [
       "-----Train:   0%|          | 0/250 [00:00<?, ?it/s]"
      ]
     },
     "metadata": {},
     "output_type": "display_data"
    },
    {
     "data": {
      "application/vnd.jupyter.widget-view+json": {
       "model_id": "ff79640d54ab4be8b36f0841f92ec092",
       "version_major": 2,
       "version_minor": 0
      },
      "text/plain": [
       "-------Val:   0%|          | 0/63 [00:00<?, ?it/s]"
      ]
     },
     "metadata": {},
     "output_type": "display_data"
    },
    {
     "name": "stdout",
     "output_type": "stream",
     "text": [
      "Epoch: 11 | Train Loss: 0.12321 | Train Acc: 0.9607 | Val Loss: 0.05112 | Val Acc: 0.9826\n",
      "\n",
      "\n",
      "Epoch: 12 ------------\n"
     ]
    },
    {
     "data": {
      "application/vnd.jupyter.widget-view+json": {
       "model_id": "4f5fad704d1441f18216048d5c30f41f",
       "version_major": 2,
       "version_minor": 0
      },
      "text/plain": [
       "-----Train:   0%|          | 0/250 [00:00<?, ?it/s]"
      ]
     },
     "metadata": {},
     "output_type": "display_data"
    },
    {
     "data": {
      "application/vnd.jupyter.widget-view+json": {
       "model_id": "3dbd0930b16540c89b7626f480dc03a1",
       "version_major": 2,
       "version_minor": 0
      },
      "text/plain": [
       "-------Val:   0%|          | 0/63 [00:00<?, ?it/s]"
      ]
     },
     "metadata": {},
     "output_type": "display_data"
    },
    {
     "name": "stdout",
     "output_type": "stream",
     "text": [
      "Epoch: 12 | Train Loss: 0.11291 | Train Acc: 0.9649 | Val Loss: 0.04388 | Val Acc: 0.9861\n",
      "Save checkpoint to runs\\classify\\checkpoints\\.checkpoint_6.pth\n",
      "\n",
      "\n",
      "Epoch: 13 ------------\n"
     ]
    },
    {
     "data": {
      "application/vnd.jupyter.widget-view+json": {
       "model_id": "b670ef5099e94345881283917979f32b",
       "version_major": 2,
       "version_minor": 0
      },
      "text/plain": [
       "-----Train:   0%|          | 0/250 [00:00<?, ?it/s]"
      ]
     },
     "metadata": {},
     "output_type": "display_data"
    },
    {
     "data": {
      "application/vnd.jupyter.widget-view+json": {
       "model_id": "33c5a3854b484d12b7e3342e91a99bc5",
       "version_major": 2,
       "version_minor": 0
      },
      "text/plain": [
       "-------Val:   0%|          | 0/63 [00:00<?, ?it/s]"
      ]
     },
     "metadata": {},
     "output_type": "display_data"
    },
    {
     "name": "stdout",
     "output_type": "stream",
     "text": [
      "Epoch: 13 | Train Loss: 0.11612 | Train Acc: 0.9625 | Val Loss: 0.04467 | Val Acc: 0.9871\n",
      "\n",
      "\n",
      "Epoch: 14 ------------\n"
     ]
    },
    {
     "data": {
      "application/vnd.jupyter.widget-view+json": {
       "model_id": "76f74e74583e4ff38eb682f1412d12b1",
       "version_major": 2,
       "version_minor": 0
      },
      "text/plain": [
       "-----Train:   0%|          | 0/250 [00:00<?, ?it/s]"
      ]
     },
     "metadata": {},
     "output_type": "display_data"
    },
    {
     "data": {
      "application/vnd.jupyter.widget-view+json": {
       "model_id": "fb31facdb9c54a10b8a1adac08c6e66e",
       "version_major": 2,
       "version_minor": 0
      },
      "text/plain": [
       "-------Val:   0%|          | 0/63 [00:00<?, ?it/s]"
      ]
     },
     "metadata": {},
     "output_type": "display_data"
    },
    {
     "name": "stdout",
     "output_type": "stream",
     "text": [
      "Epoch: 14 | Train Loss: 0.11484 | Train Acc: 0.9655 | Val Loss: 0.04246 | Val Acc: 0.9876\n",
      "Save checkpoint to runs\\classify\\checkpoints\\.checkpoint_7.pth\n",
      "\n",
      "\n",
      "Epoch: 15 ------------\n"
     ]
    },
    {
     "data": {
      "application/vnd.jupyter.widget-view+json": {
       "model_id": "79acf2c8be4642ad8292471efc27dc6e",
       "version_major": 2,
       "version_minor": 0
      },
      "text/plain": [
       "-----Train:   0%|          | 0/250 [00:00<?, ?it/s]"
      ]
     },
     "metadata": {},
     "output_type": "display_data"
    },
    {
     "data": {
      "application/vnd.jupyter.widget-view+json": {
       "model_id": "4471071720eb494dae009f1637da670a",
       "version_major": 2,
       "version_minor": 0
      },
      "text/plain": [
       "-------Val:   0%|          | 0/63 [00:00<?, ?it/s]"
      ]
     },
     "metadata": {},
     "output_type": "display_data"
    },
    {
     "name": "stdout",
     "output_type": "stream",
     "text": [
      "Epoch: 15 | Train Loss: 0.10059 | Train Acc: 0.9685 | Val Loss: 0.04262 | Val Acc: 0.9871\n",
      "\n",
      "\n",
      "Epoch: 16 ------------\n"
     ]
    },
    {
     "data": {
      "application/vnd.jupyter.widget-view+json": {
       "model_id": "fa403d7b30464bd4b570b995d9d84fdc",
       "version_major": 2,
       "version_minor": 0
      },
      "text/plain": [
       "-----Train:   0%|          | 0/250 [00:00<?, ?it/s]"
      ]
     },
     "metadata": {},
     "output_type": "display_data"
    },
    {
     "data": {
      "application/vnd.jupyter.widget-view+json": {
       "model_id": "0ae26658c2764c44b0d1637a1eb86db5",
       "version_major": 2,
       "version_minor": 0
      },
      "text/plain": [
       "-------Val:   0%|          | 0/63 [00:00<?, ?it/s]"
      ]
     },
     "metadata": {},
     "output_type": "display_data"
    },
    {
     "name": "stdout",
     "output_type": "stream",
     "text": [
      "Epoch: 16 | Train Loss: 0.10435 | Train Acc: 0.9667 | Val Loss: 0.04027 | Val Acc: 0.9891\n",
      "Save checkpoint to runs\\classify\\checkpoints\\.checkpoint_8.pth\n",
      "\n",
      "\n",
      "Epoch: 17 ------------\n"
     ]
    },
    {
     "data": {
      "application/vnd.jupyter.widget-view+json": {
       "model_id": "4e923cde6ae64f7798419dd702f40d44",
       "version_major": 2,
       "version_minor": 0
      },
      "text/plain": [
       "-----Train:   0%|          | 0/250 [00:00<?, ?it/s]"
      ]
     },
     "metadata": {},
     "output_type": "display_data"
    },
    {
     "data": {
      "application/vnd.jupyter.widget-view+json": {
       "model_id": "24a549022a54464b87b4a9e2323e07ef",
       "version_major": 2,
       "version_minor": 0
      },
      "text/plain": [
       "-------Val:   0%|          | 0/63 [00:00<?, ?it/s]"
      ]
     },
     "metadata": {},
     "output_type": "display_data"
    },
    {
     "name": "stdout",
     "output_type": "stream",
     "text": [
      "Epoch: 17 | Train Loss: 0.10874 | Train Acc: 0.9649 | Val Loss: 0.04200 | Val Acc: 0.9886\n",
      "\n",
      "\n",
      "Epoch: 18 ------------\n"
     ]
    },
    {
     "data": {
      "application/vnd.jupyter.widget-view+json": {
       "model_id": "aa4169a281b14cb4a930b4f724ef8b90",
       "version_major": 2,
       "version_minor": 0
      },
      "text/plain": [
       "-----Train:   0%|          | 0/250 [00:00<?, ?it/s]"
      ]
     },
     "metadata": {},
     "output_type": "display_data"
    },
    {
     "data": {
      "application/vnd.jupyter.widget-view+json": {
       "model_id": "303ab879c52c4ea88a0fcf9b21f1fbd7",
       "version_major": 2,
       "version_minor": 0
      },
      "text/plain": [
       "-------Val:   0%|          | 0/63 [00:00<?, ?it/s]"
      ]
     },
     "metadata": {},
     "output_type": "display_data"
    },
    {
     "name": "stdout",
     "output_type": "stream",
     "text": [
      "Epoch: 18 | Train Loss: 0.09971 | Train Acc: 0.9675 | Val Loss: 0.04036 | Val Acc: 0.9876\n",
      "Save checkpoint to runs\\classify\\checkpoints\\.checkpoint_9.pth\n",
      "\n",
      "\n",
      "Epoch: 19 ------------\n"
     ]
    },
    {
     "data": {
      "application/vnd.jupyter.widget-view+json": {
       "model_id": "19f05b512b324c12b0e544850dec5afc",
       "version_major": 2,
       "version_minor": 0
      },
      "text/plain": [
       "-----Train:   0%|          | 0/250 [00:00<?, ?it/s]"
      ]
     },
     "metadata": {},
     "output_type": "display_data"
    },
    {
     "data": {
      "application/vnd.jupyter.widget-view+json": {
       "model_id": "f25cd215ede1438a9a4caf4e04f24dd4",
       "version_major": 2,
       "version_minor": 0
      },
      "text/plain": [
       "-------Val:   0%|          | 0/63 [00:00<?, ?it/s]"
      ]
     },
     "metadata": {},
     "output_type": "display_data"
    },
    {
     "name": "stdout",
     "output_type": "stream",
     "text": [
      "Epoch: 19 | Train Loss: 0.09699 | Train Acc: 0.9707 | Val Loss: 0.03964 | Val Acc: 0.9891\n",
      "\n",
      "\n",
      "Epoch: 20 ------------\n"
     ]
    },
    {
     "data": {
      "application/vnd.jupyter.widget-view+json": {
       "model_id": "f140831ca53442be98801046a0b88ddf",
       "version_major": 2,
       "version_minor": 0
      },
      "text/plain": [
       "-----Train:   0%|          | 0/250 [00:00<?, ?it/s]"
      ]
     },
     "metadata": {},
     "output_type": "display_data"
    },
    {
     "data": {
      "application/vnd.jupyter.widget-view+json": {
       "model_id": "8ae905a6a7d749aba1a1977460d818e3",
       "version_major": 2,
       "version_minor": 0
      },
      "text/plain": [
       "-------Val:   0%|          | 0/63 [00:00<?, ?it/s]"
      ]
     },
     "metadata": {},
     "output_type": "display_data"
    },
    {
     "name": "stdout",
     "output_type": "stream",
     "text": [
      "Epoch: 20 | Train Loss: 0.09567 | Train Acc: 0.9686 | Val Loss: 0.03978 | Val Acc: 0.9886\n",
      "Save checkpoint to runs\\classify\\checkpoints\\.checkpoint_10.pth\n",
      "\n",
      "\n",
      "\n"
     ]
    },
    {
     "data": {
      "application/vnd.jupyter.widget-view+json": {
       "model_id": "bab33d82748542aeb47a2ae86f2587ad",
       "version_major": 2,
       "version_minor": 0
      },
      "text/plain": [
       "------Test:   0%|          | 0/32 [00:00<?, ?it/s]"
      ]
     },
     "metadata": {},
     "output_type": "display_data"
    },
    {
     "name": "stdout",
     "output_type": "stream",
     "text": [
      "[INFO] Saving model to: runs\\classify\\train1\n"
     ]
    },
    {
     "data": {
      "image/png": "[encoded data removed]",
      "text/plain": [
       "<Figure size 1500x700 with 2 Axes>"
      ]
     },
     "metadata": {},
     "output_type": "display_data"
    },
    {
     "data": {
      "image/png": "[encoded data removed]",
      "text/plain": [
       "<Figure size 1100x800 with 2 Axes>"
      ]
     },
     "metadata": {},
     "output_type": "display_data"
    }
   ],
   "source": [
    "from model import train\n",
    "\n",
    "if __name__ == '__main__':\n",
    "    config = {\n",
    "        'dataset' : {\n",
    "            'dataset_path':'./datasets/tomato',\n",
    "            'folder_train': 'train',\n",
    "            'folder_val': 'val',    \n",
    "            'folder_test': 'test',\n",
    "            'batch_size': 32,\n",
    "        },\n",
    "        'train_para': {\n",
    "            'pretrain_model_path': None,\n",
    "            'epochs': 20,\n",
    "            'optimize' : {\n",
    "                'learning_rate': 0.001,\n",
    "                'momentum': 0.9,\n",
    "                'weight_decay': 0.0001,\n",
    "            },\n",
    "            'lr_scheduler' : {\n",
    "                'step_size' : 5,\n",
    "                'gamma' : 0.5,\n",
    "            },\n",
    "            'save_checkpoint_freq' : 2,\n",
    "        },\n",
    "        'save_para': {\n",
    "            'model_name': 'model.pth',\n",
    "            'graph_loss_name': 'loss_acc.jpg',\n",
    "            'graph_confmat_name': 'confusion_matrix.jpg',\n",
    "            'info_file_name': 'info.json'\n",
    "        }\n",
    "    }\n",
    "\n",
    "    train.run(**config)"
   ]
  },
  {
   "cell_type": "code",
   "execution_count": null,
   "id": "6c9af3d9-df5c-4feb-ac7a-c4377da76ed7",
   "metadata": {},
   "outputs": [],
   "source": []
  },
  {
   "cell_type": "code",
   "execution_count": null,
   "id": "5ffb9425-6227-4228-93d1-09f8c92716b7",
   "metadata": {},
   "outputs": [],
   "source": []
  },
  {
   "cell_type": "code",
   "execution_count": null,
   "id": "bbdb61fd-6fdf-41d4-9d5d-8cb71e3ec8c7",
   "metadata": {},
   "outputs": [],
   "source": [
    "# %%writefile model/disease_detection.py\n",
    "import torch\n",
    "from torchvision import transforms\n",
    "\n",
    "import numpy as np\n",
    "from PIL import Image\n",
    "from pathlib import Path\n",
    "\n",
    "from model.model_builder import resnet50_model\n",
    "\n",
    "from pytorch_grad_cam import GradCAM, HiResCAM, ScoreCAM, GradCAMPlusPlus, AblationCAM, XGradCAM, EigenCAM, FullGrad\n",
    "from pytorch_grad_cam.utils.model_targets import ClassifierOutputTarget\n",
    "from pytorch_grad_cam.utils.image import show_cam_on_image\n",
    "import asyncio\n",
    "\n",
    "class AI_model:\n",
    "    def __init__(self, path_to_model: str):\n",
    "        self.device = 'cuda' if torch.cuda.is_available() else 'cpu'\n",
    "        \n",
    "        self.model, info_data = resnet50_model(pretrain_model_path= path_to_model)\n",
    "        self.class_names = info_data['class_names']\n",
    "\n",
    "        self.img_transform = transforms.Compose([\n",
    "            transforms.Resize(size= 224),\n",
    "            transforms.ToTensor()\n",
    "        ])\n",
    "\n",
    "        target_layers = [self.model.layer4[-1]]\n",
    "        # self.cam = GradCAM(model=self.model, target_layers=target_layers)\n",
    "        # self.cam = ScoreCAM(model=self.model, target_layers=target_layers)\n",
    "        # self.cam = HiResCAM(model=self.model, target_layers=target_layers)\n",
    "        # self.cam = GradCAMPlusPlus(model=self.model, target_layers=target_layers)\n",
    "        self.cam = AblationCAM(model=self.model, target_layers=target_layers)\n",
    "        \n",
    "    async def predict(self, img: Image):   \n",
    "        img_tensor = self.img_transform(img)\n",
    "        img_tensor_in_batch = img_tensor.unsqueeze(dim= 0)\n",
    "        \n",
    "        rgb_img = img_tensor.permute(1, 2, 0).numpy()\n",
    "        \n",
    "        \n",
    "        \n",
    "        self.model.eval()\n",
    "        with torch.inference_mode():\n",
    "            \n",
    "            \n",
    "            predict = self.model(img_tensor_in_batch)\n",
    "            soft_max_persent = torch.softmax(predict, dim= 1)\n",
    "            predicted_class = self.class_names[torch.argmax(predict, dim= 1)]\n",
    "\n",
    "            \n",
    "            \n",
    "            probability = (soft_max_persent[0, torch.argmax(predict, dim= 1)].item())\n",
    "            # print(predicted_class)\n",
    "            \n",
    "        targets = [ClassifierOutputTarget(torch.argmax(predict, dim= 1).item())]\n",
    "        grayscale_cam = self.cam(input_tensor=img_tensor_in_batch, targets= targets)\n",
    "        visualization = show_cam_on_image(rgb_img, grayscale_cam[0], use_rgb=True)\n",
    "\n",
    "        results = {\n",
    "            \"image\" : img,\n",
    "            \"predicted_image\" : Image.fromarray(visualization),\n",
    "            \"class_name\" : predicted_class,\n",
    "            \"class_prob\" : probability\n",
    "        }\n",
    "        return results\n",
    "        "
   ]
  },
  {
   "cell_type": "code",
   "execution_count": null,
   "id": "b970abb2-eab7-471f-9afd-15000ac61452",
   "metadata": {},
   "outputs": [],
   "source": [
    "from PIL import Image\n",
    "from pathlib import Path\n",
    "import random\n",
    "\n",
    "# from model.disease_detection import AI_model\n",
    "\n",
    "model = AI_model(path_to_model= './runs/classify/train1')\n",
    "\n",
    "val_path = Path('./datasets/tomato/val')\n",
    "imgs = list(val_path.glob(f'*/*.JPG'))"
   ]
  },
  {
   "cell_type": "code",
   "execution_count": null,
   "id": "f56a43d2-1975-4581-a467-6fc264369eff",
   "metadata": {},
   "outputs": [],
   "source": [
    "import matplotlib.pyplot as plt\n",
    "\n",
    "random_img = random.choice(imgs)\n",
    "print(random_img)\n",
    "img = Image.open(random_img)\n",
    "results = await model.predict(img)\n",
    "\n",
    "plt.figure(figsize=[7, 6])\n",
    "plt.subplot(1, 2, 1)\n",
    "plt.imshow(results['image'])\n",
    "plt.title(results['class_name'])\n",
    "plt.axis(\"off\")\n",
    "\n",
    "plt.subplot(1, 2, 2)\n",
    "plt.imshow(results['predicted_image'])\n",
    "plt.title(results['class_prob'])\n",
    "plt.axis(\"off\")"
   ]
  },
  {
   "cell_type": "code",
   "execution_count": null,
   "id": "3e93d192-253e-4f06-9183-64439b06e480",
   "metadata": {},
   "outputs": [],
   "source": [
    "# import os\n",
    "# from pathlib import Path\n",
    "# import random\n",
    "\n",
    "# def rename_class(path):\n",
    "#     class_names = os.listdir(path)\n",
    "\n",
    "#     for class_name in class_names:\n",
    "#         new_name = class_name.split('___')[1].replace(' ', '_')\n",
    "#         os.rename(path / class_name, path / new_name)\n",
    "#         # print(path / new_name)\n",
    "\n",
    "# def rename_img(path):\n",
    "#     class_names = os.listdir(path)\n",
    "\n",
    "#     for class_name in class_names:\n",
    "#         img_names = os.listdir(path / class_name)\n",
    "#         for img_name in img_names:\n",
    "#             extension = img_name[-4:]\n",
    "#             img_path = path / class_name / img_name\n",
    "#             new_img_path = path / class_name / (str(random.random())[2:] + extension)\n",
    "\n",
    "#             os.rename(img_path, new_img_path)\n",
    "#             # break\n",
    "# # if __name__ == '__main__':\n",
    "# datasets_path = Path('./datasets/tomato')\n",
    "# rename_class(datasets_path / 'train')\n",
    "# rename_class(datasets_path / 'val')\n",
    "\n",
    "# rename_img(datasets_path / 'train')\n",
    "# rename_img(datasets_path / 'val')\n"
   ]
  },
  {
   "cell_type": "code",
   "execution_count": null,
   "id": "a6518ddf-16f9-42ae-8ae4-39c50fb21597",
   "metadata": {},
   "outputs": [],
   "source": [
    "# import os\n",
    "# import glob\n",
    "# from pathlib import Path\n",
    "# import random\n",
    "# import shutil\n",
    "\n",
    "# os.rename('./datasets/tomato/val/', './datasets/tomato/test')\n",
    "\n",
    "# root = Path('./datasets/tomato/train/')\n",
    "# target_path = Path('./datasets/tomato/val')\n",
    "\n",
    "# target_path.mkdir(parents=True, exist_ok=True)\n",
    "# class_names = os.listdir(root)\n",
    "\n",
    "# for class_name in class_names:\n",
    "#     img_names = os.listdir(root / class_name)\n",
    "#     random_imgs = random.choices(img_names, k=200)\n",
    "    \n",
    "#     target = target_path / class_name\n",
    "#     target.mkdir(parents=True, exist_ok=True)\n",
    "\n",
    "#     random.shuffle(random_imgs)\n",
    "    \n",
    "#     for i in range(200):\n",
    "#         random_img = img_names[i]\n",
    "\n",
    "#         src = root / class_name / random_img\n",
    "#         des = target / random_img\n",
    "        \n",
    "#         shutil.move(src, des)"
   ]
  },
  {
   "cell_type": "code",
   "execution_count": null,
   "id": "760bc172-5fbe-4e7c-a10d-83492771765c",
   "metadata": {},
   "outputs": [],
   "source": []
  }
 ],
 "metadata": {
  "kernelspec": {
   "display_name": "Python 3 (ipykernel)",
   "language": "python",
   "name": "python3"
  },
  "language_info": {
   "codemirror_mode": {
    "name": "ipython",
    "version": 3
   },
   "file_extension": ".py",
   "mimetype": "text/x-python",
   "name": "python",
   "nbconvert_exporter": "python",
   "pygments_lexer": "ipython3",
   "version": "3.11.9"
  }
 },
 "nbformat": 4,
 "nbformat_minor": 5
}
