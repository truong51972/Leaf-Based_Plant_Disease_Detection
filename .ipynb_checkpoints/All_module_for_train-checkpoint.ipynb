{
 "cells": [
  {
   "cell_type": "markdown",
   "id": "649db50c-62de-4f64-96cb-6669ef759859",
   "metadata": {},
   "source": [
    "# Functions"
   ]
  },
  {
   "cell_type": "markdown",
   "id": "c0c70e68-ad2d-406c-a504-711f8e3f64a1",
   "metadata": {},
   "source": [
    "## model/data_setup"
   ]
  },
  {
   "cell_type": "code",
   "execution_count": 1,
   "id": "9b482125-f098-4e26-86fb-d95c0f6eae64",
   "metadata": {},
   "outputs": [
    {
     "name": "stdout",
     "output_type": "stream",
     "text": [
      "Overwriting model/data_setup.py\n"
     ]
    }
   ],
   "source": [
    "%%writefile model/data_setup.py\n",
    "import torch\n",
    "from torchvision.datasets import ImageFolder\n",
    "from torch.utils.data import DataLoader\n",
    "from torchvision import datasets, transforms\n",
    "\n",
    "from pathlib import Path\n",
    "\"\"\"\n",
    "Contain for setting updata with full func to create dataloader\n",
    "\"\"\"\n",
    "\n",
    "def create_dataloader(\n",
    "                    train_transform: transforms.Compose,\n",
    "                    val_transform: transforms.Compose,\n",
    "                    test_transform: transforms.Compose,\n",
    "                    **kwargs,\n",
    "                ):\n",
    "    \n",
    "    train_path = Path(kwargs['dataset']['train'])\n",
    "    val_path = Path(kwargs['dataset']['val'])\n",
    "    test_path = Path(kwargs['dataset']['test'])\n",
    "    \n",
    "    num_workers = 6\n",
    "    \n",
    "    train_data = ImageFolder(\n",
    "        root= train_path,\n",
    "        transform= train_transform\n",
    "    )\n",
    "    \n",
    "    val_data = ImageFolder(\n",
    "        root= val_path,\n",
    "        transform= val_transform\n",
    "    )\n",
    "\n",
    "    test_data = ImageFolder(\n",
    "        root= test_path,\n",
    "        transform= test_transform\n",
    "    )\n",
    "    \n",
    "    train_dataloader = DataLoader(\n",
    "        dataset= train_data,\n",
    "        batch_size= kwargs['dataset']['batch_size'],\n",
    "        num_workers=num_workers,\n",
    "        pin_memory= True,\n",
    "        persistent_workers= True,\n",
    "        shuffle= True\n",
    "    )\n",
    "    \n",
    "    val_dataloader = DataLoader(\n",
    "        dataset= val_data,\n",
    "        batch_size= kwargs['dataset']['batch_size'],\n",
    "        num_workers=num_workers,\n",
    "        pin_memory= True,\n",
    "        persistent_workers= True,\n",
    "        shuffle= False\n",
    "    )\n",
    "\n",
    "    test_dataloader = DataLoader(\n",
    "        dataset= test_data,\n",
    "        batch_size= kwargs['dataset']['batch_size'],\n",
    "        shuffle= False\n",
    "    )\n",
    "    class_names = train_data.classes\n",
    "    return train_dataloader, val_dataloader, test_dataloader, class_names"
   ]
  },
  {
   "cell_type": "markdown",
   "id": "c141c6b4-c89c-4431-bb54-efcadd053440",
   "metadata": {},
   "source": [
    "## model/model_builder"
   ]
  },
  {
   "cell_type": "code",
   "execution_count": 2,
   "id": "c359100c-6a05-4415-bf09-cf9d09ac6d78",
   "metadata": {},
   "outputs": [
    {
     "name": "stdout",
     "output_type": "stream",
     "text": [
      "Overwriting model/model_builder.py\n"
     ]
    }
   ],
   "source": [
    "%%writefile model/model_builder.py\n",
    "import torch\n",
    "from torch import nn\n",
    "from torchvision.models import efficientnet_b3, EfficientNet_B3_Weights\n",
    "from torchvision.models import efficientnet_v2_s, EfficientNet_V2_S_Weights\n",
    "from torchvision.models import resnet50, ResNet50_Weights\n",
    "from torchvision.models import resnet18, ResNet18_Weights\n",
    "from torchvision.models import vgg19, VGG19_Weights\n",
    "from torchvision.models import vgg16, VGG16_Weights\n",
    "\n",
    "from pathlib import Path\n",
    "import json\n",
    "\n",
    "def load_model(model_name: str=None, class_names: None|list = None, pretrain_model_path: None|str= None, device: str= 'cpu'):\n",
    "    info_data = None\n",
    "    \n",
    "    if pretrain_model_path is not None:\n",
    "        pretrain_model_path = Path(pretrain_model_path)\n",
    "\n",
    "        with open(pretrain_model_path / 'info.json', 'r') as f:\n",
    "            info_data = json.load(f)\n",
    "\n",
    "        class_names = info_data['class_names']\n",
    "        model_name = info_data['model']\n",
    "        \n",
    "    if model_name == 'resnet50':\n",
    "        weights = ResNet50_Weights.DEFAULT\n",
    "        model = resnet50(weights= weights).to(device)\n",
    "        \n",
    "        features= model.fc.in_features\n",
    "        model.fc = nn.Sequential(\n",
    "            nn.Linear(in_features=features, out_features=len(class_names), bias=True)\n",
    "        )\n",
    "    elif model_name == 'resnet18':\n",
    "        weights = ResNet18_Weights.DEFAULT\n",
    "        model = resnet18(weights= weights).to(device)\n",
    "        \n",
    "        features= model.fc.in_features\n",
    "        model.fc = nn.Sequential(\n",
    "            nn.Linear(in_features=features, out_features=len(class_names), bias=True)\n",
    "        )\n",
    "    elif model_name == 'vgg19':\n",
    "        weights = VGG19_Weights.DEFAULT\n",
    "        model = vgg19(weights= weights).to(device)\n",
    "        \n",
    "        features= model.classifier[-1].in_features\n",
    "        model.classifier[-1] = nn.Sequential(\n",
    "            nn.Linear(in_features=features, out_features=len(class_names), bias=True)\n",
    "        )\n",
    "    elif model_name == 'vgg16':\n",
    "        weights = VGG16_Weights.DEFAULT\n",
    "        model = vgg16(weights= weights).to(device)\n",
    "        \n",
    "        features= model.classifier[-1].in_features\n",
    "        model.classifier[-1] = nn.Sequential(\n",
    "            nn.Linear(in_features=features, out_features=len(class_names), bias=True)\n",
    "        )\n",
    "    elif model_name == 'effi_net_v2_s':\n",
    "        weights = EfficientNet_V2_S_Weights.DEFAULT\n",
    "        model = efficientnet_v2_s(weights= weights).to(device)\n",
    "        \n",
    "        features= model.classifier[-1].in_features\n",
    "        model.classifier[-1] = nn.Sequential(\n",
    "            nn.Linear(in_features=features, out_features=len(class_names), bias=True)\n",
    "        )\n",
    "        \n",
    "    if pretrain_model_path is not None:\n",
    "        model.load_state_dict(torch.load(f=pretrain_model_path / f'{model_name}.pth'))\n",
    "            \n",
    "    model = model.to(device)\n",
    "            \n",
    "    return model, info_data"
   ]
  },
  {
   "cell_type": "markdown",
   "id": "df169644-aeb9-400e-9d4c-559f64aa7bb6",
   "metadata": {},
   "source": [
    "## model/utils"
   ]
  },
  {
   "cell_type": "code",
   "execution_count": 3,
   "id": "3b7ee938-113a-465c-9f6a-bf4c62674528",
   "metadata": {},
   "outputs": [
    {
     "name": "stdout",
     "output_type": "stream",
     "text": [
      "Overwriting model/utils.py\n"
     ]
    }
   ],
   "source": [
    "%%writefile model/utils.py\n",
    "import os\n",
    "from pathlib import Path\n",
    "import torch\n",
    "import json\n",
    "import matplotlib.pyplot as plt\n",
    "import seaborn as sns\n",
    "import pandas as pd\n",
    "\n",
    "from sklearn.metrics import confusion_matrix, f1_score, precision_score, recall_score\n",
    "\n",
    "def plot_loss_curves(results: dict[str, list[float]]):\n",
    "    train_loss = results['train_loss']\n",
    "    val_loss = results['val_loss']\n",
    "    train_accuracy = results['train_acc']\n",
    "    val_accuracy = results['val_acc']\n",
    "\n",
    "    epochs = range(len(results['train_loss']))\n",
    "\n",
    "    plt.figure(figsize=(14, 5))\n",
    "\n",
    "    plt.subplot(1, 2, 1)\n",
    "    plt.plot(epochs, train_loss, label='train_loss')\n",
    "    plt.plot(epochs, val_loss, label='val_loss')\n",
    "    plt.title('Loss')\n",
    "    plt.xlabel('Epochs')\n",
    "    plt.legend()\n",
    "\n",
    "    plt.subplot(1, 2, 2)\n",
    "    plt.plot(epochs, train_accuracy, label='train_accuracy')\n",
    "    plt.plot(epochs, val_accuracy, label='val_accuracy')\n",
    "    plt.title('Accuracy')\n",
    "    plt.xlabel('Epochs')\n",
    "    plt.legend()\n",
    "    return plt\n",
    "\n",
    "def plot_confmat(class_names, test_results):\n",
    "    table = confusion_matrix(y_true=test_results['targets'], y_pred=test_results['preds'])\n",
    "    \n",
    "    plt.figure(figsize=(7.5, 5))\n",
    "    sns.heatmap(table, annot=True, fmt='.0f', cmap=plt.cm.Blues)\n",
    "    plt.title('Confusion Matrix')\n",
    "\n",
    "    plt.text(x=12.5, y=1, s= f'Class names:')\n",
    "    for i, class_name in enumerate(class_names):\n",
    "        plt.text(x=12.5, y=1.5+(i/2), s= f' {i}. {class_name[:15]}{\"...\" if len(class_name) > 15 else \"\"}')\n",
    "\n",
    "    plt.tight_layout()\n",
    "    return plt\n",
    "\n",
    "def plot_save_model(model: torch.nn.Module,\n",
    "                    model_name: str,\n",
    "                    results: dict[str, list[float]],\n",
    "                    class_names: list,\n",
    "                    device: str,\n",
    "                    is_save: bool):\n",
    "\n",
    "    df_test_results = pd.DataFrame(results['test_results'])\n",
    "    \n",
    "    if is_save:\n",
    "        target_dir = Path('runs/classify/')\n",
    "        target_dir.mkdir(parents=True, exist_ok=True)\n",
    "        \n",
    "        graph_loss_name = 'loss_acc.jpg'\n",
    "        graph_confmat_name = 'confusion_matrix.jpg'\n",
    "        info_file_name = 'info.json'\n",
    "        \n",
    "        train_paths = os.listdir(target_dir)\n",
    "        \n",
    "        i = 0\n",
    "        \n",
    "        while True:\n",
    "            train_path = f'train{i}'\n",
    "            if train_path not in train_paths:\n",
    "                break\n",
    "            else:\n",
    "                i += 1\n",
    "    \n",
    "        target_dir = target_dir / train_path\n",
    "        \n",
    "        target_dir_path = Path(target_dir)\n",
    "        target_dir_path.mkdir(parents=True,exist_ok=True)\n",
    "        \n",
    "        model_save_path = target_dir_path / (model_name + '.pth')\n",
    "        graph_loss_save_path = target_dir_path / graph_loss_name\n",
    "        graph_confmat_save_path = target_dir_path / graph_confmat_name\n",
    "        info_save_path = target_dir_path / info_file_name\n",
    "\n",
    "        print(f\"[INFO] Saving model to: {target_dir}\")\n",
    "        \n",
    "        info_data = {\n",
    "            'model': model_name,\n",
    "            \"class_names\" : class_names,\n",
    "            \"results\" : results\n",
    "        }\n",
    "        \n",
    "        with open(info_save_path, 'w') as f:\n",
    "            json.dump(info_data, f, indent=4)\n",
    "    \n",
    "    graph_loss = plot_loss_curves(results)\n",
    "    if is_save: graph_loss.savefig(graph_loss_save_path)\n",
    "        \n",
    "    graph_confmat = plot_confmat(class_names=class_names, test_results= results['test_results'])\n",
    "    if is_save: graph_confmat.savefig(graph_confmat_save_path)\n",
    "    \n",
    "    if is_save: torch.save(obj=model.state_dict(), f=model_save_path)\n",
    "\n",
    "def save_checkpoint(model: torch.nn.Module, num: int):\n",
    "    target_path = Path('runs/classify/')\n",
    "    target_path.mkdir(parents=True, exist_ok=True)\n",
    "\n",
    "    checkpoint_dir = target_path / 'checkpoints'\n",
    "    checkpoint_dir.mkdir(parents=True, exist_ok=True)\n",
    "\n",
    "    checkpoint_names = os.listdir(checkpoint_dir)\n",
    "    \n",
    "    checkpoint_name = f'.checkpoint_{num}.pth'\n",
    "\n",
    "    checkpoint_path = checkpoint_dir / checkpoint_name\n",
    "    torch.save(obj=model.state_dict(), f=checkpoint_path)\n",
    "\n",
    "    print(f'Save checkpoint to {checkpoint_path}')"
   ]
  },
  {
   "cell_type": "markdown",
   "id": "327a64c8-343f-494c-bea0-c0ef03557139",
   "metadata": {},
   "source": [
    "## model/engine"
   ]
  },
  {
   "cell_type": "code",
   "execution_count": 4,
   "id": "3e06eca4-adf7-4d57-b122-1ce232052503",
   "metadata": {},
   "outputs": [
    {
     "name": "stdout",
     "output_type": "stream",
     "text": [
      "Overwriting model/engine.py\n"
     ]
    }
   ],
   "source": [
    "%%writefile model/engine.py\n",
    "import torch\n",
    "from torchmetrics import Accuracy\n",
    "from tqdm.auto import tqdm\n",
    "from model.utils import save_checkpoint\n",
    "\n",
    "def __train(model: torch.nn.Module,\n",
    "            dataloader: torch.utils.data.DataLoader,\n",
    "            loss_func: torch.nn.Module,\n",
    "            optimizer: torch.optim.Optimizer,\n",
    "            mectric_func: Accuracy,\n",
    "            verbose: bool,\n",
    "            device: str):\n",
    "    \n",
    "    train_loss = 0\n",
    "    train_acc = 0\n",
    "    \n",
    "    model.train()\n",
    "\n",
    "    for _, (X, y) in enumerate(tqdm(dataloader, desc= '-----Train', disable= (not verbose))):\n",
    "        X, y = X.to(device), y.to(device)\n",
    "\n",
    "        y_pred = model(X)\n",
    "        loss = loss_func(y_pred, y)\n",
    "\n",
    "        train_loss += loss.item()\n",
    "\n",
    "        optimizer.zero_grad()\n",
    "        loss.backward()\n",
    "\n",
    "        optimizer.step()\n",
    "        y_pred_class = torch.argmax(torch.softmax(y_pred, dim= 1), dim= 1)\n",
    "        train_acc += mectric_func(y_pred, y).item()\n",
    "\n",
    "    train_loss /= len(dataloader)\n",
    "    train_acc /= len(dataloader)\n",
    "    \n",
    "    return train_loss, train_acc\n",
    "\n",
    "def __val(model: torch.nn.Module,\n",
    "           dataloader: torch.utils.data.DataLoader,\n",
    "           loss_func: torch.nn.Module,\n",
    "           mectric_func: Accuracy,\n",
    "           verbose: bool,\n",
    "           device: str):\n",
    "\n",
    "    val_loss = 0\n",
    "    val_acc = 0\n",
    "    \n",
    "    model.eval()\n",
    "    \n",
    "    with torch.inference_mode():\n",
    "        for _, (X, y) in enumerate(tqdm(dataloader, desc= '-------Val', disable= (not verbose))):\n",
    "            X, y = X.to(device), y.to(device)\n",
    "            \n",
    "            y_pred = model(X)\n",
    "            loss = loss_func(y_pred, y)\n",
    "            \n",
    "            val_loss += loss.item()\n",
    "            \n",
    "            y_pred_class = torch.argmax(torch.softmax(y_pred, dim= 1), dim= 1)\n",
    "            val_acc += mectric_func(y_pred, y).item()\n",
    "\n",
    "        val_loss /= len(dataloader)\n",
    "        val_acc /= len(dataloader)\n",
    "        \n",
    "    return val_loss, val_acc\n",
    "\n",
    "def __test(model: torch.nn.Module,\n",
    "           dataloader: torch.utils.data.DataLoader,\n",
    "           verbose: bool,\n",
    "           device: str):\n",
    "    \n",
    "    model.eval()\n",
    "    target = torch.tensor([]).to(device)\n",
    "    preds = torch.tensor([]).to(device)\n",
    "    score = torch.tensor([]).to(device)\n",
    "    \n",
    "    with torch.inference_mode():\n",
    "        for _, (X, y) in enumerate(tqdm(dataloader, desc= '------Test', disable= (not verbose))):\n",
    "            X, y = X.to(device), y.to(device)\n",
    "\n",
    "            \n",
    "            y_pred = model(X)\n",
    "\n",
    "            y_probs = torch.softmax(y_pred, dim= 1)\n",
    "            y_pred_class = torch.argmax(torch.softmax(y_pred, dim= 1), dim= 1)\n",
    "\n",
    "            y_pred_scores = torch.max(y_probs, dim= 1)[0]\n",
    "\n",
    "            target = torch.cat((target, y), dim= 0)\n",
    "            preds = torch.cat((preds, y_pred_class), dim= 0)\n",
    "            score = torch.cat((score, y_pred_scores), dim= 0)\n",
    "\n",
    "    test_results = {\n",
    "        'preds' : preds.tolist(),\n",
    "        'targets' : target.tolist(),\n",
    "        'scores' : score.tolist()\n",
    "    }\n",
    "\n",
    "    return test_results\n",
    "\n",
    "def train(model: torch.nn.Module,\n",
    "          train_dataloader: torch.utils.data.DataLoader,\n",
    "          val_dataloader: torch.utils.data.DataLoader,\n",
    "          loss_func: torch.nn.Module,\n",
    "          optimizer: torch.optim.Optimizer,\n",
    "          lr_scheduler: torch.optim.lr_scheduler.LRScheduler,\n",
    "          mectric_funcs: Accuracy,\n",
    "          epochs: int,\n",
    "          info_data: list,\n",
    "          save_checkpoint_freq: int,\n",
    "          verbose: bool,\n",
    "          device: str):\n",
    "    \n",
    "    temp_model_state_dict = model.state_dict()\n",
    "    \n",
    "    if info_data is None:\n",
    "        results = {\n",
    "            'train_loss': [],\n",
    "            'train_acc': [],\n",
    "            'val_loss': [],\n",
    "            'val_acc': [],\n",
    "            'test_results' : {}\n",
    "        }\n",
    "    else:\n",
    "        results = info_data['results']\n",
    "    \n",
    "    if epochs <= 0: return results\n",
    "        \n",
    "    try:\n",
    "        torch.manual_seed(42) \n",
    "        torch.cuda.manual_seed(42)\n",
    "        for epoch in tqdm(range(epochs), desc= 'Training', disable=(not verbose)):\n",
    "            if (verbose):\n",
    "                print(f\"\\n\\nEpoch: {epoch+1:2} ------------\")\n",
    "            train_loss, train_acc = __train(model=model,\n",
    "                                            dataloader=train_dataloader,\n",
    "                                            loss_func=loss_func,\n",
    "                                            optimizer=optimizer,\n",
    "                                            mectric_func=mectric_funcs,\n",
    "                                            verbose= verbose,\n",
    "                                            device= device)\n",
    "            lr_scheduler.step()\n",
    "            val_loss, val_acc = __val(model=model,\n",
    "                                    dataloader=val_dataloader,\n",
    "                                    loss_func=loss_func,\n",
    "                                    mectric_func=mectric_funcs,\n",
    "                                    verbose= verbose,\n",
    "                                    device= device)\n",
    "            \n",
    "            print(f\"Epoch: {epoch+1:2} | Train Loss: {train_loss:.5f} | Train Acc: {train_acc*100:.4f} | Val Loss: {val_loss:.5f} | Val Acc: {val_acc*100:.4f}\")\n",
    "            results[\"train_loss\"].append(train_loss)\n",
    "            results[\"train_acc\"].append(train_acc)\n",
    "            results[\"val_loss\"].append(val_loss)\n",
    "            results[\"val_acc\"].append(val_acc)\n",
    "    \n",
    "            if (save_checkpoint_freq != 0) and ((epoch+1) % save_checkpoint_freq == 0):\n",
    "                save_checkpoint(model= model, num= int((epoch+1) / save_checkpoint_freq))\n",
    "                \n",
    "            temp_model_state_dict = model.state_dict()\n",
    "    except KeyboardInterrupt:\n",
    "        print('\\nStop trainning')\n",
    "        model.load_state_dict(temp_model_state_dict)\n",
    "   \n",
    "    print('\\n\\n')\n",
    "    \n",
    "    return results\n",
    "    \n",
    "def test(model: torch.nn.Module,\n",
    "          test_dataloader: torch.utils.data.DataLoader,\n",
    "          results: dict,\n",
    "          verbose: bool,\n",
    "          device: str):\n",
    "    \n",
    "    results[\"test_results\"] = __test(model=model,\n",
    "                                     dataloader=test_dataloader,\n",
    "                                     verbose= verbose,\n",
    "                                     device= device)\n",
    "    return results"
   ]
  },
  {
   "cell_type": "markdown",
   "id": "97ec3de5-6675-47cc-ba0a-e5571e4346fe",
   "metadata": {},
   "source": [
    "## model/train"
   ]
  },
  {
   "cell_type": "code",
   "execution_count": 3,
   "id": "9c48a854-20c5-4a0a-b2e8-fd24e14989fc",
   "metadata": {
    "scrolled": true
   },
   "outputs": [],
   "source": [
    "# %%writefile model/train.py\n",
    "import torch\n",
    "from torch import nn\n",
    "from torchvision import transforms\n",
    "\n",
    "from pathlib import Path\n",
    "from torchmetrics import Accuracy, ConfusionMatrix\n",
    "\n",
    "from model.data_setup import create_dataloader\n",
    "from model.engine import train, test\n",
    "from model.utils import plot_save_model\n",
    "from model.model_builder import load_model\n",
    "\n",
    "def run(**kwargs):\n",
    "    device = 'cuda' if torch.cuda.is_available() else 'cpu'\n",
    "    # device = 'cpu'\n",
    "    print(f\"Device: '{device}'\")\n",
    "    \n",
    "    torch.cuda.empty_cache()\n",
    "    \n",
    "    train_transforms_data = transforms.Compose([\n",
    "        transforms.RandomResizedCrop(size=(224, 224), antialias=True),\n",
    "        transforms.RandomHorizontalFlip(p=0.5),\n",
    "        transforms.RandomVerticalFlip(p=0.5),\n",
    "        transforms.GaussianBlur(kernel_size=(3, 3), sigma=(0.1, 1.0)),\n",
    "        transforms.transforms.ColorJitter(brightness= [0.9, 1.1], contrast= [0.9, 1.1]),\n",
    "        transforms.ToTensor(),\n",
    "        # transforms.Normalize((0.1256, 0.1557, 0.0972), (0.1881, 0.2228, 0.1511)),\n",
    "    ])\n",
    "    \n",
    "    val_transforms_data = transforms.Compose([\n",
    "        transforms.Resize(size= 224),\n",
    "        transforms.ToTensor(),\n",
    "        # transforms.Normalize((0.1256, 0.1557, 0.0972), (0.1881, 0.2228, 0.1511)),\n",
    "    ])\n",
    "\n",
    "    test_transforms_data = transforms.Compose([\n",
    "        transforms.Resize(size= 224),\n",
    "        transforms.ToTensor(),\n",
    "        # transforms.Normalize((0.1256, 0.1557, 0.0972), (0.1881, 0.2228, 0.1511)),\n",
    "    ])\n",
    "    \n",
    "    train_dataloader, val_dataloader, test_dataloader, class_names = create_dataloader(train_transform=train_transforms_data,\n",
    "                                                                                      val_transform=val_transforms_data,\n",
    "                                                                                      test_transform=test_transforms_data,\n",
    "                                                                                      **kwargs)\n",
    "\n",
    "    model_name = kwargs['model']\n",
    "    pretrain_model_path= kwargs['train_para']['pretrain_model_path']\n",
    "    model, info_data = load_model(model_name= model_name, class_names= class_names, pretrain_model_path= pretrain_model_path, device= device)\n",
    "    \n",
    "    loss_func = nn.CrossEntropyLoss()\n",
    "\n",
    "    lr = kwargs['train_para']['optimize']['learning_rate']\n",
    "    momentum = kwargs['train_para']['optimize']['momentum']\n",
    "    weight_decay = kwargs['train_para']['optimize']['weight_decay']\n",
    "    optimizer = torch.optim.SGD(params= model.parameters(), lr=lr, momentum=momentum, weight_decay=weight_decay)\n",
    "    \n",
    "    accur = Accuracy(task='multiclass', num_classes= len(class_names)).to(device)\n",
    "\n",
    "    step_size = kwargs['train_para']['lr_scheduler']['step_size']\n",
    "    gamma = kwargs['train_para']['lr_scheduler']['gamma']\n",
    "    lr_scheduler = torch.optim.lr_scheduler.StepLR(\n",
    "        optimizer,\n",
    "        step_size= step_size,\n",
    "        gamma= gamma\n",
    "    )\n",
    "\n",
    "    epochs= kwargs['train_para']['epochs']\n",
    "    save_checkpoint_freq= kwargs['train_para']['save_checkpoint_freq']\n",
    "    verbose= kwargs['train_para']['verbose']\n",
    "    \n",
    "    results = train(\n",
    "            model= model,\n",
    "            train_dataloader= train_dataloader,\n",
    "            val_dataloader= val_dataloader,\n",
    "            loss_func= loss_func,\n",
    "            optimizer= optimizer,\n",
    "            lr_scheduler= lr_scheduler,\n",
    "            mectric_funcs= accur,\n",
    "            epochs= epochs,\n",
    "            info_data = info_data,\n",
    "            save_checkpoint_freq= save_checkpoint_freq,\n",
    "            verbose= verbose,\n",
    "            device= device,\n",
    "    )\n",
    "\n",
    "    results = test(model=model,\n",
    "                  test_dataloader=test_dataloader,\n",
    "                  results=results,\n",
    "                  verbose= verbose,\n",
    "                  device= device)\n",
    "\n",
    "    is_save = True if epochs > 0 else False\n",
    "    plot_save_model(\n",
    "        model= model,\n",
    "        model_name= model_name,\n",
    "        results= results,\n",
    "        class_names= class_names,\n",
    "        is_save= is_save,\n",
    "        device= device\n",
    "    )\n",
    "    \n",
    "    torch.cuda.empty_cache()"
   ]
  },
  {
   "cell_type": "markdown",
   "id": "bec65a6f-af62-4916-aea2-d4288777dba8",
   "metadata": {},
   "source": [
    "# Train"
   ]
  },
  {
   "cell_type": "code",
   "execution_count": 4,
   "id": "8345f941-bdbd-4d02-83db-2c6f90942dba",
   "metadata": {},
   "outputs": [
    {
     "name": "stdout",
     "output_type": "stream",
     "text": [
      "Device: 'cuda'\n"
     ]
    },
    {
     "name": "stderr",
     "output_type": "stream",
     "text": [
      "Downloading: \"https://download.pytorch.org/models/efficientnet_v2_s-dd5fe13b.pth\" to C:\\Users\\tranq/.cache\\torch\\hub\\checkpoints\\efficientnet_v2_s-dd5fe13b.pth\n",
      "100%|████████████████████████████████████████████████████████████████████████████████████████████████████████████| 82.7M/82.7M [00:07<00:00, 11.6MB/s]\n"
     ]
    },
    {
     "data": {
      "application/vnd.jupyter.widget-view+json": {
       "model_id": "8c589ebe97ca440389e43ee04dee038d",
       "version_major": 2,
       "version_minor": 0
      },
      "text/plain": [
       "Training:   0%|          | 0/20 [00:00<?, ?it/s]"
      ]
     },
     "metadata": {},
     "output_type": "display_data"
    },
    {
     "name": "stdout",
     "output_type": "stream",
     "text": [
      "\n",
      "\n",
      "Epoch:  1 ------------\n"
     ]
    },
    {
     "data": {
      "application/vnd.jupyter.widget-view+json": {
       "model_id": "e0b68903bb6c433cb8aa73208e139277",
       "version_major": 2,
       "version_minor": 0
      },
      "text/plain": [
       "-----Train:   0%|          | 0/250 [00:19<?, ?it/s]"
      ]
     },
     "metadata": {},
     "output_type": "display_data"
    },
    {
     "data": {
      "application/vnd.jupyter.widget-view+json": {
       "model_id": "92c75132679d4f8ead54ac7679524c65",
       "version_major": 2,
       "version_minor": 0
      },
      "text/plain": [
       "-------Val:   0%|          | 0/63 [00:19<?, ?it/s]"
      ]
     },
     "metadata": {},
     "output_type": "display_data"
    },
    {
     "name": "stdout",
     "output_type": "stream",
     "text": [
      "Epoch:  1 | Train Loss: 1.05176 | Train Acc: 67.1980 | Val Loss: 0.29363 | Val Acc: 90.2282\n",
      "\n",
      "\n",
      "Epoch:  2 ------------\n"
     ]
    },
    {
     "data": {
      "application/vnd.jupyter.widget-view+json": {
       "model_id": "f9e7d46962c64536be294f8db74d4def",
       "version_major": 2,
       "version_minor": 0
      },
      "text/plain": [
       "-----Train:   0%|          | 0/250 [00:00<?, ?it/s]"
      ]
     },
     "metadata": {},
     "output_type": "display_data"
    },
    {
     "data": {
      "application/vnd.jupyter.widget-view+json": {
       "model_id": "62f48ffcdc96478ea6036207e343d5cb",
       "version_major": 2,
       "version_minor": 0
      },
      "text/plain": [
       "-------Val:   0%|          | 0/63 [00:00<?, ?it/s]"
      ]
     },
     "metadata": {},
     "output_type": "display_data"
    },
    {
     "name": "stdout",
     "output_type": "stream",
     "text": [
      "Epoch:  2 | Train Loss: 0.31326 | Train Acc: 89.4363 | Val Loss: 0.13843 | Val Acc: 95.4861\n",
      "\n",
      "\n",
      "Epoch:  3 ------------\n"
     ]
    },
    {
     "data": {
      "application/vnd.jupyter.widget-view+json": {
       "model_id": "2b84767c7899421c91c0f4999b1a3d70",
       "version_major": 2,
       "version_minor": 0
      },
      "text/plain": [
       "-----Train:   0%|          | 0/250 [00:00<?, ?it/s]"
      ]
     },
     "metadata": {},
     "output_type": "display_data"
    },
    {
     "data": {
      "application/vnd.jupyter.widget-view+json": {
       "model_id": "9401761395f84db0af105212225f51ec",
       "version_major": 2,
       "version_minor": 0
      },
      "text/plain": [
       "-------Val:   0%|          | 0/63 [00:00<?, ?it/s]"
      ]
     },
     "metadata": {},
     "output_type": "display_data"
    },
    {
     "name": "stdout",
     "output_type": "stream",
     "text": [
      "Epoch:  3 | Train Loss: 0.25102 | Train Acc: 91.6621 | Val Loss: 0.09891 | Val Acc: 96.8750\n",
      "\n",
      "\n",
      "Epoch:  4 ------------\n"
     ]
    },
    {
     "data": {
      "application/vnd.jupyter.widget-view+json": {
       "model_id": "0a30905f96c94a099185d4b58369ec5d",
       "version_major": 2,
       "version_minor": 0
      },
      "text/plain": [
       "-----Train:   0%|          | 0/250 [00:00<?, ?it/s]"
      ]
     },
     "metadata": {},
     "output_type": "display_data"
    },
    {
     "data": {
      "application/vnd.jupyter.widget-view+json": {
       "model_id": "c510270c833649f891acb31ae9d917fc",
       "version_major": 2,
       "version_minor": 0
      },
      "text/plain": [
       "-------Val:   0%|          | 0/63 [00:00<?, ?it/s]"
      ]
     },
     "metadata": {},
     "output_type": "display_data"
    },
    {
     "name": "stdout",
     "output_type": "stream",
     "text": [
      "Epoch:  4 | Train Loss: 0.19968 | Train Acc: 93.3363 | Val Loss: 0.07286 | Val Acc: 97.6190\n",
      "\n",
      "\n",
      "Epoch:  5 ------------\n"
     ]
    },
    {
     "data": {
      "application/vnd.jupyter.widget-view+json": {
       "model_id": "49e611ecaf404865bae0ea947735390c",
       "version_major": 2,
       "version_minor": 0
      },
      "text/plain": [
       "-----Train:   0%|          | 0/250 [00:00<?, ?it/s]"
      ]
     },
     "metadata": {},
     "output_type": "display_data"
    },
    {
     "data": {
      "application/vnd.jupyter.widget-view+json": {
       "model_id": "f8bd382263be491cbf93c59974191170",
       "version_major": 2,
       "version_minor": 0
      },
      "text/plain": [
       "-------Val:   0%|          | 0/63 [00:00<?, ?it/s]"
      ]
     },
     "metadata": {},
     "output_type": "display_data"
    },
    {
     "name": "stdout",
     "output_type": "stream",
     "text": [
      "Epoch:  5 | Train Loss: 0.17906 | Train Acc: 94.1117 | Val Loss: 0.06985 | Val Acc: 97.4702\n",
      "\n",
      "\n",
      "Epoch:  6 ------------\n"
     ]
    },
    {
     "data": {
      "application/vnd.jupyter.widget-view+json": {
       "model_id": "6c2365723f264141ac2ffe6dd70af437",
       "version_major": 2,
       "version_minor": 0
      },
      "text/plain": [
       "-----Train:   0%|          | 0/250 [00:00<?, ?it/s]"
      ]
     },
     "metadata": {},
     "output_type": "display_data"
    },
    {
     "data": {
      "application/vnd.jupyter.widget-view+json": {
       "model_id": "83f5e2d69d9e4ed8aaa47fa2dfae3fea",
       "version_major": 2,
       "version_minor": 0
      },
      "text/plain": [
       "-------Val:   0%|          | 0/63 [00:00<?, ?it/s]"
      ]
     },
     "metadata": {},
     "output_type": "display_data"
    },
    {
     "name": "stdout",
     "output_type": "stream",
     "text": [
      "Epoch:  6 | Train Loss: 0.15993 | Train Acc: 94.7742 | Val Loss: 0.06200 | Val Acc: 98.1647\n",
      "\n",
      "\n",
      "Epoch:  7 ------------\n"
     ]
    },
    {
     "data": {
      "application/vnd.jupyter.widget-view+json": {
       "model_id": "b6214ff888954d4792a7e1fd5003fd2d",
       "version_major": 2,
       "version_minor": 0
      },
      "text/plain": [
       "-----Train:   0%|          | 0/250 [00:00<?, ?it/s]"
      ]
     },
     "metadata": {},
     "output_type": "display_data"
    },
    {
     "data": {
      "application/vnd.jupyter.widget-view+json": {
       "model_id": "4756690f8b50453db8e6af1188f25735",
       "version_major": 2,
       "version_minor": 0
      },
      "text/plain": [
       "-------Val:   0%|          | 0/63 [00:00<?, ?it/s]"
      ]
     },
     "metadata": {},
     "output_type": "display_data"
    },
    {
     "name": "stdout",
     "output_type": "stream",
     "text": [
      "Epoch:  7 | Train Loss: 0.14549 | Train Acc: 95.1496 | Val Loss: 0.05438 | Val Acc: 98.4127\n",
      "\n",
      "\n",
      "Epoch:  8 ------------\n"
     ]
    },
    {
     "data": {
      "application/vnd.jupyter.widget-view+json": {
       "model_id": "ec592e50182b45b3b8e00aa0d76fe8eb",
       "version_major": 2,
       "version_minor": 0
      },
      "text/plain": [
       "-----Train:   0%|          | 0/250 [00:00<?, ?it/s]"
      ]
     },
     "metadata": {},
     "output_type": "display_data"
    },
    {
     "data": {
      "application/vnd.jupyter.widget-view+json": {
       "model_id": "b02e547a94854c2a9b4115cba57b7770",
       "version_major": 2,
       "version_minor": 0
      },
      "text/plain": [
       "-------Val:   0%|          | 0/63 [00:00<?, ?it/s]"
      ]
     },
     "metadata": {},
     "output_type": "display_data"
    },
    {
     "name": "stdout",
     "output_type": "stream",
     "text": [
      "Epoch:  8 | Train Loss: 0.12202 | Train Acc: 96.0000 | Val Loss: 0.07288 | Val Acc: 97.8671\n",
      "\n",
      "\n",
      "Epoch:  9 ------------\n"
     ]
    },
    {
     "data": {
      "application/vnd.jupyter.widget-view+json": {
       "model_id": "1d347b8c631a415c824b46b821cd2e98",
       "version_major": 2,
       "version_minor": 0
      },
      "text/plain": [
       "-----Train:   0%|          | 0/250 [00:00<?, ?it/s]"
      ]
     },
     "metadata": {},
     "output_type": "display_data"
    },
    {
     "data": {
      "application/vnd.jupyter.widget-view+json": {
       "model_id": "9fd9e49e15414b339416bc8099a12acf",
       "version_major": 2,
       "version_minor": 0
      },
      "text/plain": [
       "-------Val:   0%|          | 0/63 [00:00<?, ?it/s]"
      ]
     },
     "metadata": {},
     "output_type": "display_data"
    },
    {
     "name": "stdout",
     "output_type": "stream",
     "text": [
      "Epoch:  9 | Train Loss: 0.13171 | Train Acc: 95.3859 | Val Loss: 0.05537 | Val Acc: 98.2143\n",
      "\n",
      "\n",
      "Epoch: 10 ------------\n"
     ]
    },
    {
     "data": {
      "application/vnd.jupyter.widget-view+json": {
       "model_id": "3cb002592d484426964e0a88cb96afc9",
       "version_major": 2,
       "version_minor": 0
      },
      "text/plain": [
       "-----Train:   0%|          | 0/250 [00:00<?, ?it/s]"
      ]
     },
     "metadata": {},
     "output_type": "display_data"
    },
    {
     "data": {
      "application/vnd.jupyter.widget-view+json": {
       "model_id": "685e4a490d4a47beaf71433a4688a33a",
       "version_major": 2,
       "version_minor": 0
      },
      "text/plain": [
       "-------Val:   0%|          | 0/63 [00:00<?, ?it/s]"
      ]
     },
     "metadata": {},
     "output_type": "display_data"
    },
    {
     "name": "stdout",
     "output_type": "stream",
     "text": [
      "Epoch: 10 | Train Loss: 0.12201 | Train Acc: 95.9121 | Val Loss: 0.05415 | Val Acc: 98.2143\n",
      "\n",
      "\n",
      "Epoch: 11 ------------\n"
     ]
    },
    {
     "data": {
      "application/vnd.jupyter.widget-view+json": {
       "model_id": "6ee6bed7d205491c99b6b951221e68bf",
       "version_major": 2,
       "version_minor": 0
      },
      "text/plain": [
       "-----Train:   0%|          | 0/250 [00:00<?, ?it/s]"
      ]
     },
     "metadata": {},
     "output_type": "display_data"
    },
    {
     "name": "stdout",
     "output_type": "stream",
     "text": [
      "\n",
      "Stop trainning\n",
      "\n",
      "\n",
      "\n"
     ]
    },
    {
     "data": {
      "application/vnd.jupyter.widget-view+json": {
       "model_id": "c1f8bdddca934e7da55b730347b6b96b",
       "version_major": 2,
       "version_minor": 0
      },
      "text/plain": [
       "------Test:   0%|          | 0/32 [00:00<?, ?it/s]"
      ]
     },
     "metadata": {},
     "output_type": "display_data"
    },
    {
     "name": "stdout",
     "output_type": "stream",
     "text": [
      "[INFO] Saving model to: runs\\classify\\train6\n"
     ]
    },
    {
     "data": {
      "image/png": "[encoded data removed]",
      "text/plain": [
       "<Figure size 1400x500 with 2 Axes>"
      ]
     },
     "metadata": {},
     "output_type": "display_data"
    },
    {
     "data": {
      "image/png": "[encoded data removed]",
      "text/plain": [
       "<Figure size 750x500 with 2 Axes>"
      ]
     },
     "metadata": {},
     "output_type": "display_data"
    }
   ],
   "source": [
    "# from model import train\n",
    "\n",
    "if __name__ == '__main__':\n",
    "    config = {\n",
    "        'dataset' : {\n",
    "            'train': './datasets/tomato_rembg/train',\n",
    "            'val': './datasets/tomato_rembg/val',    \n",
    "            'test': './datasets/tomato_rembg/test',\n",
    "            'batch_size': 32,\n",
    "        },\n",
    "        'model': 'effi_net_v2_s',\n",
    "        'train_para': {\n",
    "            'pretrain_model_path': None,\n",
    "            'epochs': 20,\n",
    "            'optimize' : {\n",
    "                'learning_rate': 0.002,\n",
    "                'momentum': 0.9,\n",
    "                'weight_decay': 0.00001,\n",
    "            },\n",
    "            'lr_scheduler' : {\n",
    "                'step_size' : 2,\n",
    "                'gamma' : 0.75,\n",
    "            },\n",
    "            'save_checkpoint_freq' : 0,\n",
    "            'verbose': True\n",
    "        },\n",
    "    }\n",
    "\n",
    "    # train.run(**config)\n",
    "    run(**config)"
   ]
  }
 ],
 "metadata": {
  "kernelspec": {
   "display_name": "Python 3 (ipykernel)",
   "language": "python",
   "name": "python3"
  },
  "language_info": {
   "codemirror_mode": {
    "name": "ipython",
    "version": 3
   },
   "file_extension": ".py",
   "mimetype": "text/x-python",
   "name": "python",
   "nbconvert_exporter": "python",
   "pygments_lexer": "ipython3",
   "version": "3.11.9"
  }
 },
 "nbformat": 4,
 "nbformat_minor": 5
}
