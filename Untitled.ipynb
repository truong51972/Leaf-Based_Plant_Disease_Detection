{
 "cells": [
  {
   "cell_type": "code",
   "execution_count": 9,
   "id": "8b4f5e85-e94e-4c1b-958e-a2237c459ffa",
   "metadata": {},
   "outputs": [],
   "source": [
    "import os\n",
    "from pathlib import Path\n",
    "import random\n",
    "\n",
    "def rename_class(path):\n",
    "    class_names = os.listdir(path)\n",
    "\n",
    "    for class_name in class_names:\n",
    "        new_name = class_name.split('___')[1].replace(' ', '_')\n",
    "        os.rename(path / class_name, path / new_name)\n",
    "        # print(path / new_name)\n",
    "\n",
    "def rename_img(path):\n",
    "    class_names = os.listdir(path)\n",
    "\n",
    "    for class_name in class_names:\n",
    "        img_names = os.listdir(path / class_name)\n",
    "        for img_name in img_names:\n",
    "            extension = img_name[-4:]\n",
    "            img_path = path / class_name / img_name\n",
    "            new_img_path = path / class_name / (str(random.random())[2:] + extension)\n",
    "\n",
    "            os.rename(img_path, new_img_path)\n",
    "            # break\n",
    "# if __name__ == '__main__':\n",
    "datasets_path = Path('./datasets/potato')\n",
    "# rename_class(datasets_path / 'train')\n",
    "# rename_class(datasets_path / 'test')\n",
    "\n",
    "# rename_img(datasets_path / 'train')\n",
    "# rename_img(datasets_path / 'test')\n"
   ]
  },
  {
   "cell_type": "code",
   "execution_count": 10,
   "id": "f6a76c3c-cdd2-4e51-9b9d-7df7066f3e9c",
   "metadata": {},
   "outputs": [],
   "source": [
    "rename_class(datasets_path)"
   ]
  },
  {
   "cell_type": "code",
   "execution_count": 11,
   "id": "9027dad4-8b77-403c-b9d7-549b6e9a0854",
   "metadata": {},
   "outputs": [],
   "source": [
    "rename_img(datasets_path)"
   ]
  },
  {
   "cell_type": "code",
   "execution_count": 12,
   "id": "f62364a0-4bc8-440f-a84c-f2a5006aa3dd",
   "metadata": {},
   "outputs": [],
   "source": [
    "import cv2"
   ]
  },
  {
   "cell_type": "code",
   "execution_count": 15,
   "id": "128d3a94-6e3c-4887-aaa3-05551cd15572",
   "metadata": {},
   "outputs": [
    {
     "data": {
      "text/plain": [
       "(256, 256, 3)"
      ]
     },
     "execution_count": 15,
     "metadata": {},
     "output_type": "execute_result"
    }
   ],
   "source": [
    "img = cv2.imread('./datasets/potato/Early_blight/0011047683878774306.JPG')\n",
    "img.shape"
   ]
  },
  {
   "cell_type": "code",
   "execution_count": 16,
   "id": "b8309861-e23c-4a73-aa01-82731ef82087",
   "metadata": {},
   "outputs": [
    {
     "data": {
      "text/plain": [
       "(512, 512, 3)"
      ]
     },
     "execution_count": 16,
     "metadata": {},
     "output_type": "execute_result"
    }
   ],
   "source": [
    "img = cv2.imread('./datasets/eggplant/test/Healthy/020627005130772647.JPG')\n",
    "img.shape"
   ]
  }
 ],
 "metadata": {
  "kernelspec": {
   "display_name": "Python 3 (ipykernel)",
   "language": "python",
   "name": "python3"
  },
  "language_info": {
   "codemirror_mode": {
    "name": "ipython",
    "version": 3
   },
   "file_extension": ".py",
   "mimetype": "text/x-python",
   "name": "python",
   "nbconvert_exporter": "python",
   "pygments_lexer": "ipython3",
   "version": "3.11.9"
  }
 },
 "nbformat": 4,
 "nbformat_minor": 5
}
