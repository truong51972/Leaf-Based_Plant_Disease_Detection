{
 "cells": [
  {
   "cell_type": "code",
   "execution_count": 3,
   "id": "407cb02d-77f0-4c1f-903e-4b819b9eed34",
   "metadata": {},
   "outputs": [],
   "source": [
    "import zipfile\n",
    "with zipfile.ZipFile('./datasets/test_potato.zip', 'r') as zip_ref:\n",
    "    zip_ref.extractall('./datasets/test_potato')\n"
   ]
  },
  {
   "cell_type": "code",
   "execution_count": 4,
   "id": "8b4f5e85-e94e-4c1b-958e-a2237c459ffa",
   "metadata": {},
   "outputs": [],
   "source": [
    "import os\n",
    "from pathlib import Path\n",
    "import random\n",
    "\n",
    "def rename_class(path):\n",
    "    class_names = os.listdir(path)\n",
    "\n",
    "    for class_name in class_names:\n",
    "        # removed_undescore = class_name.split('___')[1]\n",
    "        new_name = class_name.replace(' ', '_')\n",
    "        os.rename(path / class_name, path / new_name)\n",
    "        # print(path / new_name)\n",
    "\n",
    "def rename_img(path):\n",
    "    class_names = os.listdir(path)\n",
    "\n",
    "    for class_name in class_names:\n",
    "        img_names = os.listdir(path / class_name)\n",
    "        for img_name in img_names:\n",
    "            extension = img_name[-4:]\n",
    "            img_path = path / class_name / img_name\n",
    "            new_img_path = path / class_name / (str(random.random())[2:] + extension)\n",
    "\n",
    "            os.rename(img_path, new_img_path)\n",
    "            # break\n",
    "# if __name__ == '__main__':\n",
    "datasets_path = Path('./datasets/potato_train_test/')\n",
    "rename_class(datasets_path / 'train')\n",
    "rename_class(datasets_path / 'val')\n",
    "rename_class(datasets_path / 'test')\n",
    "\n",
    "rename_img(datasets_path / 'train')\n",
    "rename_img(datasets_path / 'val')\n",
    "rename_img(datasets_path / 'test')\n"
   ]
  },
  {
   "cell_type": "code",
   "execution_count": 10,
   "id": "f6a76c3c-cdd2-4e51-9b9d-7df7066f3e9c",
   "metadata": {},
   "outputs": [],
   "source": [
    "rename_class(datasets_path)"
   ]
  },
  {
   "cell_type": "code",
   "execution_count": 11,
   "id": "9027dad4-8b77-403c-b9d7-549b6e9a0854",
   "metadata": {},
   "outputs": [],
   "source": [
    "rename_img(datasets_path)"
   ]
  },
  {
   "cell_type": "code",
   "execution_count": 12,
   "id": "f62364a0-4bc8-440f-a84c-f2a5006aa3dd",
   "metadata": {},
   "outputs": [],
   "source": [
    "import cv2"
   ]
  },
  {
   "cell_type": "code",
   "execution_count": 15,
   "id": "128d3a94-6e3c-4887-aaa3-05551cd15572",
   "metadata": {},
   "outputs": [
    {
     "data": {
      "text/plain": [
       "(256, 256, 3)"
      ]
     },
     "execution_count": 15,
     "metadata": {},
     "output_type": "execute_result"
    }
   ],
   "source": [
    "img = cv2.imread('./datasets/potato/Early_blight/0011047683878774306.JPG')\n",
    "img.shape"
   ]
  },
  {
   "cell_type": "code",
   "execution_count": 16,
   "id": "b8309861-e23c-4a73-aa01-82731ef82087",
   "metadata": {},
   "outputs": [
    {
     "data": {
      "text/plain": [
       "(512, 512, 3)"
      ]
     },
     "execution_count": 16,
     "metadata": {},
     "output_type": "execute_result"
    }
   ],
   "source": [
    "img = cv2.imread('./datasets/eggplant/test/Healthy/020627005130772647.JPG')\n",
    "img.shape"
   ]
  },
  {
   "cell_type": "code",
   "execution_count": 15,
   "id": "990a02e1-b7de-4f06-897b-73a2d0c34178",
   "metadata": {},
   "outputs": [],
   "source": [
    "data = {\n",
    "    \"vườn cà chua 1\" : {\n",
    "        \"Tên\" : [\"Nam\", \"Trường\", \"Hiếu\", \"Thiện\"],\n",
    "        \"Hàng 1\" : [1, 0, 1, 1],\n",
    "        \"Hàng 2\" : [1, 0, 0, 1],\n",
    "        \"Hàng 3\" : [1, 1, 1, 1],\n",
    "        \"Hàng 4\" : [1, 0, 1, 0],\n",
    "    }\n",
    "}"
   ]
  },
  {
   "cell_type": "code",
   "execution_count": 16,
   "id": "d184f9a8-7f7e-4a63-9ee9-90e24c5828f2",
   "metadata": {},
   "outputs": [
    {
     "data": {
      "text/html": [
       "<div>\n",
       "<style scoped>\n",
       "    .dataframe tbody tr th:only-of-type {\n",
       "        vertical-align: middle;\n",
       "    }\n",
       "\n",
       "    .dataframe tbody tr th {\n",
       "        vertical-align: top;\n",
       "    }\n",
       "\n",
       "    .dataframe thead th {\n",
       "        text-align: right;\n",
       "    }\n",
       "</style>\n",
       "<table border=\"1\" class=\"dataframe\">\n",
       "  <thead>\n",
       "    <tr style=\"text-align: right;\">\n",
       "      <th></th>\n",
       "      <th>Hàng 1</th>\n",
       "      <th>Hàng 2</th>\n",
       "      <th>Hàng 3</th>\n",
       "      <th>Hàng 4</th>\n",
       "    </tr>\n",
       "    <tr>\n",
       "      <th>Tên</th>\n",
       "      <th></th>\n",
       "      <th></th>\n",
       "      <th></th>\n",
       "      <th></th>\n",
       "    </tr>\n",
       "  </thead>\n",
       "  <tbody>\n",
       "    <tr>\n",
       "      <th>Nam</th>\n",
       "      <td>1</td>\n",
       "      <td>1</td>\n",
       "      <td>1</td>\n",
       "      <td>1</td>\n",
       "    </tr>\n",
       "    <tr>\n",
       "      <th>Trường</th>\n",
       "      <td>0</td>\n",
       "      <td>0</td>\n",
       "      <td>1</td>\n",
       "      <td>0</td>\n",
       "    </tr>\n",
       "    <tr>\n",
       "      <th>Hiếu</th>\n",
       "      <td>1</td>\n",
       "      <td>0</td>\n",
       "      <td>1</td>\n",
       "      <td>1</td>\n",
       "    </tr>\n",
       "    <tr>\n",
       "      <th>Thiện</th>\n",
       "      <td>1</td>\n",
       "      <td>1</td>\n",
       "      <td>1</td>\n",
       "      <td>0</td>\n",
       "    </tr>\n",
       "  </tbody>\n",
       "</table>\n",
       "</div>"
      ],
      "text/plain": [
       "        Hàng 1  Hàng 2  Hàng 3  Hàng 4\n",
       "Tên                                   \n",
       "Nam          1       1       1       1\n",
       "Trường       0       0       1       0\n",
       "Hiếu         1       0       1       1\n",
       "Thiện        1       1       1       0"
      ]
     },
     "execution_count": 16,
     "metadata": {},
     "output_type": "execute_result"
    }
   ],
   "source": [
    "import pandas as pd\n",
    "\n",
    "df = pd.DataFrame(data[\"vườn cà chua 1\" ])\n",
    "df = df.set_index(df.columns[0])\n",
    "df"
   ]
  },
  {
   "cell_type": "code",
   "execution_count": 33,
   "id": "178e67d3-cf91-4768-8c62-c0439ec9df65",
   "metadata": {},
   "outputs": [
    {
     "data": {
      "text/html": [
       "<div>\n",
       "<style scoped>\n",
       "    .dataframe tbody tr th:only-of-type {\n",
       "        vertical-align: middle;\n",
       "    }\n",
       "\n",
       "    .dataframe tbody tr th {\n",
       "        vertical-align: top;\n",
       "    }\n",
       "\n",
       "    .dataframe thead th {\n",
       "        text-align: right;\n",
       "    }\n",
       "</style>\n",
       "<table border=\"1\" class=\"dataframe\">\n",
       "  <thead>\n",
       "    <tr style=\"text-align: right;\">\n",
       "      <th></th>\n",
       "      <th>tên</th>\n",
       "      <th>hàng</th>\n",
       "    </tr>\n",
       "  </thead>\n",
       "  <tbody>\n",
       "    <tr>\n",
       "      <th>0</th>\n",
       "      <td>Nam</td>\n",
       "      <td>1</td>\n",
       "    </tr>\n",
       "    <tr>\n",
       "      <th>1</th>\n",
       "      <td>Trường</td>\n",
       "      <td>2</td>\n",
       "    </tr>\n",
       "    <tr>\n",
       "      <th>2</th>\n",
       "      <td>Hiếu</td>\n",
       "      <td>3</td>\n",
       "    </tr>\n",
       "    <tr>\n",
       "      <th>3</th>\n",
       "      <td>Thiện</td>\n",
       "      <td>4</td>\n",
       "    </tr>\n",
       "    <tr>\n",
       "      <th>4</th>\n",
       "      <td>Nam</td>\n",
       "      <td>0</td>\n",
       "    </tr>\n",
       "    <tr>\n",
       "      <th>5</th>\n",
       "      <td>Trường</td>\n",
       "      <td>0</td>\n",
       "    </tr>\n",
       "    <tr>\n",
       "      <th>6</th>\n",
       "      <td>Hiếu</td>\n",
       "      <td>0</td>\n",
       "    </tr>\n",
       "    <tr>\n",
       "      <th>7</th>\n",
       "      <td>Thiện</td>\n",
       "      <td>0</td>\n",
       "    </tr>\n",
       "  </tbody>\n",
       "</table>\n",
       "</div>"
      ],
      "text/plain": [
       "      tên  hàng\n",
       "0     Nam     1\n",
       "1  Trường     2\n",
       "2    Hiếu     3\n",
       "3   Thiện     4\n",
       "4     Nam     0\n",
       "5  Trường     0\n",
       "6    Hiếu     0\n",
       "7   Thiện     0"
      ]
     },
     "execution_count": 33,
     "metadata": {},
     "output_type": "execute_result"
    }
   ],
   "source": [
    "data = {\n",
    "    \"tên\" : [\"Nam\", \"Trường\", \"Hiếu\", \"Thiện\", \"Nam\", \"Trường\", \"Hiếu\", \"Thiện\"],\n",
    "    \"hàng\" : [1, 2, 3, 4, 0, 0, 0, 0]\n",
    "}\n",
    "df1 = pd.DataFrame(data)\n",
    "df1"
   ]
  },
  {
   "cell_type": "code",
   "execution_count": 37,
   "id": "92630028-562b-41ac-82c5-f33fe649ee55",
   "metadata": {},
   "outputs": [
    {
     "data": {
      "text/html": [
       "<div>\n",
       "<style scoped>\n",
       "    .dataframe tbody tr th:only-of-type {\n",
       "        vertical-align: middle;\n",
       "    }\n",
       "\n",
       "    .dataframe tbody tr th {\n",
       "        vertical-align: top;\n",
       "    }\n",
       "\n",
       "    .dataframe thead th {\n",
       "        text-align: right;\n",
       "    }\n",
       "</style>\n",
       "<table border=\"1\" class=\"dataframe\">\n",
       "  <thead>\n",
       "    <tr style=\"text-align: right;\">\n",
       "      <th>hàng</th>\n",
       "      <th>0</th>\n",
       "      <th>1</th>\n",
       "      <th>2</th>\n",
       "      <th>3</th>\n",
       "      <th>4</th>\n",
       "    </tr>\n",
       "    <tr>\n",
       "      <th>tên</th>\n",
       "      <th></th>\n",
       "      <th></th>\n",
       "      <th></th>\n",
       "      <th></th>\n",
       "      <th></th>\n",
       "    </tr>\n",
       "  </thead>\n",
       "  <tbody>\n",
       "    <tr>\n",
       "      <th>Hiếu</th>\n",
       "      <td>1</td>\n",
       "      <td>0</td>\n",
       "      <td>0</td>\n",
       "      <td>1</td>\n",
       "      <td>0</td>\n",
       "    </tr>\n",
       "    <tr>\n",
       "      <th>Nam</th>\n",
       "      <td>1</td>\n",
       "      <td>1</td>\n",
       "      <td>0</td>\n",
       "      <td>0</td>\n",
       "      <td>0</td>\n",
       "    </tr>\n",
       "    <tr>\n",
       "      <th>Thiện</th>\n",
       "      <td>1</td>\n",
       "      <td>0</td>\n",
       "      <td>0</td>\n",
       "      <td>0</td>\n",
       "      <td>1</td>\n",
       "    </tr>\n",
       "    <tr>\n",
       "      <th>Trường</th>\n",
       "      <td>1</td>\n",
       "      <td>0</td>\n",
       "      <td>1</td>\n",
       "      <td>0</td>\n",
       "      <td>0</td>\n",
       "    </tr>\n",
       "  </tbody>\n",
       "</table>\n",
       "</div>"
      ],
      "text/plain": [
       "hàng    0  1  2  3  4\n",
       "tên                  \n",
       "Hiếu    1  0  0  1  0\n",
       "Nam     1  1  0  0  0\n",
       "Thiện   1  0  0  0  1\n",
       "Trường  1  0  1  0  0"
      ]
     },
     "execution_count": 37,
     "metadata": {},
     "output_type": "execute_result"
    }
   ],
   "source": [
    "df1 = pd.DataFrame(data)\n",
    "df1.pivot_table(index=\"tên\", columns=\"hàng\", aggfunc='size', fill_value=0)"
   ]
  },
  {
   "cell_type": "code",
   "execution_count": 26,
   "id": "c0f3d549-8a77-48a8-bbce-5abce5484e19",
   "metadata": {},
   "outputs": [
    {
     "name": "stdout",
     "output_type": "stream",
     "text": [
      "       tên  Hàng  Giá trị\n",
      "0      Nam  hàng        1\n",
      "1   Trường  hàng        2\n",
      "2     Hiếu  hàng        3\n",
      "3    Thiện  hàng        4\n",
      "4      Nam  hàng        1\n",
      "5   Trường  hàng        2\n",
      "6     Hiếu  hàng        3\n",
      "7    Thiện  hàng        4\n",
      "8      Nam  hàng        1\n",
      "9   Trường  hàng        2\n",
      "10    Hiếu  hàng        3\n",
      "11   Thiện  hàng        4\n"
     ]
    }
   ],
   "source": [
    "import pandas as pd\n",
    "\n",
    "# Tạo DataFrame từ dữ liệu ban đầu\n",
    "data = {\n",
    "    \"tên\": [\"Nam\", \"Trường\", \"Hiếu\", \"Thiện\", \"Nam\", \"Trường\", \"Hiếu\", \"Thiện\", \"Nam\", \"Trường\", \"Hiếu\", \"Thiện\"],\n",
    "    \"hàng\": [1, 2, 3, 4, 1, 2, 3, 4, 1, 2, 3, 4]\n",
    "}\n",
    "df = pd.DataFrame(data)\n",
    "\n",
    "# Sử dụng hàm melt() để biến đổi dữ liệu\n",
    "melted_df = pd.melt(df, id_vars=[\"tên\"], value_vars=[\"hàng\"], var_name=\"Hàng\", value_name=\"Giá trị\")\n",
    "\n",
    "# Hiển thị kết quả\n",
    "print(melted_df)\n"
   ]
  },
  {
   "cell_type": "code",
   "execution_count": 41,
   "id": "10e36f00-7e62-4694-bd34-4a33315d1802",
   "metadata": {},
   "outputs": [
    {
     "data": {
      "text/html": [
       "<div>\n",
       "<style scoped>\n",
       "    .dataframe tbody tr th:only-of-type {\n",
       "        vertical-align: middle;\n",
       "    }\n",
       "\n",
       "    .dataframe tbody tr th {\n",
       "        vertical-align: top;\n",
       "    }\n",
       "\n",
       "    .dataframe thead th {\n",
       "        text-align: right;\n",
       "    }\n",
       "</style>\n",
       "<table border=\"1\" class=\"dataframe\">\n",
       "  <thead>\n",
       "    <tr style=\"text-align: right;\">\n",
       "      <th>hàng</th>\n",
       "      <th>1</th>\n",
       "      <th>2</th>\n",
       "      <th>3</th>\n",
       "      <th>4</th>\n",
       "      <th>5</th>\n",
       "      <th>6</th>\n",
       "      <th>7</th>\n",
       "      <th>8</th>\n",
       "      <th>9</th>\n",
       "      <th>10</th>\n",
       "    </tr>\n",
       "    <tr>\n",
       "      <th>tên</th>\n",
       "      <th></th>\n",
       "      <th></th>\n",
       "      <th></th>\n",
       "      <th></th>\n",
       "      <th></th>\n",
       "      <th></th>\n",
       "      <th></th>\n",
       "      <th></th>\n",
       "      <th></th>\n",
       "      <th></th>\n",
       "    </tr>\n",
       "  </thead>\n",
       "  <tbody>\n",
       "    <tr>\n",
       "      <th>Hiếu</th>\n",
       "      <td>0</td>\n",
       "      <td>0</td>\n",
       "      <td>1</td>\n",
       "      <td>0</td>\n",
       "      <td>0</td>\n",
       "      <td>0</td>\n",
       "      <td>0</td>\n",
       "      <td>0</td>\n",
       "      <td>0</td>\n",
       "      <td>0</td>\n",
       "    </tr>\n",
       "    <tr>\n",
       "      <th>Nam</th>\n",
       "      <td>1</td>\n",
       "      <td>0</td>\n",
       "      <td>0</td>\n",
       "      <td>0</td>\n",
       "      <td>0</td>\n",
       "      <td>0</td>\n",
       "      <td>0</td>\n",
       "      <td>0</td>\n",
       "      <td>0</td>\n",
       "      <td>0</td>\n",
       "    </tr>\n",
       "    <tr>\n",
       "      <th>Thiện</th>\n",
       "      <td>0</td>\n",
       "      <td>0</td>\n",
       "      <td>0</td>\n",
       "      <td>1</td>\n",
       "      <td>0</td>\n",
       "      <td>0</td>\n",
       "      <td>0</td>\n",
       "      <td>0</td>\n",
       "      <td>0</td>\n",
       "      <td>0</td>\n",
       "    </tr>\n",
       "    <tr>\n",
       "      <th>Trường</th>\n",
       "      <td>0</td>\n",
       "      <td>1</td>\n",
       "      <td>0</td>\n",
       "      <td>0</td>\n",
       "      <td>0</td>\n",
       "      <td>0</td>\n",
       "      <td>0</td>\n",
       "      <td>0</td>\n",
       "      <td>0</td>\n",
       "      <td>0</td>\n",
       "    </tr>\n",
       "  </tbody>\n",
       "</table>\n",
       "</div>"
      ],
      "text/plain": [
       "hàng    1   2   3   4   5   6   7   8   9   10\n",
       "tên                                           \n",
       "Hiếu     0   0   1   0   0   0   0   0   0   0\n",
       "Nam      1   0   0   0   0   0   0   0   0   0\n",
       "Thiện    0   0   0   1   0   0   0   0   0   0\n",
       "Trường   0   1   0   0   0   0   0   0   0   0"
      ]
     },
     "execution_count": 41,
     "metadata": {},
     "output_type": "execute_result"
    }
   ],
   "source": [
    "import numpy as np\n",
    "\n",
    "# Number of columns\n",
    "num_columns = 10\n",
    "\n",
    "# Create DataFrame\n",
    "df = pd.DataFrame(data)\n",
    "\n",
    "# Create template DataFrame with all possible combinations of 'tên' and 'hàng'\n",
    "tên_unique = df[\"tên\"].unique()\n",
    "hàng_unique = np.arange(1, num_columns + 1)\n",
    "template = pd.MultiIndex.from_product([tên_unique, hàng_unique], names=[\"tên\", \"hàng\"])\n",
    "template_df = pd.DataFrame(index=template).reset_index()\n",
    "\n",
    "# Merge the original data with the template to ensure all columns are present\n",
    "df_full = template_df.merge(df, on=[\"tên\", \"hàng\"], how=\"left\", indicator=True)\n",
    "df_full[\"value\"] = np.where(df_full[\"_merge\"] == \"both\", 1, 0)\n",
    "\n",
    "# Pivot the DataFrame\n",
    "df_pivot_full = df_full.pivot_table(index=\"tên\", columns=\"hàng\", values=\"value\", aggfunc='sum', fill_value=0)\n",
    "\n",
    "df_pivot_full"
   ]
  },
  {
   "cell_type": "code",
   "execution_count": 45,
   "id": "5313f340-7082-4c98-a1d9-a28602321e0c",
   "metadata": {},
   "outputs": [
    {
     "data": {
      "text/plain": [
       "dict_keys([1, 2, 3, 4, 5, 6, 7, 8, 9, 10])"
      ]
     },
     "execution_count": 45,
     "metadata": {},
     "output_type": "execute_result"
    }
   ],
   "source": [
    "dict(df_pivot_full).keys()"
   ]
  },
  {
   "cell_type": "code",
   "execution_count": 1,
   "id": "d5fd8bb3-c6b9-4961-956c-c492736b7694",
   "metadata": {},
   "outputs": [],
   "source": [
    "data = {'Hàng 3': {'Bệnh bạc lá sớm': 1, 'Cây tốt': 5}, 'Hàng 1': {'Bệnh tàn rụi muộn': 1, 'Cây tốt': 5}, 'Hàng 4': {'Virus TYLCV (Tomato yellow leaf curl virus)': 1, 'Bệnh đốm vòng hại khoai tây': 1, 'Cây tốt': 5}, 'Hàng 2': {'Virus khảm cà chua ToMV': 2, 'Cây tốt': 5}}"
   ]
  },
  {
   "cell_type": "code",
   "execution_count": 12,
   "id": "4f8936c5-3c97-42e7-a27c-6e23a8983be8",
   "metadata": {},
   "outputs": [],
   "source": [
    "import pandas as pd\n",
    "import matplotlib.pyplot as plt\n",
    "import seaborn as sns"
   ]
  },
  {
   "cell_type": "code",
   "execution_count": 13,
   "id": "4ae95682-399e-48d9-820f-f5908dbb333f",
   "metadata": {},
   "outputs": [],
   "source": [
    "df = pd.DataFrame(data)"
   ]
  },
  {
   "cell_type": "code",
   "execution_count": 17,
   "id": "df9aa199-e685-44e8-af38-a93b96e8107f",
   "metadata": {},
   "outputs": [
    {
     "data": {
      "image/png": "[encoded data removed]",
      "text/plain": [
       "<Figure size 1000x600 with 1 Axes>"
      ]
     },
     "metadata": {},
     "output_type": "display_data"
    }
   ],
   "source": [
    "import pandas as pd\n",
    "import matplotlib.pyplot as plt\n",
    "\n",
    "# Dữ liệu ban đầu\n",
    "data = {\n",
    "    'Hàng 3': {'Bệnh bạc lá sớm': 1, 'Cây tốt': 5},\n",
    "    'Hàng 1': {'Bệnh tàn rụi muộn': 1, 'Cây tốt': 5},\n",
    "    'Hàng 4': {'Virus TYLCV (Tomato yellow leaf curl virus)': 1, 'Bệnh đốm vòng hại khoai tây': 1, 'Cây tốt': 5},\n",
    "    'Hàng 2': {'Virus khảm cà chua ToMV': 2, 'Cây tốt': 5}\n",
    "}\n",
    "\n",
    "# Chuyển đổi dữ liệu thành DataFrame\n",
    "df = pd.DataFrame(data).fillna(0)\n",
    "\n",
    "# Đảo ngược hàng và cột\n",
    "df = df.T\n",
    "\n",
    "# Vẽ biểu đồ cột chồng lên nhau\n",
    "df.plot(kind='bar', stacked=True, figsize=(10, 6))\n",
    "plt.title('Giá trị của các loại bệnh theo từng hàng')\n",
    "plt.xlabel('Hàng')\n",
    "plt.ylabel('Giá trị')\n",
    "plt.legend(title='Loại bệnh')\n",
    "plt.show()\n"
   ]
  },
  {
   "cell_type": "code",
   "execution_count": 34,
   "id": "99659bef-944b-4dda-827e-25b184fa4ab7",
   "metadata": {},
   "outputs": [
    {
     "data": {
      "text/plain": [
       "{'Bệnh bạc lá sớm': {'Hàng 3': 1.0,\n",
       "  'Hàng 1': 0.0,\n",
       "  'Hàng 4': 0.0,\n",
       "  'Hàng 2': 0.0},\n",
       " 'Cây tốt': {'Hàng 3': 5.0, 'Hàng 1': 5.0, 'Hàng 4': 5.0, 'Hàng 2': 5.0},\n",
       " 'Bệnh tàn rụi muộn': {'Hàng 3': 0.0,\n",
       "  'Hàng 1': 1.0,\n",
       "  'Hàng 4': 0.0,\n",
       "  'Hàng 2': 0.0},\n",
       " 'Virus TYLCV (Tomato yellow leaf curl virus)': {'Hàng 3': 0.0,\n",
       "  'Hàng 1': 0.0,\n",
       "  'Hàng 4': 1.0,\n",
       "  'Hàng 2': 0.0},\n",
       " 'Bệnh đốm vòng hại khoai tây': {'Hàng 3': 0.0,\n",
       "  'Hàng 1': 0.0,\n",
       "  'Hàng 4': 1.0,\n",
       "  'Hàng 2': 0.0},\n",
       " 'Virus khảm cà chua ToMV': {'Hàng 3': 0.0,\n",
       "  'Hàng 1': 0.0,\n",
       "  'Hàng 4': 0.0,\n",
       "  'Hàng 2': 2.0}}"
      ]
     },
     "execution_count": 34,
     "metadata": {},
     "output_type": "execute_result"
    }
   ],
   "source": [
    "df.to_dict()"
   ]
  },
  {
   "cell_type": "code",
   "execution_count": 32,
   "id": "aed235b1-124d-41b7-b961-371f88764b0b",
   "metadata": {},
   "outputs": [
    {
     "name": "stdout",
     "output_type": "stream",
     "text": [
      "<class 'pandas.core.series.Series'>\n"
     ]
    }
   ],
   "source": [
    "print(type(a['Bệnh bạc lá sớm']))"
   ]
  }
 ],
 "metadata": {
  "kernelspec": {
   "display_name": "Python 3 (ipykernel)",
   "language": "python",
   "name": "python3"
  },
  "language_info": {
   "codemirror_mode": {
    "name": "ipython",
    "version": 3
   },
   "file_extension": ".py",
   "mimetype": "text/x-python",
   "name": "python",
   "nbconvert_exporter": "python",
   "pygments_lexer": "ipython3",
   "version": "3.11.9"
  }
 },
 "nbformat": 4,
 "nbformat_minor": 5
}
