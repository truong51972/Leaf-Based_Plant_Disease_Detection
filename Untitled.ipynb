{
 "cells": [
  {
   "cell_type": "code",
   "execution_count": 1,
   "id": "d6dca1cf-2a92-4e7c-a250-77e8560a6fc6",
   "metadata": {},
   "outputs": [],
   "source": [
    "import json"
   ]
  },
  {
   "cell_type": "code",
   "execution_count": 4,
   "id": "7ba0aa9f-349c-4e9b-8f80-c7f983ddc788",
   "metadata": {},
   "outputs": [],
   "source": [
    "with open('./123.v1i.coco-segmentation/train/_annotations.coco.json', 'r') as f:\n",
    "    data = json.load(f)"
   ]
  },
  {
   "cell_type": "code",
   "execution_count": 7,
   "id": "9dd0a70c-45cf-4f10-ad97-85396ca3efa0",
   "metadata": {},
   "outputs": [
    {
     "data": {
      "text/plain": [
       "{'info': {'year': '2024',\n",
       "  'version': '1',\n",
       "  'description': 'Exported from roboflow.com',\n",
       "  'contributor': '',\n",
       "  'url': 'https://public.roboflow.com/object-detection/undefined',\n",
       "  'date_created': '2024-05-22T10:34:19+00:00'},\n",
       " 'licenses': [{'id': 1,\n",
       "   'url': 'https://creativecommons.org/licenses/by/4.0/',\n",
       "   'name': 'CC BY 4.0'}],\n",
       " 'categories': [{'id': 0, 'name': '123', 'supercategory': 'none'},\n",
       "  {'id': 1, 'name': '123', 'supercategory': '123'}],\n",
       " 'images': [{'id': 0,\n",
       "   'license': 1,\n",
       "   'file_name': '192103493331216_jpeg.rf.f3558022d3fe630f96ae40e5b5706fec.jpg',\n",
       "   'height': 640,\n",
       "   'width': 640,\n",
       "   'date_captured': '2024-05-22T10:34:19+00:00'},\n",
       "  {'id': 1,\n",
       "   'license': 1,\n",
       "   'file_name': '40204175919454_jpeg.rf.42742130a4852e758c53f302ca4a253f.jpg',\n",
       "   'height': 640,\n",
       "   'width': 640,\n",
       "   'date_captured': '2024-05-22T10:34:19+00:00'}],\n",
       " 'annotations': [{'id': 0,\n",
       "   'image_id': 0,\n",
       "   'category_id': 1,\n",
       "   'bbox': [66, 328, 192.5, 194.375],\n",
       "   'area': 37417.188,\n",
       "   'segmentation': [[143.125,\n",
       "     387.5,\n",
       "     140,\n",
       "     359.375,\n",
       "     123.125,\n",
       "     338.75,\n",
       "     78.125,\n",
       "     327.5,\n",
       "     66.25,\n",
       "     343.125,\n",
       "     98.75,\n",
       "     380.625,\n",
       "     78.75,\n",
       "     414.375,\n",
       "     80,\n",
       "     449.375,\n",
       "     110,\n",
       "     505.625,\n",
       "     150,\n",
       "     521.875,\n",
       "     243.125,\n",
       "     502.5,\n",
       "     258.75,\n",
       "     466.875,\n",
       "     181.875,\n",
       "     398.75,\n",
       "     143.125,\n",
       "     387.5]],\n",
       "   'iscrowd': 0},\n",
       "  {'id': 1,\n",
       "   'image_id': 1,\n",
       "   'category_id': 1,\n",
       "   'bbox': [219, 108, 283.75, 529.375],\n",
       "   'area': 150210.156,\n",
       "   'segmentation': [[421.875,\n",
       "     478.75,\n",
       "     452.5,\n",
       "     455.625,\n",
       "     471.25,\n",
       "     424.375,\n",
       "     491.25,\n",
       "     343.125,\n",
       "     502.5,\n",
       "     225.625,\n",
       "     472.5,\n",
       "     168.125,\n",
       "     461.875,\n",
       "     107.5,\n",
       "     444.375,\n",
       "     110,\n",
       "     416.25,\n",
       "     140.625,\n",
       "     396.25,\n",
       "     216.875,\n",
       "     295,\n",
       "     324.375,\n",
       "     253.75,\n",
       "     386.875,\n",
       "     218.75,\n",
       "     485.625,\n",
       "     221.875,\n",
       "     501.25,\n",
       "     273.75,\n",
       "     513.125,\n",
       "     223.75,\n",
       "     615.625,\n",
       "     229.375,\n",
       "     631.25,\n",
       "     246.25,\n",
       "     636.875,\n",
       "     281.25,\n",
       "     543.125,\n",
       "     301.875,\n",
       "     521.25,\n",
       "     368.125,\n",
       "     507.5,\n",
       "     421.875,\n",
       "     478.75]],\n",
       "   'iscrowd': 0}]}"
      ]
     },
     "execution_count": 7,
     "metadata": {},
     "output_type": "execute_result"
    }
   ],
   "source": [
    "data"
   ]
  },
  {
   "cell_type": "code",
   "execution_count": 26,
   "id": "c6d6dddd-882a-4ba1-a54e-fcfb5ad04f00",
   "metadata": {},
   "outputs": [
    {
     "name": "stdout",
     "output_type": "stream",
     "text": [
      "loading annotations into memory...\n",
      "Done (t=0.00s)\n",
      "creating index...\n",
      "index created!\n"
     ]
    },
    {
     "data": {
      "image/png": "[encoded data removed]",
      "text/plain": [
       "<Figure size 640x480 with 1 Axes>"
      ]
     },
     "metadata": {},
     "output_type": "display_data"
    }
   ],
   "source": [
    "from pycocotools.coco import COCO\n",
    "import numpy as np\n",
    "import matplotlib.pyplot as plt\n",
    "\n",
    "# Khởi tạo đối tượng COCO\n",
    "coco = COCO('./123.v1i.coco-segmentation/train/_annotations.coco.json')  # Thay đổi đường dẫn tới file json của bạn\n",
    "\n",
    "# Lấy thông tin hình ảnh\n",
    "image_id = 1  # Thay đổi ID hình ảnh tương ứng\n",
    "img = coco.imgs[image_id]\n",
    "\n",
    "# Lấy danh sách ID chú thích\n",
    "cat_ids = coco.getCatIds()\n",
    "anns_ids = coco.getAnnIds(imgIds=img['id'], catIds=cat_ids, iscrowd=None)\n",
    "anns = coco.loadAnns(anns_ids)\n",
    "\n",
    "# Tạo mặt nạ từ chú thích\n",
    "mask = coco.annToMask(anns[0])\n",
    "# print(np.unique(mask))\n",
    "# for i in range(len(anns)):\n",
    "#     mask += coco.annToMask(anns[i])\n",
    "\n",
    "# Hiển thị mặt nạ\n",
    "plt.imshow(mask)\n",
    "plt.show()\n"
   ]
  },
  {
   "cell_type": "code",
   "execution_count": 27,
   "id": "2b6c9f6b-ca52-4404-b438-45bd562edda1",
   "metadata": {},
   "outputs": [
    {
     "data": {
      "text/plain": [
       "array([0, 1], dtype=uint8)"
      ]
     },
     "execution_count": 27,
     "metadata": {},
     "output_type": "execute_result"
    }
   ],
   "source": [
    "np.unique(mask)"
   ]
  }
 ],
 "metadata": {
  "kernelspec": {
   "display_name": "Python 3 (ipykernel)",
   "language": "python",
   "name": "python3"
  },
  "language_info": {
   "codemirror_mode": {
    "name": "ipython",
    "version": 3
   },
   "file_extension": ".py",
   "mimetype": "text/x-python",
   "name": "python",
   "nbconvert_exporter": "python",
   "pygments_lexer": "ipython3",
   "version": "3.11.5"
  }
 },
 "nbformat": 4,
 "nbformat_minor": 5
}
