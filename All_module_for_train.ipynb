{
 "cells": [
  {
   "cell_type": "markdown",
   "id": "649db50c-62de-4f64-96cb-6669ef759859",
   "metadata": {},
   "source": [
    "# Functions"
   ]
  },
  {
   "cell_type": "markdown",
   "id": "c0c70e68-ad2d-406c-a504-711f8e3f64a1",
   "metadata": {},
   "source": [
    "## model/data_setup"
   ]
  },
  {
   "cell_type": "code",
   "execution_count": 1,
   "id": "9b482125-f098-4e26-86fb-d95c0f6eae64",
   "metadata": {},
   "outputs": [
    {
     "name": "stdout",
     "output_type": "stream",
     "text": [
      "Overwriting model/data_setup.py\n"
     ]
    }
   ],
   "source": [
    "%%writefile model/data_setup.py\n",
    "import torch\n",
    "from torchvision.datasets import ImageFolder\n",
    "from torch.utils.data import DataLoader\n",
    "from torchvision import datasets, transforms\n",
    "\n",
    "from pathlib import Path\n",
    "\"\"\"\n",
    "Contain for setting updata with full func to create dataloader\n",
    "\"\"\"\n",
    "\n",
    "def create_dataloader(\n",
    "                    train_transform: transforms.Compose,\n",
    "                    val_transform: transforms.Compose,\n",
    "                    test_transform: transforms.Compose,\n",
    "                    **kwargs,\n",
    "                ):\n",
    "    \n",
    "    train_path = Path(kwargs['dataset']['train'])\n",
    "    val_path = Path(kwargs['dataset']['val'])\n",
    "    test_path = Path(kwargs['dataset']['test'])\n",
    "    \n",
    "    num_workers = 6\n",
    "    \n",
    "    train_data = ImageFolder(\n",
    "        root= train_path,\n",
    "        transform= train_transform\n",
    "    )\n",
    "    \n",
    "    val_data = ImageFolder(\n",
    "        root= val_path,\n",
    "        transform= val_transform\n",
    "    )\n",
    "\n",
    "    test_data = ImageFolder(\n",
    "        root= test_path,\n",
    "        transform= test_transform\n",
    "    )\n",
    "    \n",
    "    train_dataloader = DataLoader(\n",
    "        dataset= train_data,\n",
    "        batch_size= kwargs['dataset']['batch_size'],\n",
    "        num_workers=num_workers,\n",
    "        pin_memory= True,\n",
    "        persistent_workers= True,\n",
    "        shuffle= True\n",
    "    )\n",
    "    \n",
    "    val_dataloader = DataLoader(\n",
    "        dataset= val_data,\n",
    "        batch_size= kwargs['dataset']['batch_size'],\n",
    "        num_workers=num_workers,\n",
    "        pin_memory= True,\n",
    "        persistent_workers= True,\n",
    "        shuffle= False\n",
    "    )\n",
    "\n",
    "    test_dataloader = DataLoader(\n",
    "        dataset= test_data,\n",
    "        batch_size= kwargs['dataset']['batch_size'],\n",
    "        shuffle= False\n",
    "    )\n",
    "    class_names = train_data.classes\n",
    "    return train_dataloader, val_dataloader, test_dataloader, class_names"
   ]
  },
  {
   "cell_type": "markdown",
   "id": "c141c6b4-c89c-4431-bb54-efcadd053440",
   "metadata": {},
   "source": [
    "## model/model_builder"
   ]
  },
  {
   "cell_type": "code",
   "execution_count": 2,
   "id": "c359100c-6a05-4415-bf09-cf9d09ac6d78",
   "metadata": {},
   "outputs": [
    {
     "name": "stdout",
     "output_type": "stream",
     "text": [
      "Overwriting model/model_builder.py\n"
     ]
    }
   ],
   "source": [
    "%%writefile model/model_builder.py\n",
    "import torch\n",
    "from torch import nn\n",
    "from torchvision.models import efficientnet_b3, EfficientNet_B3_Weights\n",
    "from torchvision.models import efficientnet_v2_s, EfficientNet_V2_S_Weights\n",
    "from torchvision.models import resnet50, ResNet50_Weights\n",
    "from torchvision.models import resnet18, ResNet18_Weights\n",
    "from torchvision.models import vgg19, VGG19_Weights\n",
    "from torchvision.models import vgg16, VGG16_Weights\n",
    "\n",
    "from pathlib import Path\n",
    "import json\n",
    "\n",
    "def load_model(model_name: str=None, class_names: None|list = None, pretrain_model_path: None|str= None, device: str= 'cpu'):\n",
    "    info_data = None\n",
    "    \n",
    "    if pretrain_model_path is not None:\n",
    "        pretrain_model_path = Path(pretrain_model_path)\n",
    "\n",
    "        with open(pretrain_model_path / 'info.json', 'r') as f:\n",
    "            info_data = json.load(f)\n",
    "\n",
    "        class_names = info_data['class_names']\n",
    "        model_name = info_data['model']\n",
    "        \n",
    "    if model_name == 'resnet50':\n",
    "        weights = ResNet50_Weights.DEFAULT\n",
    "        model = resnet50(weights= weights).to(device)\n",
    "        \n",
    "        features= model.fc.in_features\n",
    "        model.fc = nn.Sequential(\n",
    "            nn.Linear(in_features=features, out_features=len(class_names), bias=True)\n",
    "        )\n",
    "    elif model_name == 'resnet18':\n",
    "        weights = ResNet18_Weights.DEFAULT\n",
    "        model = resnet18(weights= weights).to(device)\n",
    "        \n",
    "        features= model.fc.in_features\n",
    "        model.fc = nn.Sequential(\n",
    "            nn.Linear(in_features=features, out_features=len(class_names), bias=True)\n",
    "        )\n",
    "    elif model_name == 'vgg19':\n",
    "        weights = VGG19_Weights.DEFAULT\n",
    "        model = vgg19(weights= weights).to(device)\n",
    "        \n",
    "        features= model.classifier[-1].in_features\n",
    "        model.classifier[-1] = nn.Sequential(\n",
    "            nn.Linear(in_features=features, out_features=len(class_names), bias=True)\n",
    "        )\n",
    "    elif model_name == 'vgg16':\n",
    "        weights = VGG16_Weights.DEFAULT\n",
    "        model = vgg16(weights= weights).to(device)\n",
    "        \n",
    "        features= model.classifier[-1].in_features\n",
    "        model.classifier[-1] = nn.Sequential(\n",
    "            nn.Linear(in_features=features, out_features=len(class_names), bias=True)\n",
    "        )\n",
    "    elif model_name == 'effi_net_v2_s':\n",
    "        weights = EfficientNet_V2_S_Weights.DEFAULT\n",
    "        model = efficientnet_v2_s(weights= weights).to(device)\n",
    "        \n",
    "        features= model.classifier[-1].in_features\n",
    "        model.classifier[-1] = nn.Sequential(\n",
    "            nn.Linear(in_features=features, out_features=len(class_names), bias=True)\n",
    "        )\n",
    "        \n",
    "    if pretrain_model_path is not None:\n",
    "        model.load_state_dict(torch.load(f=pretrain_model_path / f'{model_name}.pth'))\n",
    "            \n",
    "    model = model.to(device)\n",
    "            \n",
    "    return model, info_data"
   ]
  },
  {
   "cell_type": "markdown",
   "id": "df169644-aeb9-400e-9d4c-559f64aa7bb6",
   "metadata": {},
   "source": [
    "## model/utils"
   ]
  },
  {
   "cell_type": "code",
   "execution_count": 3,
   "id": "3b7ee938-113a-465c-9f6a-bf4c62674528",
   "metadata": {},
   "outputs": [
    {
     "name": "stdout",
     "output_type": "stream",
     "text": [
      "Overwriting model/utils.py\n"
     ]
    }
   ],
   "source": [
    "%%writefile model/utils.py\n",
    "import os\n",
    "from pathlib import Path\n",
    "import torch\n",
    "import json\n",
    "import matplotlib.pyplot as plt\n",
    "import seaborn as sns\n",
    "import pandas as pd\n",
    "\n",
    "from sklearn.metrics import confusion_matrix, f1_score, precision_score, recall_score\n",
    "\n",
    "def plot_loss_curves(results: dict[str, list[float]]):\n",
    "    train_loss = results['train_loss']\n",
    "    val_loss = results['val_loss']\n",
    "    \n",
    "    train_accuracy = results['train_acc']\n",
    "    val_accuracy = results['val_acc']\n",
    "\n",
    "    train_precision = results['train_precision']\n",
    "    val_precision = results['val_precision']\n",
    "    \n",
    "    train_recall = results['train_recall']\n",
    "    val_recall = results['val_recall']\n",
    "    \n",
    "    epochs = range(len(results['train_loss']))\n",
    "\n",
    "    plt.figure(figsize=(14, 10))\n",
    "\n",
    "    plt.subplot(2, 2, 1)\n",
    "    plt.plot(epochs, train_loss, label='train_loss')\n",
    "    plt.plot(epochs, val_loss, label='val_loss')\n",
    "    plt.title('Loss')\n",
    "    plt.xlabel('Epochs')\n",
    "    plt.legend()\n",
    "\n",
    "    plt.subplot(2, 2, 2)\n",
    "    plt.plot(epochs, train_accuracy, label='train_accuracy')\n",
    "    plt.plot(epochs, val_accuracy, label='val_accuracy')\n",
    "    plt.title('Accuracy')\n",
    "    plt.xlabel('Epochs')\n",
    "    plt.legend()\n",
    "\n",
    "    plt.subplot(2, 2, 3)\n",
    "    plt.plot(epochs, train_precision, label='train_precision')\n",
    "    plt.plot(epochs, val_precision, label='val_precision')\n",
    "    plt.title('Precision')\n",
    "    plt.xlabel('Epochs')\n",
    "    plt.legend()\n",
    "\n",
    "    plt.subplot(2, 2, 4)\n",
    "    plt.plot(epochs, train_recall, label='train_recall')\n",
    "    plt.plot(epochs, val_recall, label='val_recall')\n",
    "    plt.title('Recall')\n",
    "    plt.xlabel('Epochs')\n",
    "    plt.legend()\n",
    "    return plt\n",
    "\n",
    "def plot_confmat(class_names, test_results):\n",
    "    table = confusion_matrix(y_true=test_results['targets'], y_pred=test_results['preds'])\n",
    "    \n",
    "    plt.figure(figsize=(7.5, 5))\n",
    "    sns.heatmap(table, annot=True, fmt='.0f', cmap=plt.cm.Blues)\n",
    "    plt.title('Confusion Matrix')\n",
    "    \n",
    "    plt.text(x= len(class_names)*1.25, y=(len(class_names)*0.1), s= f'Class names:')\n",
    "    for i, class_name in enumerate(class_names):\n",
    "        plt.text(x=len(class_names)*1.25, y=(len(class_names)*0.1)+ (len(class_names)*0.05)*(i+1), s= f' {i}. {class_name[:15]}{\"...\" if len(class_name) > 15 else \"\"}')\n",
    "\n",
    "    plt.tight_layout()\n",
    "    return plt\n",
    "\n",
    "def plot_save_model(model: torch.nn.Module,\n",
    "                    model_name: str,\n",
    "                    results: dict[str, list[float]],\n",
    "                    class_names: list,\n",
    "                    device: str,\n",
    "                    is_save: bool):\n",
    "\n",
    "    df_test_results = pd.DataFrame(results['test_results'])\n",
    "    \n",
    "    if is_save:\n",
    "        target_dir = Path('runs/classify/')\n",
    "        target_dir.mkdir(parents=True, exist_ok=True)\n",
    "        \n",
    "        graph_loss_name = 'loss_acc_precision_recall.jpg'\n",
    "        graph_confmat_name = 'confusion_matrix.jpg'\n",
    "        info_file_name = 'info.json'\n",
    "        \n",
    "        train_paths = os.listdir(target_dir)\n",
    "        \n",
    "        i = 0\n",
    "        \n",
    "        while True:\n",
    "            train_path = f'train{i}'\n",
    "            if train_path not in train_paths:\n",
    "                break\n",
    "            else:\n",
    "                i += 1\n",
    "    \n",
    "        target_dir = target_dir / train_path\n",
    "        \n",
    "        target_dir_path = Path(target_dir)\n",
    "        target_dir_path.mkdir(parents=True,exist_ok=True)\n",
    "        \n",
    "        model_save_path = target_dir_path / (model_name + '.pth')\n",
    "        graph_loss_save_path = target_dir_path / graph_loss_name\n",
    "        graph_confmat_save_path = target_dir_path / graph_confmat_name\n",
    "        info_save_path = target_dir_path / info_file_name\n",
    "\n",
    "        print(f\"[INFO] Saving model to: {target_dir}\")\n",
    "        \n",
    "        info_data = {\n",
    "            'model': model_name,\n",
    "            \"class_names\" : class_names,\n",
    "            \"results\" : results\n",
    "        }\n",
    "        \n",
    "        with open(info_save_path, 'w') as f:\n",
    "            json.dump(info_data, f, indent=4)\n",
    "    \n",
    "    graph_loss = plot_loss_curves(results)\n",
    "    if is_save: graph_loss.savefig(graph_loss_save_path)\n",
    "        \n",
    "    graph_confmat = plot_confmat(class_names=class_names, test_results= results['test_results'])\n",
    "    if is_save: graph_confmat.savefig(graph_confmat_save_path)\n",
    "    \n",
    "    if is_save: torch.save(obj=model.state_dict(), f=model_save_path)\n",
    "\n",
    "def save_checkpoint(model: torch.nn.Module, num: int):\n",
    "    target_path = Path('runs/classify/')\n",
    "    target_path.mkdir(parents=True, exist_ok=True)\n",
    "\n",
    "    checkpoint_dir = target_path / 'checkpoints'\n",
    "    checkpoint_dir.mkdir(parents=True, exist_ok=True)\n",
    "\n",
    "    checkpoint_names = os.listdir(checkpoint_dir)\n",
    "    \n",
    "    checkpoint_name = f'.checkpoint_{num}.pth'\n",
    "\n",
    "    checkpoint_path = checkpoint_dir / checkpoint_name\n",
    "    torch.save(obj=model.state_dict(), f=checkpoint_path)\n",
    "\n",
    "    print(f'Save checkpoint to {checkpoint_path}')"
   ]
  },
  {
   "cell_type": "markdown",
   "id": "327a64c8-343f-494c-bea0-c0ef03557139",
   "metadata": {},
   "source": [
    "## model/engine"
   ]
  },
  {
   "cell_type": "code",
   "execution_count": 4,
   "id": "3e06eca4-adf7-4d57-b122-1ce232052503",
   "metadata": {},
   "outputs": [
    {
     "name": "stdout",
     "output_type": "stream",
     "text": [
      "Overwriting model/engine.py\n"
     ]
    }
   ],
   "source": [
    "%%writefile model/engine.py\n",
    "import torch\n",
    "from torchmetrics import functional\n",
    "from tqdm.auto import tqdm\n",
    "from model.utils import save_checkpoint\n",
    "\n",
    "def __train(model: torch.nn.Module,\n",
    "            dataloader: torch.utils.data.DataLoader,\n",
    "            loss_func: torch.nn.Module,\n",
    "            optimizer: torch.optim.Optimizer,\n",
    "            mectric_funcs: functional,\n",
    "            verbose: bool,\n",
    "            device: str):\n",
    "    \n",
    "    train_loss = 0\n",
    "    train_acc = 0\n",
    "    train_precision = 0\n",
    "    train_recall = 0\n",
    "    \n",
    "    model.train()\n",
    "\n",
    "    for _, (X, y) in enumerate(tqdm(dataloader, desc= '-----Train', disable= (not verbose))):\n",
    "        X, y = X.to(device), y.to(device)\n",
    "\n",
    "        y_pred = model(X)\n",
    "        loss = loss_func(y_pred, y)\n",
    "\n",
    "        train_loss += loss.item()\n",
    "\n",
    "        optimizer.zero_grad()\n",
    "        loss.backward()\n",
    "\n",
    "        optimizer.step()\n",
    "        \n",
    "        y_pred_class = torch.argmax(torch.softmax(y_pred, dim= 1), dim= 1)\n",
    "        train_acc += mectric_funcs[0](y_pred, y).item()\n",
    "        train_precision += mectric_funcs[1](y_pred, y).item()\n",
    "        train_recall += mectric_funcs[2](y_pred, y).item()\n",
    "        \n",
    "    train_loss /= len(dataloader)\n",
    "    train_acc /= len(dataloader)\n",
    "    train_precision /= len(dataloader)\n",
    "    train_recall /= len(dataloader)\n",
    "    \n",
    "    return train_loss, train_acc, train_precision, train_recall\n",
    "\n",
    "def __val(model: torch.nn.Module,\n",
    "           dataloader: torch.utils.data.DataLoader,\n",
    "           loss_func: torch.nn.Module,\n",
    "           mectric_funcs: functional,\n",
    "           verbose: bool,\n",
    "           device: str):\n",
    "\n",
    "    val_loss = 0\n",
    "    val_acc = 0\n",
    "    val_precision = 0\n",
    "    val_recall = 0\n",
    "    \n",
    "    model.eval()\n",
    "    \n",
    "    with torch.inference_mode():\n",
    "        for _, (X, y) in enumerate(tqdm(dataloader, desc= '-------Val', disable= (not verbose))):\n",
    "            X, y = X.to(device), y.to(device)\n",
    "            \n",
    "            y_pred = model(X)\n",
    "            loss = loss_func(y_pred, y)\n",
    "            \n",
    "            val_loss += loss.item()\n",
    "\n",
    "            y_pred_class = torch.argmax(torch.softmax(y_pred, dim= 1), dim= 1)\n",
    "            val_acc += mectric_funcs[0](y_pred, y).item()\n",
    "            val_precision += mectric_funcs[1](y_pred, y).item()\n",
    "            val_recall += mectric_funcs[2](y_pred, y).item()\n",
    "            \n",
    "        val_loss /= len(dataloader)\n",
    "        val_acc /= len(dataloader)\n",
    "        val_precision /= len(dataloader)\n",
    "        val_recall /= len(dataloader)\n",
    "    \n",
    "    return val_loss, val_acc, val_precision, val_recall\n",
    "\n",
    "def __test(model: torch.nn.Module,\n",
    "           dataloader: torch.utils.data.DataLoader,\n",
    "           verbose: bool,\n",
    "           device: str):\n",
    "    \n",
    "    model.eval()\n",
    "    target = torch.tensor([]).to(device)\n",
    "    preds = torch.tensor([]).to(device)\n",
    "    score = torch.tensor([]).to(device)\n",
    "    \n",
    "    with torch.inference_mode():\n",
    "        for _, (X, y) in enumerate(tqdm(dataloader, desc= '------Test', disable= (not verbose))):\n",
    "            X, y = X.to(device), y.to(device)\n",
    "\n",
    "            \n",
    "            y_pred = model(X)\n",
    "\n",
    "            y_probs = torch.softmax(y_pred, dim= 1)\n",
    "            y_pred_class = torch.argmax(torch.softmax(y_pred, dim= 1), dim= 1)\n",
    "\n",
    "            y_pred_scores = torch.max(y_probs, dim= 1)[0]\n",
    "\n",
    "            target = torch.cat((target, y), dim= 0)\n",
    "            preds = torch.cat((preds, y_pred_class), dim= 0)\n",
    "            score = torch.cat((score, y_pred_scores), dim= 0)\n",
    "\n",
    "    test_results = {\n",
    "        'preds' : preds.tolist(),\n",
    "        'targets' : target.tolist(),\n",
    "        'scores' : score.tolist()\n",
    "    }\n",
    "\n",
    "    return test_results\n",
    "\n",
    "def train(model: torch.nn.Module,\n",
    "          train_dataloader: torch.utils.data.DataLoader,\n",
    "          val_dataloader: torch.utils.data.DataLoader,\n",
    "          loss_func: torch.nn.Module,\n",
    "          optimizer: torch.optim.Optimizer,\n",
    "          lr_scheduler: torch.optim.lr_scheduler.LRScheduler,\n",
    "          mectric_funcs: list[functional],\n",
    "          epochs: int,\n",
    "          info_data: list,\n",
    "          save_checkpoint_freq: int,\n",
    "          verbose: bool,\n",
    "          device: str):\n",
    "    \n",
    "    temp_model_state_dict = model.state_dict()\n",
    "    \n",
    "    if info_data is None:\n",
    "        results = {\n",
    "            'train_loss': [],\n",
    "            'train_acc': [],\n",
    "            'train_precision': [],\n",
    "            'train_recall': [],\n",
    "            'val_loss': [],\n",
    "            'val_acc': [],\n",
    "            'val_precision': [],\n",
    "            'val_recall': [],\n",
    "            'test_results' : {}\n",
    "        }\n",
    "    else:\n",
    "        results = info_data['results']\n",
    "    \n",
    "    if epochs <= 0: return results\n",
    "        \n",
    "    try:\n",
    "        torch.manual_seed(42) \n",
    "        torch.cuda.manual_seed(42)\n",
    "        for epoch in tqdm(range(epochs), desc= 'Training', disable=(not verbose)):\n",
    "            if (verbose):\n",
    "                print(f\"\\n\\nEpoch: {epoch+1:2} ------------\")\n",
    "            train_loss, train_acc, train_precision, train_recall = __train(model=model,\n",
    "                                                                    dataloader=train_dataloader,\n",
    "                                                                    loss_func=loss_func,\n",
    "                                                                    optimizer=optimizer,\n",
    "                                                                    mectric_funcs=mectric_funcs,\n",
    "                                                                    verbose= verbose,\n",
    "                                                                    device= device)\n",
    "            lr_scheduler.step()\n",
    "            val_loss, val_acc, val_precision, val_recall = __val(model=model,\n",
    "                                                                dataloader=val_dataloader,\n",
    "                                                                loss_func=loss_func,\n",
    "                                                                mectric_funcs=mectric_funcs,\n",
    "                                                                verbose= verbose,\n",
    "                                                                device= device)\n",
    "            \n",
    "            # print(f\"Epoch: {epoch+1:2} | Train Loss: {train_loss:.5f} | Train Acc: {train_acc*100:.4f} | Val Loss: {val_loss:.5f} | Val Acc: {val_acc*100:.4f}\")\n",
    "            print(f\"Epoch: {epoch+1:2}\" + \n",
    "                f\"\\n  Train: Loss: {train_loss:.5f} | Acc: {train_acc*100:.4f} | Precision: {train_precision:.4f} | Recall: {train_recall:.4f}\" +\n",
    "                f\"\\n  Val  : Loss: {val_loss:.5f} | Acc: {val_acc*100:.4f} | Precision: {val_precision:.4f} | Recall: {val_recall:.4f}\")\n",
    "            \n",
    "            results[\"train_loss\"].append(train_loss)\n",
    "            results[\"train_acc\"].append(train_acc)\n",
    "            results[\"train_precision\"].append(train_precision)\n",
    "            results[\"train_recall\"].append(train_recall)\n",
    "            \n",
    "            results[\"val_loss\"].append(val_loss)\n",
    "            results[\"val_acc\"].append(val_acc)\n",
    "            results[\"val_precision\"].append(val_precision)\n",
    "            results[\"val_recall\"].append(val_recall)\n",
    "    \n",
    "            if (save_checkpoint_freq != 0) and ((epoch+1) % save_checkpoint_freq == 0):\n",
    "                save_checkpoint(model= model, num= int((epoch+1) / save_checkpoint_freq))\n",
    "                \n",
    "            temp_model_state_dict = model.state_dict()\n",
    "    except KeyboardInterrupt:\n",
    "        print('\\nStop trainning')\n",
    "        model.load_state_dict(temp_model_state_dict)\n",
    "   \n",
    "    print('\\n\\n')\n",
    "    \n",
    "    return results\n",
    "    \n",
    "def test(model: torch.nn.Module,\n",
    "          test_dataloader: torch.utils.data.DataLoader,\n",
    "          results: dict,\n",
    "          verbose: bool,\n",
    "          device: str):\n",
    "    \n",
    "    results[\"test_results\"] = __test(model=model,\n",
    "                                     dataloader=test_dataloader,\n",
    "                                     verbose= verbose,\n",
    "                                     device= device)\n",
    "    return results"
   ]
  },
  {
   "cell_type": "markdown",
   "id": "97ec3de5-6675-47cc-ba0a-e5571e4346fe",
   "metadata": {},
   "source": [
    "## model/train"
   ]
  },
  {
   "cell_type": "code",
   "execution_count": 5,
   "id": "9c48a854-20c5-4a0a-b2e8-fd24e14989fc",
   "metadata": {
    "scrolled": true
   },
   "outputs": [],
   "source": [
    "# %%writefile model/train.py\n",
    "import torch\n",
    "from torch import nn\n",
    "from torchvision import transforms\n",
    "\n",
    "from pathlib import Path\n",
    "from torchmetrics import Accuracy, ConfusionMatrix\n",
    "from torchmetrics.classification import MulticlassPrecision\n",
    "from torchmetrics.classification import MulticlassRecall\n",
    "\n",
    "from model.data_setup import create_dataloader\n",
    "from model.engine import train, test\n",
    "from model.utils import plot_save_model\n",
    "from model.model_builder import load_model\n",
    "\n",
    "def run(**kwargs):\n",
    "    device = 'cuda' if torch.cuda.is_available() else 'cpu'\n",
    "    # device = 'cpu'\n",
    "    print(f\"Device: '{device}'\")\n",
    "    \n",
    "    torch.cuda.empty_cache()\n",
    "    \n",
    "    train_transforms_data = transforms.Compose([\n",
    "        transforms.Resize(size= (224, 224)),\n",
    "        # transforms.RandomResizedCrop(size=(224, 224), antialias=True),\n",
    "        transforms.RandomHorizontalFlip(p=0.5),\n",
    "        transforms.RandomVerticalFlip(p=0.5),\n",
    "        transforms.GaussianBlur(kernel_size=(3, 3), sigma=(0.1, 1.0)),\n",
    "        transforms.transforms.ColorJitter(brightness= [0.9, 1.1], contrast= [0.9, 1.1]),\n",
    "        transforms.ToTensor(),\n",
    "    ])\n",
    "    \n",
    "    val_transforms_data = transforms.Compose([\n",
    "        transforms.Resize(size= (224, 224)),\n",
    "        transforms.ToTensor(),\n",
    "    ])\n",
    "\n",
    "    test_transforms_data = transforms.Compose([\n",
    "        transforms.Resize(size= (224, 224)),\n",
    "        transforms.ToTensor(),\n",
    "    ])\n",
    "    \n",
    "    train_dataloader, val_dataloader, test_dataloader, class_names = create_dataloader(train_transform=train_transforms_data,\n",
    "                                                                                      val_transform=val_transforms_data,\n",
    "                                                                                      test_transform=test_transforms_data,\n",
    "                                                                                      **kwargs)\n",
    "\n",
    "    model_name = kwargs['model']\n",
    "    pretrain_model_path= kwargs['train_para']['pretrain_model_path']\n",
    "    model, info_data = load_model(model_name= model_name, class_names= class_names, pretrain_model_path= pretrain_model_path, device= device)\n",
    "    \n",
    "    loss_func = nn.CrossEntropyLoss()\n",
    "\n",
    "    lr = kwargs['train_para']['optimize']['learning_rate']\n",
    "    momentum = kwargs['train_para']['optimize']['momentum']\n",
    "    weight_decay = kwargs['train_para']['optimize']['weight_decay']\n",
    "    optimizer = torch.optim.SGD(params= model.parameters(), lr=lr, momentum=momentum, weight_decay=weight_decay)\n",
    "\n",
    "    mectric_funcs = []\n",
    "    mectric_funcs.append(Accuracy(task='multiclass', num_classes= len(class_names)).to(device))\n",
    "    mectric_funcs.append(MulticlassPrecision(num_classes= len(class_names)).to(device))\n",
    "    mectric_funcs.append(MulticlassRecall(num_classes= len(class_names)).to(device))\n",
    "\n",
    "    step_size = kwargs['train_para']['lr_scheduler']['step_size']\n",
    "    gamma = kwargs['train_para']['lr_scheduler']['gamma']\n",
    "    lr_scheduler = torch.optim.lr_scheduler.StepLR(\n",
    "        optimizer,\n",
    "        step_size= step_size,\n",
    "        gamma= gamma\n",
    "    )\n",
    "\n",
    "    epochs= kwargs['train_para']['epochs']\n",
    "    save_checkpoint_freq= kwargs['train_para']['save_checkpoint_freq']\n",
    "    verbose= kwargs['train_para']['verbose']\n",
    "    \n",
    "    results = train(\n",
    "            model= model,\n",
    "            train_dataloader= train_dataloader,\n",
    "            val_dataloader= val_dataloader,\n",
    "            loss_func= loss_func,\n",
    "            optimizer= optimizer,\n",
    "            lr_scheduler= lr_scheduler,\n",
    "            mectric_funcs= mectric_funcs,\n",
    "            epochs= epochs,\n",
    "            info_data = info_data,\n",
    "            save_checkpoint_freq= save_checkpoint_freq,\n",
    "            verbose= verbose,\n",
    "            device= device,\n",
    "    )\n",
    "\n",
    "    results = test(model=model,\n",
    "                  test_dataloader=test_dataloader,\n",
    "                  results=results,\n",
    "                  verbose= verbose,\n",
    "                  device= device)\n",
    "\n",
    "    is_save = True if epochs > 0 else False\n",
    "    plot_save_model(\n",
    "        model= model,\n",
    "        model_name= model_name,\n",
    "        results= results,\n",
    "        class_names= class_names,\n",
    "        is_save= is_save,\n",
    "        device= device\n",
    "    )\n",
    "    \n",
    "    torch.cuda.empty_cache()"
   ]
  },
  {
   "cell_type": "markdown",
   "id": "bec65a6f-af62-4916-aea2-d4288777dba8",
   "metadata": {},
   "source": [
    "# Train"
   ]
  },
  {
   "cell_type": "code",
   "execution_count": 6,
   "id": "8345f941-bdbd-4d02-83db-2c6f90942dba",
   "metadata": {},
   "outputs": [
    {
     "name": "stdout",
     "output_type": "stream",
     "text": [
      "Device: 'cuda'\n"
     ]
    },
    {
     "data": {
      "application/vnd.jupyter.widget-view+json": {
       "model_id": "3f8e6eeedf974535ad89b1b6096899ea",
       "version_major": 2,
       "version_minor": 0
      },
      "text/plain": [
       "Training:   0%|          | 0/20 [00:00<?, ?it/s]"
      ]
     },
     "metadata": {},
     "output_type": "display_data"
    },
    {
     "name": "stdout",
     "output_type": "stream",
     "text": [
      "\n",
      "\n",
      "Epoch:  1 ------------\n"
     ]
    },
    {
     "data": {
      "application/vnd.jupyter.widget-view+json": {
       "model_id": "2731fec474614b80987cd1f6ad535916",
       "version_major": 2,
       "version_minor": 0
      },
      "text/plain": [
       "-----Train:   0%|          | 0/250 [00:17<?, ?it/s]"
      ]
     },
     "metadata": {},
     "output_type": "display_data"
    },
    {
     "data": {
      "application/vnd.jupyter.widget-view+json": {
       "model_id": "cefd6ddcccb2465f92ce245741397e44",
       "version_major": 2,
       "version_minor": 0
      },
      "text/plain": [
       "-------Val:   0%|          | 0/63 [00:17<?, ?it/s]"
      ]
     },
     "metadata": {},
     "output_type": "display_data"
    },
    {
     "name": "stdout",
     "output_type": "stream",
     "text": [
      "Epoch:  1\n",
      "  Train: Loss: 0.92013 | Acc: 67.0472 | Precision: 0.6548 | Recall: 0.6602\n",
      "  Val  : Loss: 0.35594 | Acc: 87.7480 | Precision: 0.4613 | Recall: 0.4272\n",
      "Save checkpoint to runs\\classify\\checkpoints\\.checkpoint_1.pth\n",
      "\n",
      "\n",
      "Epoch:  2 ------------\n"
     ]
    },
    {
     "data": {
      "application/vnd.jupyter.widget-view+json": {
       "model_id": "8f87ae4a28bd48518f5ddde38028b2b2",
       "version_major": 2,
       "version_minor": 0
      },
      "text/plain": [
       "-----Train:   0%|          | 0/250 [00:00<?, ?it/s]"
      ]
     },
     "metadata": {},
     "output_type": "display_data"
    },
    {
     "data": {
      "application/vnd.jupyter.widget-view+json": {
       "model_id": "634868d65eca48118bd3114685fe5bca",
       "version_major": 2,
       "version_minor": 0
      },
      "text/plain": [
       "-------Val:   0%|          | 0/63 [00:00<?, ?it/s]"
      ]
     },
     "metadata": {},
     "output_type": "display_data"
    },
    {
     "name": "stdout",
     "output_type": "stream",
     "text": [
      "Epoch:  2\n",
      "  Train: Loss: 0.35329 | Acc: 88.2363 | Precision: 0.8784 | Recall: 0.8725\n",
      "  Val  : Loss: 0.19949 | Acc: 93.6508 | Precision: 0.5881 | Recall: 0.5673\n",
      "Save checkpoint to runs\\classify\\checkpoints\\.checkpoint_2.pth\n",
      "\n",
      "\n",
      "Epoch:  3 ------------\n"
     ]
    },
    {
     "data": {
      "application/vnd.jupyter.widget-view+json": {
       "model_id": "b7715c9e7c304a33a6c0239af62d423f",
       "version_major": 2,
       "version_minor": 0
      },
      "text/plain": [
       "-----Train:   0%|          | 0/250 [00:00<?, ?it/s]"
      ]
     },
     "metadata": {},
     "output_type": "display_data"
    },
    {
     "data": {
      "application/vnd.jupyter.widget-view+json": {
       "model_id": "396b073ac5e04a2a8b18ab42c351e0d0",
       "version_major": 2,
       "version_minor": 0
      },
      "text/plain": [
       "-------Val:   0%|          | 0/63 [00:00<?, ?it/s]"
      ]
     },
     "metadata": {},
     "output_type": "display_data"
    },
    {
     "name": "stdout",
     "output_type": "stream",
     "text": [
      "Epoch:  3\n",
      "  Train: Loss: 0.18592 | Acc: 93.4113 | Precision: 0.9276 | Recall: 0.9285\n",
      "  Val  : Loss: 0.12905 | Acc: 95.5357 | Precision: 0.6476 | Recall: 0.6311\n",
      "Save checkpoint to runs\\classify\\checkpoints\\.checkpoint_3.pth\n",
      "\n",
      "\n",
      "Epoch:  4 ------------\n"
     ]
    },
    {
     "data": {
      "application/vnd.jupyter.widget-view+json": {
       "model_id": "66b9ed9aaab54e62a816252fe7696299",
       "version_major": 2,
       "version_minor": 0
      },
      "text/plain": [
       "-----Train:   0%|          | 0/250 [00:00<?, ?it/s]"
      ]
     },
     "metadata": {},
     "output_type": "display_data"
    },
    {
     "data": {
      "application/vnd.jupyter.widget-view+json": {
       "model_id": "354011f863f6481d8fede8555804badc",
       "version_major": 2,
       "version_minor": 0
      },
      "text/plain": [
       "-------Val:   0%|          | 0/63 [00:00<?, ?it/s]"
      ]
     },
     "metadata": {},
     "output_type": "display_data"
    },
    {
     "name": "stdout",
     "output_type": "stream",
     "text": [
      "Epoch:  4\n",
      "  Train: Loss: 0.13432 | Acc: 95.4613 | Precision: 0.9449 | Recall: 0.9444\n",
      "  Val  : Loss: 0.20165 | Acc: 92.8571 | Precision: 0.5752 | Recall: 0.5502\n",
      "Save checkpoint to runs\\classify\\checkpoints\\.checkpoint_4.pth\n",
      "\n",
      "\n",
      "Epoch:  5 ------------\n"
     ]
    },
    {
     "data": {
      "application/vnd.jupyter.widget-view+json": {
       "model_id": "933c4b7043764f91ba3417a4a6858a15",
       "version_major": 2,
       "version_minor": 0
      },
      "text/plain": [
       "-----Train:   0%|          | 0/250 [00:00<?, ?it/s]"
      ]
     },
     "metadata": {},
     "output_type": "display_data"
    },
    {
     "data": {
      "application/vnd.jupyter.widget-view+json": {
       "model_id": "60165f70de934c1b9362ea34252d9d38",
       "version_major": 2,
       "version_minor": 0
      },
      "text/plain": [
       "-------Val:   0%|          | 0/63 [00:00<?, ?it/s]"
      ]
     },
     "metadata": {},
     "output_type": "display_data"
    },
    {
     "name": "stdout",
     "output_type": "stream",
     "text": [
      "Epoch:  5\n",
      "  Train: Loss: 0.10484 | Acc: 96.3371 | Precision: 0.9618 | Recall: 0.9599\n",
      "  Val  : Loss: 0.12557 | Acc: 95.4861 | Precision: 0.6774 | Recall: 0.6619\n",
      "Save checkpoint to runs\\classify\\checkpoints\\.checkpoint_5.pth\n",
      "\n",
      "\n",
      "Epoch:  6 ------------\n"
     ]
    },
    {
     "data": {
      "application/vnd.jupyter.widget-view+json": {
       "model_id": "457524f314b84cb9b6f95c61fcea6d24",
       "version_major": 2,
       "version_minor": 0
      },
      "text/plain": [
       "-----Train:   0%|          | 0/250 [00:00<?, ?it/s]"
      ]
     },
     "metadata": {},
     "output_type": "display_data"
    },
    {
     "data": {
      "application/vnd.jupyter.widget-view+json": {
       "model_id": "36ee2e2cfa4b4ac4b2a3dc16dbcb5010",
       "version_major": 2,
       "version_minor": 0
      },
      "text/plain": [
       "-------Val:   0%|          | 0/63 [00:00<?, ?it/s]"
      ]
     },
     "metadata": {},
     "output_type": "display_data"
    },
    {
     "name": "stdout",
     "output_type": "stream",
     "text": [
      "Epoch:  6\n",
      "  Train: Loss: 0.08564 | Acc: 97.2367 | Precision: 0.9695 | Recall: 0.9688\n",
      "  Val  : Loss: 0.18213 | Acc: 93.7996 | Precision: 0.6820 | Recall: 0.6618\n",
      "Save checkpoint to runs\\classify\\checkpoints\\.checkpoint_6.pth\n",
      "\n",
      "\n",
      "Epoch:  7 ------------\n"
     ]
    },
    {
     "data": {
      "application/vnd.jupyter.widget-view+json": {
       "model_id": "969c34ba61dc4d6c881454441020ac5e",
       "version_major": 2,
       "version_minor": 0
      },
      "text/plain": [
       "-----Train:   0%|          | 0/250 [00:00<?, ?it/s]"
      ]
     },
     "metadata": {},
     "output_type": "display_data"
    },
    {
     "data": {
      "application/vnd.jupyter.widget-view+json": {
       "model_id": "3ccbc72da38a4563a627213e97b93636",
       "version_major": 2,
       "version_minor": 0
      },
      "text/plain": [
       "-------Val:   0%|          | 0/63 [00:00<?, ?it/s]"
      ]
     },
     "metadata": {},
     "output_type": "display_data"
    },
    {
     "name": "stdout",
     "output_type": "stream",
     "text": [
      "Epoch:  7\n",
      "  Train: Loss: 0.06223 | Acc: 97.7496 | Precision: 0.9758 | Recall: 0.9753\n",
      "  Val  : Loss: 0.09664 | Acc: 96.7262 | Precision: 0.6995 | Recall: 0.6868\n",
      "Save checkpoint to runs\\classify\\checkpoints\\.checkpoint_7.pth\n",
      "\n",
      "\n",
      "Epoch:  8 ------------\n"
     ]
    },
    {
     "data": {
      "application/vnd.jupyter.widget-view+json": {
       "model_id": "2ac9916290c64cce85032b2c4dc0da5e",
       "version_major": 2,
       "version_minor": 0
      },
      "text/plain": [
       "-----Train:   0%|          | 0/250 [00:00<?, ?it/s]"
      ]
     },
     "metadata": {},
     "output_type": "display_data"
    },
    {
     "data": {
      "application/vnd.jupyter.widget-view+json": {
       "model_id": "1e4b9c411c994effa210c03ce075e902",
       "version_major": 2,
       "version_minor": 0
      },
      "text/plain": [
       "-------Val:   0%|          | 0/63 [00:00<?, ?it/s]"
      ]
     },
     "metadata": {},
     "output_type": "display_data"
    },
    {
     "name": "stdout",
     "output_type": "stream",
     "text": [
      "Epoch:  8\n",
      "  Train: Loss: 0.05747 | Acc: 98.0996 | Precision: 0.9805 | Recall: 0.9805\n",
      "  Val  : Loss: 0.07920 | Acc: 97.5694 | Precision: 0.7593 | Recall: 0.7499\n",
      "Save checkpoint to runs\\classify\\checkpoints\\.checkpoint_8.pth\n",
      "\n",
      "\n",
      "Epoch:  9 ------------\n"
     ]
    },
    {
     "data": {
      "application/vnd.jupyter.widget-view+json": {
       "model_id": "0878251bcc8d4283b464eed4faa3f609",
       "version_major": 2,
       "version_minor": 0
      },
      "text/plain": [
       "-----Train:   0%|          | 0/250 [00:00<?, ?it/s]"
      ]
     },
     "metadata": {},
     "output_type": "display_data"
    },
    {
     "data": {
      "application/vnd.jupyter.widget-view+json": {
       "model_id": "2b1de78b354e42cca95c6c2171ccee02",
       "version_major": 2,
       "version_minor": 0
      },
      "text/plain": [
       "-------Val:   0%|          | 0/63 [00:00<?, ?it/s]"
      ]
     },
     "metadata": {},
     "output_type": "display_data"
    },
    {
     "name": "stdout",
     "output_type": "stream",
     "text": [
      "Epoch:  9\n",
      "  Train: Loss: 0.03502 | Acc: 98.8500 | Precision: 0.9861 | Recall: 0.9872\n",
      "  Val  : Loss: 0.06608 | Acc: 97.9663 | Precision: 0.7720 | Recall: 0.7632\n",
      "Save checkpoint to runs\\classify\\checkpoints\\.checkpoint_9.pth\n",
      "\n",
      "\n",
      "Epoch: 10 ------------\n"
     ]
    },
    {
     "data": {
      "application/vnd.jupyter.widget-view+json": {
       "model_id": "8dc8562a69304b1b96e69534514560bc",
       "version_major": 2,
       "version_minor": 0
      },
      "text/plain": [
       "-----Train:   0%|          | 0/250 [00:00<?, ?it/s]"
      ]
     },
     "metadata": {},
     "output_type": "display_data"
    },
    {
     "data": {
      "application/vnd.jupyter.widget-view+json": {
       "model_id": "c045d765d312473099f2efd4b49fc210",
       "version_major": 2,
       "version_minor": 0
      },
      "text/plain": [
       "-------Val:   0%|          | 0/63 [00:00<?, ?it/s]"
      ]
     },
     "metadata": {},
     "output_type": "display_data"
    },
    {
     "name": "stdout",
     "output_type": "stream",
     "text": [
      "Epoch: 10\n",
      "  Train: Loss: 0.03181 | Acc: 98.8996 | Precision: 0.9865 | Recall: 0.9871\n",
      "  Val  : Loss: 0.10794 | Acc: 96.7262 | Precision: 0.7013 | Recall: 0.6879\n",
      "Save checkpoint to runs\\classify\\checkpoints\\.checkpoint_10.pth\n",
      "\n",
      "\n",
      "Epoch: 11 ------------\n"
     ]
    },
    {
     "data": {
      "application/vnd.jupyter.widget-view+json": {
       "model_id": "47a5c9a1ef524692b0cbaaf2be5bf3a2",
       "version_major": 2,
       "version_minor": 0
      },
      "text/plain": [
       "-----Train:   0%|          | 0/250 [00:00<?, ?it/s]"
      ]
     },
     "metadata": {},
     "output_type": "display_data"
    },
    {
     "data": {
      "application/vnd.jupyter.widget-view+json": {
       "model_id": "bd86493eaeca4655ac1ae71e2f314690",
       "version_major": 2,
       "version_minor": 0
      },
      "text/plain": [
       "-------Val:   0%|          | 0/63 [00:00<?, ?it/s]"
      ]
     },
     "metadata": {},
     "output_type": "display_data"
    },
    {
     "name": "stdout",
     "output_type": "stream",
     "text": [
      "Epoch: 11\n",
      "  Train: Loss: 0.02540 | Acc: 99.1250 | Precision: 0.9898 | Recall: 0.9898\n",
      "  Val  : Loss: 0.06110 | Acc: 98.0655 | Precision: 0.7683 | Recall: 0.7595\n",
      "Save checkpoint to runs\\classify\\checkpoints\\.checkpoint_11.pth\n",
      "\n",
      "\n",
      "Epoch: 12 ------------\n"
     ]
    },
    {
     "data": {
      "application/vnd.jupyter.widget-view+json": {
       "model_id": "c2ba62595d2d4aa985ffbf22c9999a35",
       "version_major": 2,
       "version_minor": 0
      },
      "text/plain": [
       "-----Train:   0%|          | 0/250 [00:00<?, ?it/s]"
      ]
     },
     "metadata": {},
     "output_type": "display_data"
    },
    {
     "data": {
      "application/vnd.jupyter.widget-view+json": {
       "model_id": "bc508d76ead64c3c999cd63bd300d265",
       "version_major": 2,
       "version_minor": 0
      },
      "text/plain": [
       "-------Val:   0%|          | 0/63 [00:00<?, ?it/s]"
      ]
     },
     "metadata": {},
     "output_type": "display_data"
    },
    {
     "name": "stdout",
     "output_type": "stream",
     "text": [
      "Epoch: 12\n",
      "  Train: Loss: 0.01851 | Acc: 99.3996 | Precision: 0.9946 | Recall: 0.9936\n",
      "  Val  : Loss: 0.06811 | Acc: 98.0159 | Precision: 0.7646 | Recall: 0.7557\n",
      "Save checkpoint to runs\\classify\\checkpoints\\.checkpoint_12.pth\n",
      "\n",
      "\n",
      "Epoch: 13 ------------\n"
     ]
    },
    {
     "data": {
      "application/vnd.jupyter.widget-view+json": {
       "model_id": "23929d150c45442991d71f23e6981ee3",
       "version_major": 2,
       "version_minor": 0
      },
      "text/plain": [
       "-----Train:   0%|          | 0/250 [00:00<?, ?it/s]"
      ]
     },
     "metadata": {},
     "output_type": "display_data"
    },
    {
     "data": {
      "application/vnd.jupyter.widget-view+json": {
       "model_id": "274a9ad9492042debd23e5b30113ad1b",
       "version_major": 2,
       "version_minor": 0
      },
      "text/plain": [
       "-------Val:   0%|          | 0/63 [00:00<?, ?it/s]"
      ]
     },
     "metadata": {},
     "output_type": "display_data"
    },
    {
     "name": "stdout",
     "output_type": "stream",
     "text": [
      "Epoch: 13\n",
      "  Train: Loss: 0.01644 | Acc: 99.4875 | Precision: 0.9939 | Recall: 0.9929\n",
      "  Val  : Loss: 0.06040 | Acc: 98.2143 | Precision: 0.8003 | Recall: 0.7924\n",
      "Save checkpoint to runs\\classify\\checkpoints\\.checkpoint_13.pth\n",
      "\n",
      "\n",
      "Epoch: 14 ------------\n"
     ]
    },
    {
     "data": {
      "application/vnd.jupyter.widget-view+json": {
       "model_id": "5c9170555971466f93dd9143f2c99639",
       "version_major": 2,
       "version_minor": 0
      },
      "text/plain": [
       "-----Train:   0%|          | 0/250 [00:00<?, ?it/s]"
      ]
     },
     "metadata": {},
     "output_type": "display_data"
    },
    {
     "data": {
      "application/vnd.jupyter.widget-view+json": {
       "model_id": "daea8fcb48c34aa0b102b861de115954",
       "version_major": 2,
       "version_minor": 0
      },
      "text/plain": [
       "-------Val:   0%|          | 0/63 [00:00<?, ?it/s]"
      ]
     },
     "metadata": {},
     "output_type": "display_data"
    },
    {
     "name": "stdout",
     "output_type": "stream",
     "text": [
      "Epoch: 14\n",
      "  Train: Loss: 0.01489 | Acc: 99.5746 | Precision: 0.9961 | Recall: 0.9955\n",
      "  Val  : Loss: 0.06836 | Acc: 98.0159 | Precision: 0.7804 | Recall: 0.7716\n",
      "Save checkpoint to runs\\classify\\checkpoints\\.checkpoint_14.pth\n",
      "\n",
      "\n",
      "Epoch: 15 ------------\n"
     ]
    },
    {
     "data": {
      "application/vnd.jupyter.widget-view+json": {
       "model_id": "898e7226833d4238bc4b294810a52fc5",
       "version_major": 2,
       "version_minor": 0
      },
      "text/plain": [
       "-----Train:   0%|          | 0/250 [00:00<?, ?it/s]"
      ]
     },
     "metadata": {},
     "output_type": "display_data"
    },
    {
     "data": {
      "application/vnd.jupyter.widget-view+json": {
       "model_id": "80419a5fa86e4575a76df536d61f3250",
       "version_major": 2,
       "version_minor": 0
      },
      "text/plain": [
       "-------Val:   0%|          | 0/63 [00:00<?, ?it/s]"
      ]
     },
     "metadata": {},
     "output_type": "display_data"
    },
    {
     "name": "stdout",
     "output_type": "stream",
     "text": [
      "Epoch: 15\n",
      "  Train: Loss: 0.01155 | Acc: 99.5750 | Precision: 0.9962 | Recall: 0.9965\n",
      "  Val  : Loss: 0.06698 | Acc: 97.9663 | Precision: 0.7751 | Recall: 0.7665\n",
      "Save checkpoint to runs\\classify\\checkpoints\\.checkpoint_15.pth\n",
      "\n",
      "\n",
      "Epoch: 16 ------------\n"
     ]
    },
    {
     "data": {
      "application/vnd.jupyter.widget-view+json": {
       "model_id": "727ec301e59e4525bc859dd40f144dc0",
       "version_major": 2,
       "version_minor": 0
      },
      "text/plain": [
       "-----Train:   0%|          | 0/250 [00:00<?, ?it/s]"
      ]
     },
     "metadata": {},
     "output_type": "display_data"
    },
    {
     "data": {
      "application/vnd.jupyter.widget-view+json": {
       "model_id": "3f9f47478a404f4393036b3b47f06348",
       "version_major": 2,
       "version_minor": 0
      },
      "text/plain": [
       "-------Val:   0%|          | 0/63 [00:00<?, ?it/s]"
      ]
     },
     "metadata": {},
     "output_type": "display_data"
    },
    {
     "name": "stdout",
     "output_type": "stream",
     "text": [
      "Epoch: 16\n",
      "  Train: Loss: 0.01150 | Acc: 99.6375 | Precision: 0.9965 | Recall: 0.9962\n",
      "  Val  : Loss: 0.05740 | Acc: 98.0159 | Precision: 0.7817 | Recall: 0.7730\n",
      "Save checkpoint to runs\\classify\\checkpoints\\.checkpoint_16.pth\n",
      "\n",
      "\n",
      "Epoch: 17 ------------\n"
     ]
    },
    {
     "data": {
      "application/vnd.jupyter.widget-view+json": {
       "model_id": "b2834693cbcc439383ac8e93b7426ca5",
       "version_major": 2,
       "version_minor": 0
      },
      "text/plain": [
       "-----Train:   0%|          | 0/250 [00:00<?, ?it/s]"
      ]
     },
     "metadata": {},
     "output_type": "display_data"
    },
    {
     "data": {
      "application/vnd.jupyter.widget-view+json": {
       "model_id": "81727abc68ed4fb58c92f4628d864b98",
       "version_major": 2,
       "version_minor": 0
      },
      "text/plain": [
       "-------Val:   0%|          | 0/63 [00:00<?, ?it/s]"
      ]
     },
     "metadata": {},
     "output_type": "display_data"
    },
    {
     "name": "stdout",
     "output_type": "stream",
     "text": [
      "Epoch: 17\n",
      "  Train: Loss: 0.00752 | Acc: 99.8000 | Precision: 0.9977 | Recall: 0.9977\n",
      "  Val  : Loss: 0.05528 | Acc: 98.3135 | Precision: 0.8108 | Recall: 0.8037\n",
      "Save checkpoint to runs\\classify\\checkpoints\\.checkpoint_17.pth\n",
      "\n",
      "\n",
      "Epoch: 18 ------------\n"
     ]
    },
    {
     "data": {
      "application/vnd.jupyter.widget-view+json": {
       "model_id": "7ffffcf9577c40429526c07686e03c11",
       "version_major": 2,
       "version_minor": 0
      },
      "text/plain": [
       "-----Train:   0%|          | 0/250 [00:00<?, ?it/s]"
      ]
     },
     "metadata": {},
     "output_type": "display_data"
    },
    {
     "data": {
      "application/vnd.jupyter.widget-view+json": {
       "model_id": "1510fe0622de4c3b948af8af3245a205",
       "version_major": 2,
       "version_minor": 0
      },
      "text/plain": [
       "-------Val:   0%|          | 0/63 [00:00<?, ?it/s]"
      ]
     },
     "metadata": {},
     "output_type": "display_data"
    },
    {
     "name": "stdout",
     "output_type": "stream",
     "text": [
      "Epoch: 18\n",
      "  Train: Loss: 0.00762 | Acc: 99.7625 | Precision: 0.9978 | Recall: 0.9971\n",
      "  Val  : Loss: 0.06698 | Acc: 98.0655 | Precision: 0.7831 | Recall: 0.7738\n",
      "Save checkpoint to runs\\classify\\checkpoints\\.checkpoint_18.pth\n",
      "\n",
      "\n",
      "Epoch: 19 ------------\n"
     ]
    },
    {
     "data": {
      "application/vnd.jupyter.widget-view+json": {
       "model_id": "931a3ade5b844f74a37b9d4d35d26922",
       "version_major": 2,
       "version_minor": 0
      },
      "text/plain": [
       "-----Train:   0%|          | 0/250 [00:00<?, ?it/s]"
      ]
     },
     "metadata": {},
     "output_type": "display_data"
    },
    {
     "data": {
      "application/vnd.jupyter.widget-view+json": {
       "model_id": "9fb690db7d42436eb62125b9b16a9715",
       "version_major": 2,
       "version_minor": 0
      },
      "text/plain": [
       "-------Val:   0%|          | 0/63 [00:00<?, ?it/s]"
      ]
     },
     "metadata": {},
     "output_type": "display_data"
    },
    {
     "name": "stdout",
     "output_type": "stream",
     "text": [
      "Epoch: 19\n",
      "  Train: Loss: 0.00850 | Acc: 99.7375 | Precision: 0.9969 | Recall: 0.9974\n",
      "  Val  : Loss: 0.05264 | Acc: 98.3135 | Precision: 0.8016 | Recall: 0.7938\n",
      "Save checkpoint to runs\\classify\\checkpoints\\.checkpoint_19.pth\n",
      "\n",
      "\n",
      "Epoch: 20 ------------\n"
     ]
    },
    {
     "data": {
      "application/vnd.jupyter.widget-view+json": {
       "model_id": "f338d684d4004032ba4e4f3e73241070",
       "version_major": 2,
       "version_minor": 0
      },
      "text/plain": [
       "-----Train:   0%|          | 0/250 [00:00<?, ?it/s]"
      ]
     },
     "metadata": {},
     "output_type": "display_data"
    },
    {
     "data": {
      "application/vnd.jupyter.widget-view+json": {
       "model_id": "0ed591aad4db43e290fe6a3832277066",
       "version_major": 2,
       "version_minor": 0
      },
      "text/plain": [
       "-------Val:   0%|          | 0/63 [00:00<?, ?it/s]"
      ]
     },
     "metadata": {},
     "output_type": "display_data"
    },
    {
     "name": "stdout",
     "output_type": "stream",
     "text": [
      "Epoch: 20\n",
      "  Train: Loss: 0.00559 | Acc: 99.8375 | Precision: 0.9982 | Recall: 0.9989\n",
      "  Val  : Loss: 0.05680 | Acc: 98.3631 | Precision: 0.7989 | Recall: 0.7916\n",
      "Save checkpoint to runs\\classify\\checkpoints\\.checkpoint_20.pth\n",
      "\n",
      "\n",
      "\n"
     ]
    },
    {
     "data": {
      "application/vnd.jupyter.widget-view+json": {
       "model_id": "8ac79d9c11d14c09a9284842412789f3",
       "version_major": 2,
       "version_minor": 0
      },
      "text/plain": [
       "------Test:   0%|          | 0/32 [00:00<?, ?it/s]"
      ]
     },
     "metadata": {},
     "output_type": "display_data"
    },
    {
     "name": "stdout",
     "output_type": "stream",
     "text": [
      "[INFO] Saving model to: runs\\classify\\train2\n"
     ]
    },
    {
     "data": {
      "image/png": "[encoded data removed]",
      "text/plain": [
       "<Figure size 1400x1000 with 4 Axes>"
      ]
     },
     "metadata": {},
     "output_type": "display_data"
    },
    {
     "data": {
      "image/png": "[encoded data removed]",
      "text/plain": [
       "<Figure size 750x500 with 2 Axes>"
      ]
     },
     "metadata": {},
     "output_type": "display_data"
    }
   ],
   "source": [
    "# from model import train\n",
    "\n",
    "if __name__ == '__main__':\n",
    "    config = {\n",
    "        'dataset' : {\n",
    "            'train': './datasets/tomato_rembg/train/',\n",
    "            'val': './datasets/tomato_rembg/val/',    \n",
    "            'test': './datasets/tomato_rembg/test/',\n",
    "            'batch_size': 32,\n",
    "        },\n",
    "        'model': 'vgg16',\n",
    "        'train_para': {\n",
    "            'pretrain_model_path': None,\n",
    "            'epochs': 20,\n",
    "            'optimize' : {\n",
    "                'learning_rate': 0.002,\n",
    "                'momentum': 0.9,\n",
    "                'weight_decay': 0.00001,\n",
    "            },\n",
    "            'lr_scheduler' : {\n",
    "                'step_size' : 2,\n",
    "                'gamma' : 0.75,\n",
    "            },\n",
    "            'save_checkpoint_freq' : 1,\n",
    "            'verbose': True\n",
    "        },\n",
    "    }\n",
    "\n",
    "    # train.run(**config)\n",
    "    run(**config)"
   ]
  },
  {
   "cell_type": "code",
   "execution_count": 7,
   "id": "a6471b9e-de53-4e23-a24c-8e9a746066ee",
   "metadata": {},
   "outputs": [],
   "source": [
    "# # from model import train\n",
    "\n",
    "# if __name__ == '__main__':\n",
    "#     config = {\n",
    "#         'dataset' : {\n",
    "#             'train': './datasets/tomato/train/',\n",
    "#             'val': './datasets/tomato/val/',    \n",
    "#             'test': './datasets/tomato/val/',\n",
    "#             'batch_size': 32,\n",
    "#         },\n",
    "#         'model': 'effi_net_v2_s',\n",
    "#         'train_para': {\n",
    "#             'pretrain_model_path': './runs/classify/train6/',\n",
    "#             'epochs': 0,\n",
    "#             'optimize' : {\n",
    "#                 'learning_rate': 0.002,\n",
    "#                 'momentum': 0.9,\n",
    "#                 'weight_decay': 0.00001,\n",
    "#             },\n",
    "#             'lr_scheduler' : {\n",
    "#                 'step_size' : 2,\n",
    "#                 'gamma' : 0.75,\n",
    "#             },\n",
    "#             'save_checkpoint_freq' : 0,\n",
    "#             'verbose': True\n",
    "#         },\n",
    "#     }\n",
    "\n",
    "#     # train.run(**config)\n",
    "#     run(**config)"
   ]
  },
  {
   "cell_type": "code",
   "execution_count": null,
   "id": "48f13502-e2e3-42cd-987c-8b9ed99f9e4c",
   "metadata": {},
   "outputs": [],
   "source": []
  }
 ],
 "metadata": {
  "kernelspec": {
   "display_name": "Python 3 (ipykernel)",
   "language": "python",
   "name": "python3"
  },
  "language_info": {
   "codemirror_mode": {
    "name": "ipython",
    "version": 3
   },
   "file_extension": ".py",
   "mimetype": "text/x-python",
   "name": "python",
   "nbconvert_exporter": "python",
   "pygments_lexer": "ipython3",
   "version": "3.11.9"
  }
 },
 "nbformat": 4,
 "nbformat_minor": 5
}
