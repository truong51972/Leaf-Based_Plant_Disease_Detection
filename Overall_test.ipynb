{
 "cells": [
  {
   "cell_type": "markdown",
   "id": "40e7a72a-ba8d-4679-b699-50044afe50a6",
   "metadata": {},
   "source": [
    "# Funcions"
   ]
  },
  {
   "cell_type": "markdown",
   "id": "06a72b83-3ee1-446e-86e9-e3bafa1e952a",
   "metadata": {},
   "source": [
    "## plot_predict_result"
   ]
  },
  {
   "cell_type": "code",
   "execution_count": 1,
   "id": "3202fbdb-ee2f-40e0-b84f-854698fe2a4e",
   "metadata": {},
   "outputs": [],
   "source": [
    "import matplotlib.pyplot as plt\n",
    "\n",
    "def plot_predict_result(results, save_path=None):\n",
    "    plt.figure(figsize=[7, 7])\n",
    "    \n",
    "    plt.subplot(2, 2, 1)\n",
    "    plt.imshow(results['image'])\n",
    "    plt.title(results['class_name'])\n",
    "    plt.axis(\"off\")\n",
    "    \n",
    "    plt.subplot(2, 2, 2)\n",
    "    plt.imshow(results['pointed_img'])\n",
    "    plt.title('pointed_img')\n",
    "    plt.axis(\"off\")\n",
    "    \n",
    "    plt.subplot(2, 2, 3)\n",
    "    plt.imshow(results['removed_bg_img'])\n",
    "    plt.title('rembg')\n",
    "    plt.axis(\"off\")\n",
    "    \n",
    "    plt.subplot(2, 2, 4)\n",
    "    plt.imshow(results['predicted_image'])\n",
    "    plt.title(results['score'])\n",
    "    plt.axis(\"off\")\n",
    "\n",
    "    if save_path is not None:\n",
    "        plt.savefig(save_path)\n",
    "\n",
    "    return plt"
   ]
  },
  {
   "cell_type": "markdown",
   "id": "cd1fd832-4b16-475e-81c0-0051ad641a81",
   "metadata": {},
   "source": [
    "## test"
   ]
  },
  {
   "cell_type": "code",
   "execution_count": 2,
   "id": "16cab316-e5b6-4de3-bbec-d79028b91e5c",
   "metadata": {
    "scrolled": true
   },
   "outputs": [],
   "source": [
    "import torch\n",
    "\n",
    "from pathlib import Path\n",
    "import os\n",
    "from tqdm.auto import tqdm\n",
    "import time\n",
    "from PIL import Image\n",
    "import json\n",
    "\n",
    "from model.disease_detection import AI_model\n",
    "\n",
    "def test(\n",
    "    disease_detector: AI_model,\n",
    "    test_dataset: list,\n",
    "    save_result_path: list,\n",
    "):\n",
    "    \n",
    "    test_path = Path(test_dataset)\n",
    "    \n",
    "    save_results_root_path = Path(save_result_path)\n",
    "    save_results_root_path.mkdir(exist_ok=True, parents=True)\n",
    "\n",
    "    save_results_img_path = save_results_root_path / 'imgs'\n",
    "    save_results_img_path.mkdir(exist_ok=True, parents=True)\n",
    "    \n",
    "    test_results = {\n",
    "        'preds' : [],\n",
    "        'targets' : [],\n",
    "        'scores' : []\n",
    "    }\n",
    "    \n",
    "    for class_name in tqdm(os.listdir(test_path), desc='Class process'):\n",
    "        for img_name in tqdm(os.listdir(test_path / class_name), desc='---Image predict'):\n",
    "            img_path = test_path / class_name / img_name\n",
    "            image = Image.open(img_path)\n",
    "            \n",
    "            image = image.resize((224, 224), Image.BILINEAR)\n",
    "            \n",
    "            results = disease_detector._predict(image)\n",
    "\n",
    "            # preds = disease_detector.cnn_model.class_name_to_idx[results['class_name']]\n",
    "            # target = disease_detector.cnn_model.class_name_to_idx[class_name]\n",
    "\n",
    "            preds = disease_detector.class_name_to_idx(class_name=results['class_name'])\n",
    "            target = disease_detector.class_name_to_idx(class_name=class_name)\n",
    "            \n",
    "            score = results['score']\n",
    "            \n",
    "            test_results['preds'].append(preds)\n",
    "            test_results['targets'].append(target)\n",
    "            test_results['scores'].append(score)\n",
    "            \n",
    "            plot_predict_result(results=results, save_path= save_results_img_path / (class_name + '_' + img_name + '.jpg'))\n",
    "            plt.close()\n",
    "        torch.cuda.empty_cache()\n",
    "    \n",
    "    info_data = {\n",
    "        'model': disease_detector.cnn_model.model_name,\n",
    "        \"class_names\" : disease_detector.cnn_model.class_names,\n",
    "        \"results\" : test_results\n",
    "    }\n",
    "    \n",
    "    with open(save_results_root_path / 'info.json', 'w') as f:\n",
    "        json.dump(info_data, f, indent=4)\n",
    "\n",
    "    return info_data"
   ]
  },
  {
   "cell_type": "markdown",
   "id": "76061d53-66bf-4c85-ba92-889ea2f99d5d",
   "metadata": {},
   "source": [
    "## rename_class_idx"
   ]
  },
  {
   "cell_type": "code",
   "execution_count": 3,
   "id": "94b66e26-3ab0-47f9-90e5-22578d6c96ce",
   "metadata": {},
   "outputs": [],
   "source": [
    "def rename_class_idx(df, target):\n",
    "    def _rename_class_idx(x):\n",
    "        if x == target:\n",
    "            return 0\n",
    "        else: return 1\n",
    "            \n",
    "    df['preds'] = df['preds'].apply(_rename_class_idx)\n",
    "    df['targets'] = df['targets'].apply(_rename_class_idx)"
   ]
  },
  {
   "cell_type": "markdown",
   "id": "c0ffce06-4394-4571-b6c9-d818374c81d2",
   "metadata": {},
   "source": [
    "## cal_precision_recall_with_threshold"
   ]
  },
  {
   "cell_type": "code",
   "execution_count": 4,
   "id": "3af515b4-8fc6-4fb5-904e-2f1a4120b4d6",
   "metadata": {},
   "outputs": [],
   "source": [
    "def cal_precision_recall_with_threshold(df, threshold):\n",
    "    # '0' is target = predict, and it true\n",
    "    over_threshold = df['scores'] >= threshold\n",
    "    under_threshold = df['scores'] < threshold\n",
    "    \n",
    "    preds_eq_targets = (df['preds'] == df['targets']) & (df['targets'] == 0)\n",
    "    preds_ueq_targets = (df['preds'] != df['targets']) & (df['targets'] == 0)\n",
    "    \n",
    "    targets_ueq_preds = (df['preds'] != df['targets']) & (df['preds'] == 0)\n",
    "    \n",
    "    df = (df['preds'] != df['targets']) & (df['preds'] == 0)\n",
    "    \n",
    "    TP = len(df[preds_eq_targets & over_threshold])\n",
    "    FP = len(df[preds_ueq_targets & over_threshold])\n",
    "    FN = len(df[targets_ueq_preds | under_threshold])\n",
    "\n",
    "    try:\n",
    "        precision = TP / (TP + FP)\n",
    "    except ZeroDivisionError:\n",
    "        precision = 0\n",
    "\n",
    "    try:\n",
    "        recall = TP / (TP + FN)\n",
    "    except ZeroDivisionError:\n",
    "        recall = 0\n",
    "    \n",
    "    return round(precision, 4), round(recall, 4)"
   ]
  },
  {
   "cell_type": "markdown",
   "id": "65f48a40-f457-4399-92f7-126b3c7b6edd",
   "metadata": {},
   "source": [
    "## cal_precision_recall_per_class"
   ]
  },
  {
   "cell_type": "code",
   "execution_count": 5,
   "id": "50bf7422-6fa6-491e-8392-61cd91b1bd08",
   "metadata": {},
   "outputs": [],
   "source": [
    "from tqdm.auto import tqdm\n",
    "import numpy as np\n",
    "\n",
    "def cal_precision_recall_with_threshold_range(df):\n",
    "    results = {\n",
    "        'thresholds' : [],\n",
    "        'precision_scores' : [],\n",
    "        'recall_scores' : [],\n",
    "    }\n",
    "    \n",
    "    for threshold in tqdm(np.round(np.linspace(0, 100, 10000), 2), desc='--------'):\n",
    "        threshold /= 100\n",
    "        precision, recall = cal_precision_recall_with_threshold(df, threshold= threshold)\n",
    "        \n",
    "        results['precision_scores'].append(precision)\n",
    "        results['recall_scores'].append(recall)\n",
    "        results['thresholds'].append(threshold)\n",
    "\n",
    "    return results\n",
    "\n",
    "def cal_precision_recall_per_class(df):   \n",
    "    results = {}\n",
    "    \n",
    "    classes_idx = sorted(df['targets'].unique())\n",
    "    for class_idx in tqdm(classes_idx, desc='Class'):\n",
    "        sub_df = df[(df['targets'] == class_idx) | (df['preds'] == class_idx)].copy()\n",
    "        rename_class_idx(sub_df, class_idx)\n",
    "        precision_recall_results = cal_precision_recall_with_threshold_range(sub_df)\n",
    "        results[class_idx] = precision_recall_results\n",
    "        # break\n",
    "\n",
    "    return results"
   ]
  },
  {
   "cell_type": "markdown",
   "id": "10c75939-d0fc-48f3-9733-d1ca0a7844ad",
   "metadata": {},
   "source": [
    "## find_best_threshold"
   ]
  },
  {
   "cell_type": "code",
   "execution_count": 6,
   "id": "54cbe63c-7517-4882-8f7b-9bcb78f8c544",
   "metadata": {},
   "outputs": [],
   "source": [
    "import pandas as pd\n",
    "\n",
    "def find_best_threshold(results):\n",
    "    def __find_first(arr):\n",
    "        target = max(arr)\n",
    "        for i, value in enumerate(arr):\n",
    "            if value == target: return i\n",
    "                \n",
    "    summary = {}\n",
    "    \n",
    "    for class_idx, results_per_class in results.items():\n",
    "    \n",
    "        max_precision = max(results_per_class['precision_scores'])\n",
    "        best_threshold = (results_per_class['thresholds'][__find_first(arr=results_per_class['precision_scores'])])\n",
    "        recall = (results_per_class['recall_scores'][__find_first(arr=results_per_class['precision_scores'])])\n",
    "    \n",
    "        summary[class_idx] = {\n",
    "            'threshold': best_threshold,\n",
    "            'recall': recall,\n",
    "            'precision': max_precision,\n",
    "        }\n",
    "    df = pd.DataFrame(summary)\n",
    "    df['Average'] = df.T.apply(lambda column: np.average(column))\n",
    "    return df"
   ]
  },
  {
   "cell_type": "markdown",
   "id": "d7346138-0af6-4825-bb46-7d9b1d571783",
   "metadata": {},
   "source": [
    "## plot_summary"
   ]
  },
  {
   "cell_type": "code",
   "execution_count": 7,
   "id": "fe7ed31c-5e43-4f3d-a20c-a6ce762caf6d",
   "metadata": {},
   "outputs": [],
   "source": [
    "import pandas as pd\n",
    "import seaborn as sns\n",
    "import matplotlib.pyplot as plt\n",
    "\n",
    "def plot_summary(df):\n",
    "    plt.figure(figsize=(13, 5))\n",
    "    df_melted = df.T.reset_index().melt('index')\n",
    "    \n",
    "    ax = sns.barplot(x='index', y='value', hue='variable', data=df_melted)\n",
    "    ax.set_ylim(0, 1.5)\n",
    "    plt.title('Best threshold for Class')\n",
    "    plt.xlabel('Class')\n",
    "    plt.ylabel('Score')\n",
    "    \n",
    "    \n",
    "    for i in range(len(df_melted)):\n",
    "        p = ax.patches[i]\n",
    "        ax.annotate(format(p.get_height(), '.2f'), \n",
    "                        (p.get_x() + p.get_width() / 2., p.get_height()), \n",
    "                        ha = 'center', va = 'center', \n",
    "                        xytext = (0, 10), \n",
    "                        textcoords = 'offset points',\n",
    "                        fontsize = 7)\n",
    "\n",
    "    return plt"
   ]
  },
  {
   "cell_type": "markdown",
   "id": "e949cf2d-b018-47d2-bd80-e3a5f6d5c364",
   "metadata": {},
   "source": [
    "# Overall_tester Class"
   ]
  },
  {
   "cell_type": "code",
   "execution_count": 8,
   "id": "9c6430ea-e3e6-47cb-b164-f152289e1120",
   "metadata": {},
   "outputs": [],
   "source": [
    "import torch\n",
    "\n",
    "from model.utils import plot_confmat\n",
    "from model.disease_detection import AI_model\n",
    "import pandas as pd\n",
    "from pathlib import Path\n",
    "import json\n",
    "\n",
    "class Overall_tester:\n",
    "    def __init__(\n",
    "        self,\n",
    "        path_to_model: list,\n",
    "        test_dataset: list,\n",
    "        save_result_path: list,\n",
    "    ):\n",
    "        \n",
    "        self.path_to_model = Path(path_to_model)\n",
    "        self.test_dataset = Path(test_dataset)\n",
    "        self.save_result_path = Path(save_result_path)\n",
    "\n",
    "        self.disease_detector = AI_model({'model': path_to_model})\n",
    "\n",
    "        self.info_data = None\n",
    "    def test(self):\n",
    "        self.info_data = test(\n",
    "            disease_detector= self.disease_detector,\n",
    "            test_dataset= self.test_dataset,\n",
    "            save_result_path= self.save_result_path\n",
    "        )\n",
    "\n",
    "    def save_model(self):\n",
    "        model_name = self.info_data['model']\n",
    "        print(f\"[Save] {self.save_result_path / f'{model_name}.pth'}\")\n",
    "        model = self.disease_detector.cnn_model.model\n",
    "        \n",
    "        torch.save(obj=model.state_dict(), f=(self.save_result_path / f'{model_name}.pth'))\n",
    "        \n",
    "    def load_info_data(self):\n",
    "        with open(str(self.save_result_path /'info.json'), 'r') as f:\n",
    "            self.info_data = json.load(f)\n",
    "            \n",
    "    def plot_confmat(self):\n",
    "        if self.info_data is None:\n",
    "            self.load_info_data()\n",
    "\n",
    "        class_names = self.info_data['class_names']\n",
    "        test_results = self.info_data['results']\n",
    "        plt = plot_confmat(\n",
    "            class_names= class_names,\n",
    "            test_results= test_results,\n",
    "        )\n",
    "        print(f\"[Save] {self.save_result_path / 'confusion_matrix.jpg'}\")\n",
    "        plt.savefig(self.save_result_path / 'confusion_matrix.jpg')\n",
    "        return plt\n",
    "\n",
    "    def find_best_threshold(self):\n",
    "        if self.info_data is None:\n",
    "            self.load_info_data()\n",
    "\n",
    "        info_data_df = pd.DataFrame(self.info_data['results'])\n",
    "\n",
    "        info_data_df['preds'] = info_data_df['preds'].astype(int)\n",
    "        info_data_df['targets'] = info_data_df['targets'].astype(int)\n",
    "\n",
    "        results = cal_precision_recall_per_class(info_data_df)\n",
    "\n",
    "        best_threshold_df = find_best_threshold(results)\n",
    "\n",
    "        plt = plot_summary(best_threshold_df)\n",
    "        \n",
    "        print(f\"[Save] {self.save_result_path / 'best_threshold.xlsx'}\")\n",
    "        best_threshold_df.to_excel(self.save_result_path / 'best_threshold.xlsx')\n",
    "\n",
    "        print(f\"[Save] {self.save_result_path / 'best_threshold.jpg'}\")\n",
    "        plt.savefig(self.save_result_path / 'best_threshold.jpg')\n",
    "        \n",
    "        return best_threshold_df, plt"
   ]
  },
  {
   "cell_type": "markdown",
   "id": "dc097bfd-81e6-4478-b360-232f622587a9",
   "metadata": {},
   "source": [
    "# Run"
   ]
  },
  {
   "cell_type": "code",
   "execution_count": 9,
   "id": "29700dce-5f67-4170-a16f-68da1d6901d3",
   "metadata": {},
   "outputs": [
    {
     "name": "stdout",
     "output_type": "stream",
     "text": [
      "Device: cuda\n"
     ]
    }
   ],
   "source": [
    "import torch\n",
    "\n",
    "torch.cuda.empty_cache()\n",
    "\n",
    "overall_test = Overall_tester(\n",
    "    path_to_model='./runs/classify/train0',\n",
    "    test_dataset= './datasets/tomato_rembg/test/',\n",
    "    save_result_path= './overall_tests/effinet_best',\n",
    ")"
   ]
  },
  {
   "cell_type": "code",
   "execution_count": 10,
   "id": "5d854392-3330-40fd-8141-9c88f4346e8b",
   "metadata": {},
   "outputs": [
    {
     "data": {
      "application/vnd.jupyter.widget-view+json": {
       "model_id": "70737a0880af41e88485e16164915740",
       "version_major": 2,
       "version_minor": 0
      },
      "text/plain": [
       "Class process:   0%|          | 0/10 [00:00<?, ?it/s]"
      ]
     },
     "metadata": {},
     "output_type": "display_data"
    },
    {
     "data": {
      "application/vnd.jupyter.widget-view+json": {
       "model_id": "8edd9baf75d841da895db4257d4f4be0",
       "version_major": 2,
       "version_minor": 0
      },
      "text/plain": [
       "---Image predict:   0%|          | 0/100 [00:00<?, ?it/s]"
      ]
     },
     "metadata": {},
     "output_type": "display_data"
    },
    {
     "ename": "KeyboardInterrupt",
     "evalue": "",
     "output_type": "error",
     "traceback": [
      "\u001b[1;31m---------------------------------------------------------------------------\u001b[0m",
      "\u001b[1;31mKeyboardInterrupt\u001b[0m                         Traceback (most recent call last)",
      "Cell \u001b[1;32mIn[10], line 1\u001b[0m\n\u001b[1;32m----> 1\u001b[0m overall_test\u001b[38;5;241m.\u001b[39mtest()\n",
      "Cell \u001b[1;32mIn[8], line 25\u001b[0m, in \u001b[0;36mOverall_tester.test\u001b[1;34m(self)\u001b[0m\n\u001b[0;32m     24\u001b[0m \u001b[38;5;28;01mdef\u001b[39;00m \u001b[38;5;21mtest\u001b[39m(\u001b[38;5;28mself\u001b[39m):\n\u001b[1;32m---> 25\u001b[0m     \u001b[38;5;28mself\u001b[39m\u001b[38;5;241m.\u001b[39minfo_data \u001b[38;5;241m=\u001b[39m test(\n\u001b[0;32m     26\u001b[0m         disease_detector\u001b[38;5;241m=\u001b[39m \u001b[38;5;28mself\u001b[39m\u001b[38;5;241m.\u001b[39mdisease_detector,\n\u001b[0;32m     27\u001b[0m         test_dataset\u001b[38;5;241m=\u001b[39m \u001b[38;5;28mself\u001b[39m\u001b[38;5;241m.\u001b[39mtest_dataset,\n\u001b[0;32m     28\u001b[0m         save_result_path\u001b[38;5;241m=\u001b[39m \u001b[38;5;28mself\u001b[39m\u001b[38;5;241m.\u001b[39msave_result_path\n\u001b[0;32m     29\u001b[0m     )\n",
      "Cell \u001b[1;32mIn[2], line 39\u001b[0m, in \u001b[0;36mtest\u001b[1;34m(disease_detector, test_dataset, save_result_path)\u001b[0m\n\u001b[0;32m     35\u001b[0m image \u001b[38;5;241m=\u001b[39m Image\u001b[38;5;241m.\u001b[39mopen(img_path)\n\u001b[0;32m     37\u001b[0m image \u001b[38;5;241m=\u001b[39m image\u001b[38;5;241m.\u001b[39mresize((\u001b[38;5;241m224\u001b[39m, \u001b[38;5;241m224\u001b[39m), Image\u001b[38;5;241m.\u001b[39mBILINEAR)\n\u001b[1;32m---> 39\u001b[0m results \u001b[38;5;241m=\u001b[39m disease_detector\u001b[38;5;241m.\u001b[39m_predict(image)\n\u001b[0;32m     41\u001b[0m \u001b[38;5;66;03m# preds = disease_detector.cnn_model.class_name_to_idx[results['class_name']]\u001b[39;00m\n\u001b[0;32m     42\u001b[0m \u001b[38;5;66;03m# target = disease_detector.cnn_model.class_name_to_idx[class_name]\u001b[39;00m\n\u001b[0;32m     44\u001b[0m preds \u001b[38;5;241m=\u001b[39m disease_detector\u001b[38;5;241m.\u001b[39mclass_name_to_idx(class_name\u001b[38;5;241m=\u001b[39mresults[\u001b[38;5;124m'\u001b[39m\u001b[38;5;124mclass_name\u001b[39m\u001b[38;5;124m'\u001b[39m])\n",
      "File \u001b[1;32mG:\\leaf_project\\ai\\model\\disease_detection.py:62\u001b[0m, in \u001b[0;36mAI_model._predict\u001b[1;34m(self, img, model_name, verbose)\u001b[0m\n\u001b[0;32m     58\u001b[0m grad_cam \u001b[38;5;241m=\u001b[39m \u001b[38;5;28mself\u001b[39m\u001b[38;5;241m.\u001b[39mgrad_cam_models\u001b[38;5;241m.\u001b[39mget(model_name, \u001b[38;5;28mlist\u001b[39m(\u001b[38;5;28mself\u001b[39m\u001b[38;5;241m.\u001b[39mgrad_cam_models\u001b[38;5;241m.\u001b[39mvalues())[\u001b[38;5;241m0\u001b[39m])\n\u001b[0;32m     60\u001b[0m predict_logit, predicted_class, score \u001b[38;5;241m=\u001b[39m cnn_model\u001b[38;5;241m.\u001b[39m_predict(removed_bg_img)\n\u001b[1;32m---> 62\u001b[0m grayscale_cam, visualization \u001b[38;5;241m=\u001b[39m grad_cam\u001b[38;5;241m.\u001b[39mvisualize(removed_bg_img, predict_logit, threshold\u001b[38;5;241m=\u001b[39m \u001b[38;5;241m0.5\u001b[39m)\n\u001b[0;32m     64\u001b[0m results \u001b[38;5;241m=\u001b[39m {\n\u001b[0;32m     65\u001b[0m     \u001b[38;5;124m\"\u001b[39m\u001b[38;5;124mimage\u001b[39m\u001b[38;5;124m\"\u001b[39m : img,\n\u001b[0;32m     66\u001b[0m     \u001b[38;5;124m\"\u001b[39m\u001b[38;5;124mpointed_img\u001b[39m\u001b[38;5;124m\"\u001b[39m : pointed_img,\n\u001b[1;32m   (...)\u001b[0m\n\u001b[0;32m     71\u001b[0m     \u001b[38;5;124m\"\u001b[39m\u001b[38;5;124mscore\u001b[39m\u001b[38;5;124m\"\u001b[39m : score\n\u001b[0;32m     72\u001b[0m }\n\u001b[0;32m     73\u001b[0m \u001b[38;5;28;01mreturn\u001b[39;00m results\n",
      "File \u001b[1;32mG:\\leaf_project\\ai\\model\\grad_cam.py:43\u001b[0m, in \u001b[0;36mGrad_cam.visualize\u001b[1;34m(self, img, predict, threshold)\u001b[0m\n\u001b[0;32m     39\u001b[0m rgb_img \u001b[38;5;241m=\u001b[39m img_tensor\u001b[38;5;241m.\u001b[39mpermute(\u001b[38;5;241m1\u001b[39m, \u001b[38;5;241m2\u001b[39m, \u001b[38;5;241m0\u001b[39m)\u001b[38;5;241m.\u001b[39mnumpy()\n\u001b[0;32m     41\u001b[0m targets \u001b[38;5;241m=\u001b[39m [ClassifierOutputTarget(torch\u001b[38;5;241m.\u001b[39margmax(predict, dim\u001b[38;5;241m=\u001b[39m \u001b[38;5;241m1\u001b[39m)\u001b[38;5;241m.\u001b[39mitem())]\n\u001b[1;32m---> 43\u001b[0m grayscale_cam \u001b[38;5;241m=\u001b[39m \u001b[38;5;28mself\u001b[39m\u001b[38;5;241m.\u001b[39mcam(input_tensor\u001b[38;5;241m=\u001b[39mimg_tensor_in_batch, targets\u001b[38;5;241m=\u001b[39m targets)[\u001b[38;5;241m0\u001b[39m]\n\u001b[0;32m     45\u001b[0m \u001b[38;5;66;03m# grayscale_cam[grayscale_cam < threshold] = 0\u001b[39;00m\n\u001b[0;32m     47\u001b[0m visualization \u001b[38;5;241m=\u001b[39m show_cam_on_image(rgb_img, grayscale_cam, use_rgb\u001b[38;5;241m=\u001b[39m\u001b[38;5;28;01mTrue\u001b[39;00m)\n",
      "File \u001b[1;32m~\\miniconda3\\envs\\leaf_project\\Lib\\site-packages\\pytorch_grad_cam\\base_cam.py:186\u001b[0m, in \u001b[0;36mBaseCAM.__call__\u001b[1;34m(self, input_tensor, targets, aug_smooth, eigen_smooth)\u001b[0m\n\u001b[0;32m    183\u001b[0m \u001b[38;5;28;01mif\u001b[39;00m aug_smooth \u001b[38;5;129;01mis\u001b[39;00m \u001b[38;5;28;01mTrue\u001b[39;00m:\n\u001b[0;32m    184\u001b[0m     \u001b[38;5;28;01mreturn\u001b[39;00m \u001b[38;5;28mself\u001b[39m\u001b[38;5;241m.\u001b[39mforward_augmentation_smoothing(input_tensor, targets, eigen_smooth)\n\u001b[1;32m--> 186\u001b[0m \u001b[38;5;28;01mreturn\u001b[39;00m \u001b[38;5;28mself\u001b[39m\u001b[38;5;241m.\u001b[39mforward(input_tensor, targets, eigen_smooth)\n",
      "File \u001b[1;32m~\\miniconda3\\envs\\leaf_project\\Lib\\site-packages\\pytorch_grad_cam\\base_cam.py:90\u001b[0m, in \u001b[0;36mBaseCAM.forward\u001b[1;34m(self, input_tensor, targets, eigen_smooth)\u001b[0m\n\u001b[0;32m     87\u001b[0m \u001b[38;5;28;01mif\u001b[39;00m \u001b[38;5;28mself\u001b[39m\u001b[38;5;241m.\u001b[39mcompute_input_gradient:\n\u001b[0;32m     88\u001b[0m     input_tensor \u001b[38;5;241m=\u001b[39m torch\u001b[38;5;241m.\u001b[39mautograd\u001b[38;5;241m.\u001b[39mVariable(input_tensor, requires_grad\u001b[38;5;241m=\u001b[39m\u001b[38;5;28;01mTrue\u001b[39;00m)\n\u001b[1;32m---> 90\u001b[0m \u001b[38;5;28mself\u001b[39m\u001b[38;5;241m.\u001b[39moutputs \u001b[38;5;241m=\u001b[39m outputs \u001b[38;5;241m=\u001b[39m \u001b[38;5;28mself\u001b[39m\u001b[38;5;241m.\u001b[39mactivations_and_grads(input_tensor)\n\u001b[0;32m     92\u001b[0m \u001b[38;5;28;01mif\u001b[39;00m targets \u001b[38;5;129;01mis\u001b[39;00m \u001b[38;5;28;01mNone\u001b[39;00m:\n\u001b[0;32m     93\u001b[0m     target_categories \u001b[38;5;241m=\u001b[39m np\u001b[38;5;241m.\u001b[39margmax(outputs\u001b[38;5;241m.\u001b[39mcpu()\u001b[38;5;241m.\u001b[39mdata\u001b[38;5;241m.\u001b[39mnumpy(), axis\u001b[38;5;241m=\u001b[39m\u001b[38;5;241m-\u001b[39m\u001b[38;5;241m1\u001b[39m)\n",
      "File \u001b[1;32m~\\miniconda3\\envs\\leaf_project\\Lib\\site-packages\\pytorch_grad_cam\\activations_and_gradients.py:42\u001b[0m, in \u001b[0;36mActivationsAndGradients.__call__\u001b[1;34m(self, x)\u001b[0m\n\u001b[0;32m     40\u001b[0m \u001b[38;5;28mself\u001b[39m\u001b[38;5;241m.\u001b[39mgradients \u001b[38;5;241m=\u001b[39m []\n\u001b[0;32m     41\u001b[0m \u001b[38;5;28mself\u001b[39m\u001b[38;5;241m.\u001b[39mactivations \u001b[38;5;241m=\u001b[39m []\n\u001b[1;32m---> 42\u001b[0m \u001b[38;5;28;01mreturn\u001b[39;00m \u001b[38;5;28mself\u001b[39m\u001b[38;5;241m.\u001b[39mmodel(x)\n",
      "File \u001b[1;32m~\\miniconda3\\envs\\leaf_project\\Lib\\site-packages\\torch\\nn\\modules\\module.py:1532\u001b[0m, in \u001b[0;36mModule._wrapped_call_impl\u001b[1;34m(self, *args, **kwargs)\u001b[0m\n\u001b[0;32m   1530\u001b[0m     \u001b[38;5;28;01mreturn\u001b[39;00m \u001b[38;5;28mself\u001b[39m\u001b[38;5;241m.\u001b[39m_compiled_call_impl(\u001b[38;5;241m*\u001b[39margs, \u001b[38;5;241m*\u001b[39m\u001b[38;5;241m*\u001b[39mkwargs)  \u001b[38;5;66;03m# type: ignore[misc]\u001b[39;00m\n\u001b[0;32m   1531\u001b[0m \u001b[38;5;28;01melse\u001b[39;00m:\n\u001b[1;32m-> 1532\u001b[0m     \u001b[38;5;28;01mreturn\u001b[39;00m \u001b[38;5;28mself\u001b[39m\u001b[38;5;241m.\u001b[39m_call_impl(\u001b[38;5;241m*\u001b[39margs, \u001b[38;5;241m*\u001b[39m\u001b[38;5;241m*\u001b[39mkwargs)\n",
      "File \u001b[1;32m~\\miniconda3\\envs\\leaf_project\\Lib\\site-packages\\torch\\nn\\modules\\module.py:1541\u001b[0m, in \u001b[0;36mModule._call_impl\u001b[1;34m(self, *args, **kwargs)\u001b[0m\n\u001b[0;32m   1536\u001b[0m \u001b[38;5;66;03m# If we don't have any hooks, we want to skip the rest of the logic in\u001b[39;00m\n\u001b[0;32m   1537\u001b[0m \u001b[38;5;66;03m# this function, and just call forward.\u001b[39;00m\n\u001b[0;32m   1538\u001b[0m \u001b[38;5;28;01mif\u001b[39;00m \u001b[38;5;129;01mnot\u001b[39;00m (\u001b[38;5;28mself\u001b[39m\u001b[38;5;241m.\u001b[39m_backward_hooks \u001b[38;5;129;01mor\u001b[39;00m \u001b[38;5;28mself\u001b[39m\u001b[38;5;241m.\u001b[39m_backward_pre_hooks \u001b[38;5;129;01mor\u001b[39;00m \u001b[38;5;28mself\u001b[39m\u001b[38;5;241m.\u001b[39m_forward_hooks \u001b[38;5;129;01mor\u001b[39;00m \u001b[38;5;28mself\u001b[39m\u001b[38;5;241m.\u001b[39m_forward_pre_hooks\n\u001b[0;32m   1539\u001b[0m         \u001b[38;5;129;01mor\u001b[39;00m _global_backward_pre_hooks \u001b[38;5;129;01mor\u001b[39;00m _global_backward_hooks\n\u001b[0;32m   1540\u001b[0m         \u001b[38;5;129;01mor\u001b[39;00m _global_forward_hooks \u001b[38;5;129;01mor\u001b[39;00m _global_forward_pre_hooks):\n\u001b[1;32m-> 1541\u001b[0m     \u001b[38;5;28;01mreturn\u001b[39;00m forward_call(\u001b[38;5;241m*\u001b[39margs, \u001b[38;5;241m*\u001b[39m\u001b[38;5;241m*\u001b[39mkwargs)\n\u001b[0;32m   1543\u001b[0m \u001b[38;5;28;01mtry\u001b[39;00m:\n\u001b[0;32m   1544\u001b[0m     result \u001b[38;5;241m=\u001b[39m \u001b[38;5;28;01mNone\u001b[39;00m\n",
      "File \u001b[1;32m~\\miniconda3\\envs\\leaf_project\\Lib\\site-packages\\torchvision\\models\\efficientnet.py:343\u001b[0m, in \u001b[0;36mEfficientNet.forward\u001b[1;34m(self, x)\u001b[0m\n\u001b[0;32m    342\u001b[0m \u001b[38;5;28;01mdef\u001b[39;00m \u001b[38;5;21mforward\u001b[39m(\u001b[38;5;28mself\u001b[39m, x: Tensor) \u001b[38;5;241m-\u001b[39m\u001b[38;5;241m>\u001b[39m Tensor:\n\u001b[1;32m--> 343\u001b[0m     \u001b[38;5;28;01mreturn\u001b[39;00m \u001b[38;5;28mself\u001b[39m\u001b[38;5;241m.\u001b[39m_forward_impl(x)\n",
      "File \u001b[1;32m~\\miniconda3\\envs\\leaf_project\\Lib\\site-packages\\torchvision\\models\\efficientnet.py:333\u001b[0m, in \u001b[0;36mEfficientNet._forward_impl\u001b[1;34m(self, x)\u001b[0m\n\u001b[0;32m    332\u001b[0m \u001b[38;5;28;01mdef\u001b[39;00m \u001b[38;5;21m_forward_impl\u001b[39m(\u001b[38;5;28mself\u001b[39m, x: Tensor) \u001b[38;5;241m-\u001b[39m\u001b[38;5;241m>\u001b[39m Tensor:\n\u001b[1;32m--> 333\u001b[0m     x \u001b[38;5;241m=\u001b[39m \u001b[38;5;28mself\u001b[39m\u001b[38;5;241m.\u001b[39mfeatures(x)\n\u001b[0;32m    335\u001b[0m     x \u001b[38;5;241m=\u001b[39m \u001b[38;5;28mself\u001b[39m\u001b[38;5;241m.\u001b[39mavgpool(x)\n\u001b[0;32m    336\u001b[0m     x \u001b[38;5;241m=\u001b[39m torch\u001b[38;5;241m.\u001b[39mflatten(x, \u001b[38;5;241m1\u001b[39m)\n",
      "File \u001b[1;32m~\\miniconda3\\envs\\leaf_project\\Lib\\site-packages\\torch\\nn\\modules\\module.py:1532\u001b[0m, in \u001b[0;36mModule._wrapped_call_impl\u001b[1;34m(self, *args, **kwargs)\u001b[0m\n\u001b[0;32m   1530\u001b[0m     \u001b[38;5;28;01mreturn\u001b[39;00m \u001b[38;5;28mself\u001b[39m\u001b[38;5;241m.\u001b[39m_compiled_call_impl(\u001b[38;5;241m*\u001b[39margs, \u001b[38;5;241m*\u001b[39m\u001b[38;5;241m*\u001b[39mkwargs)  \u001b[38;5;66;03m# type: ignore[misc]\u001b[39;00m\n\u001b[0;32m   1531\u001b[0m \u001b[38;5;28;01melse\u001b[39;00m:\n\u001b[1;32m-> 1532\u001b[0m     \u001b[38;5;28;01mreturn\u001b[39;00m \u001b[38;5;28mself\u001b[39m\u001b[38;5;241m.\u001b[39m_call_impl(\u001b[38;5;241m*\u001b[39margs, \u001b[38;5;241m*\u001b[39m\u001b[38;5;241m*\u001b[39mkwargs)\n",
      "File \u001b[1;32m~\\miniconda3\\envs\\leaf_project\\Lib\\site-packages\\torch\\nn\\modules\\module.py:1541\u001b[0m, in \u001b[0;36mModule._call_impl\u001b[1;34m(self, *args, **kwargs)\u001b[0m\n\u001b[0;32m   1536\u001b[0m \u001b[38;5;66;03m# If we don't have any hooks, we want to skip the rest of the logic in\u001b[39;00m\n\u001b[0;32m   1537\u001b[0m \u001b[38;5;66;03m# this function, and just call forward.\u001b[39;00m\n\u001b[0;32m   1538\u001b[0m \u001b[38;5;28;01mif\u001b[39;00m \u001b[38;5;129;01mnot\u001b[39;00m (\u001b[38;5;28mself\u001b[39m\u001b[38;5;241m.\u001b[39m_backward_hooks \u001b[38;5;129;01mor\u001b[39;00m \u001b[38;5;28mself\u001b[39m\u001b[38;5;241m.\u001b[39m_backward_pre_hooks \u001b[38;5;129;01mor\u001b[39;00m \u001b[38;5;28mself\u001b[39m\u001b[38;5;241m.\u001b[39m_forward_hooks \u001b[38;5;129;01mor\u001b[39;00m \u001b[38;5;28mself\u001b[39m\u001b[38;5;241m.\u001b[39m_forward_pre_hooks\n\u001b[0;32m   1539\u001b[0m         \u001b[38;5;129;01mor\u001b[39;00m _global_backward_pre_hooks \u001b[38;5;129;01mor\u001b[39;00m _global_backward_hooks\n\u001b[0;32m   1540\u001b[0m         \u001b[38;5;129;01mor\u001b[39;00m _global_forward_hooks \u001b[38;5;129;01mor\u001b[39;00m _global_forward_pre_hooks):\n\u001b[1;32m-> 1541\u001b[0m     \u001b[38;5;28;01mreturn\u001b[39;00m forward_call(\u001b[38;5;241m*\u001b[39margs, \u001b[38;5;241m*\u001b[39m\u001b[38;5;241m*\u001b[39mkwargs)\n\u001b[0;32m   1543\u001b[0m \u001b[38;5;28;01mtry\u001b[39;00m:\n\u001b[0;32m   1544\u001b[0m     result \u001b[38;5;241m=\u001b[39m \u001b[38;5;28;01mNone\u001b[39;00m\n",
      "File \u001b[1;32m~\\miniconda3\\envs\\leaf_project\\Lib\\site-packages\\torch\\nn\\modules\\container.py:217\u001b[0m, in \u001b[0;36mSequential.forward\u001b[1;34m(self, input)\u001b[0m\n\u001b[0;32m    215\u001b[0m \u001b[38;5;28;01mdef\u001b[39;00m \u001b[38;5;21mforward\u001b[39m(\u001b[38;5;28mself\u001b[39m, \u001b[38;5;28minput\u001b[39m):\n\u001b[0;32m    216\u001b[0m     \u001b[38;5;28;01mfor\u001b[39;00m module \u001b[38;5;129;01min\u001b[39;00m \u001b[38;5;28mself\u001b[39m:\n\u001b[1;32m--> 217\u001b[0m         \u001b[38;5;28minput\u001b[39m \u001b[38;5;241m=\u001b[39m module(\u001b[38;5;28minput\u001b[39m)\n\u001b[0;32m    218\u001b[0m     \u001b[38;5;28;01mreturn\u001b[39;00m \u001b[38;5;28minput\u001b[39m\n",
      "File \u001b[1;32m~\\miniconda3\\envs\\leaf_project\\Lib\\site-packages\\torch\\nn\\modules\\module.py:1532\u001b[0m, in \u001b[0;36mModule._wrapped_call_impl\u001b[1;34m(self, *args, **kwargs)\u001b[0m\n\u001b[0;32m   1530\u001b[0m     \u001b[38;5;28;01mreturn\u001b[39;00m \u001b[38;5;28mself\u001b[39m\u001b[38;5;241m.\u001b[39m_compiled_call_impl(\u001b[38;5;241m*\u001b[39margs, \u001b[38;5;241m*\u001b[39m\u001b[38;5;241m*\u001b[39mkwargs)  \u001b[38;5;66;03m# type: ignore[misc]\u001b[39;00m\n\u001b[0;32m   1531\u001b[0m \u001b[38;5;28;01melse\u001b[39;00m:\n\u001b[1;32m-> 1532\u001b[0m     \u001b[38;5;28;01mreturn\u001b[39;00m \u001b[38;5;28mself\u001b[39m\u001b[38;5;241m.\u001b[39m_call_impl(\u001b[38;5;241m*\u001b[39margs, \u001b[38;5;241m*\u001b[39m\u001b[38;5;241m*\u001b[39mkwargs)\n",
      "File \u001b[1;32m~\\miniconda3\\envs\\leaf_project\\Lib\\site-packages\\torch\\nn\\modules\\module.py:1541\u001b[0m, in \u001b[0;36mModule._call_impl\u001b[1;34m(self, *args, **kwargs)\u001b[0m\n\u001b[0;32m   1536\u001b[0m \u001b[38;5;66;03m# If we don't have any hooks, we want to skip the rest of the logic in\u001b[39;00m\n\u001b[0;32m   1537\u001b[0m \u001b[38;5;66;03m# this function, and just call forward.\u001b[39;00m\n\u001b[0;32m   1538\u001b[0m \u001b[38;5;28;01mif\u001b[39;00m \u001b[38;5;129;01mnot\u001b[39;00m (\u001b[38;5;28mself\u001b[39m\u001b[38;5;241m.\u001b[39m_backward_hooks \u001b[38;5;129;01mor\u001b[39;00m \u001b[38;5;28mself\u001b[39m\u001b[38;5;241m.\u001b[39m_backward_pre_hooks \u001b[38;5;129;01mor\u001b[39;00m \u001b[38;5;28mself\u001b[39m\u001b[38;5;241m.\u001b[39m_forward_hooks \u001b[38;5;129;01mor\u001b[39;00m \u001b[38;5;28mself\u001b[39m\u001b[38;5;241m.\u001b[39m_forward_pre_hooks\n\u001b[0;32m   1539\u001b[0m         \u001b[38;5;129;01mor\u001b[39;00m _global_backward_pre_hooks \u001b[38;5;129;01mor\u001b[39;00m _global_backward_hooks\n\u001b[0;32m   1540\u001b[0m         \u001b[38;5;129;01mor\u001b[39;00m _global_forward_hooks \u001b[38;5;129;01mor\u001b[39;00m _global_forward_pre_hooks):\n\u001b[1;32m-> 1541\u001b[0m     \u001b[38;5;28;01mreturn\u001b[39;00m forward_call(\u001b[38;5;241m*\u001b[39margs, \u001b[38;5;241m*\u001b[39m\u001b[38;5;241m*\u001b[39mkwargs)\n\u001b[0;32m   1543\u001b[0m \u001b[38;5;28;01mtry\u001b[39;00m:\n\u001b[0;32m   1544\u001b[0m     result \u001b[38;5;241m=\u001b[39m \u001b[38;5;28;01mNone\u001b[39;00m\n",
      "File \u001b[1;32m~\\miniconda3\\envs\\leaf_project\\Lib\\site-packages\\torch\\nn\\modules\\container.py:217\u001b[0m, in \u001b[0;36mSequential.forward\u001b[1;34m(self, input)\u001b[0m\n\u001b[0;32m    215\u001b[0m \u001b[38;5;28;01mdef\u001b[39;00m \u001b[38;5;21mforward\u001b[39m(\u001b[38;5;28mself\u001b[39m, \u001b[38;5;28minput\u001b[39m):\n\u001b[0;32m    216\u001b[0m     \u001b[38;5;28;01mfor\u001b[39;00m module \u001b[38;5;129;01min\u001b[39;00m \u001b[38;5;28mself\u001b[39m:\n\u001b[1;32m--> 217\u001b[0m         \u001b[38;5;28minput\u001b[39m \u001b[38;5;241m=\u001b[39m module(\u001b[38;5;28minput\u001b[39m)\n\u001b[0;32m    218\u001b[0m     \u001b[38;5;28;01mreturn\u001b[39;00m \u001b[38;5;28minput\u001b[39m\n",
      "File \u001b[1;32m~\\miniconda3\\envs\\leaf_project\\Lib\\site-packages\\torch\\nn\\modules\\module.py:1532\u001b[0m, in \u001b[0;36mModule._wrapped_call_impl\u001b[1;34m(self, *args, **kwargs)\u001b[0m\n\u001b[0;32m   1530\u001b[0m     \u001b[38;5;28;01mreturn\u001b[39;00m \u001b[38;5;28mself\u001b[39m\u001b[38;5;241m.\u001b[39m_compiled_call_impl(\u001b[38;5;241m*\u001b[39margs, \u001b[38;5;241m*\u001b[39m\u001b[38;5;241m*\u001b[39mkwargs)  \u001b[38;5;66;03m# type: ignore[misc]\u001b[39;00m\n\u001b[0;32m   1531\u001b[0m \u001b[38;5;28;01melse\u001b[39;00m:\n\u001b[1;32m-> 1532\u001b[0m     \u001b[38;5;28;01mreturn\u001b[39;00m \u001b[38;5;28mself\u001b[39m\u001b[38;5;241m.\u001b[39m_call_impl(\u001b[38;5;241m*\u001b[39margs, \u001b[38;5;241m*\u001b[39m\u001b[38;5;241m*\u001b[39mkwargs)\n",
      "File \u001b[1;32m~\\miniconda3\\envs\\leaf_project\\Lib\\site-packages\\torch\\nn\\modules\\module.py:1541\u001b[0m, in \u001b[0;36mModule._call_impl\u001b[1;34m(self, *args, **kwargs)\u001b[0m\n\u001b[0;32m   1536\u001b[0m \u001b[38;5;66;03m# If we don't have any hooks, we want to skip the rest of the logic in\u001b[39;00m\n\u001b[0;32m   1537\u001b[0m \u001b[38;5;66;03m# this function, and just call forward.\u001b[39;00m\n\u001b[0;32m   1538\u001b[0m \u001b[38;5;28;01mif\u001b[39;00m \u001b[38;5;129;01mnot\u001b[39;00m (\u001b[38;5;28mself\u001b[39m\u001b[38;5;241m.\u001b[39m_backward_hooks \u001b[38;5;129;01mor\u001b[39;00m \u001b[38;5;28mself\u001b[39m\u001b[38;5;241m.\u001b[39m_backward_pre_hooks \u001b[38;5;129;01mor\u001b[39;00m \u001b[38;5;28mself\u001b[39m\u001b[38;5;241m.\u001b[39m_forward_hooks \u001b[38;5;129;01mor\u001b[39;00m \u001b[38;5;28mself\u001b[39m\u001b[38;5;241m.\u001b[39m_forward_pre_hooks\n\u001b[0;32m   1539\u001b[0m         \u001b[38;5;129;01mor\u001b[39;00m _global_backward_pre_hooks \u001b[38;5;129;01mor\u001b[39;00m _global_backward_hooks\n\u001b[0;32m   1540\u001b[0m         \u001b[38;5;129;01mor\u001b[39;00m _global_forward_hooks \u001b[38;5;129;01mor\u001b[39;00m _global_forward_pre_hooks):\n\u001b[1;32m-> 1541\u001b[0m     \u001b[38;5;28;01mreturn\u001b[39;00m forward_call(\u001b[38;5;241m*\u001b[39margs, \u001b[38;5;241m*\u001b[39m\u001b[38;5;241m*\u001b[39mkwargs)\n\u001b[0;32m   1543\u001b[0m \u001b[38;5;28;01mtry\u001b[39;00m:\n\u001b[0;32m   1544\u001b[0m     result \u001b[38;5;241m=\u001b[39m \u001b[38;5;28;01mNone\u001b[39;00m\n",
      "File \u001b[1;32m~\\miniconda3\\envs\\leaf_project\\Lib\\site-packages\\torchvision\\models\\efficientnet.py:164\u001b[0m, in \u001b[0;36mMBConv.forward\u001b[1;34m(self, input)\u001b[0m\n\u001b[0;32m    163\u001b[0m \u001b[38;5;28;01mdef\u001b[39;00m \u001b[38;5;21mforward\u001b[39m(\u001b[38;5;28mself\u001b[39m, \u001b[38;5;28minput\u001b[39m: Tensor) \u001b[38;5;241m-\u001b[39m\u001b[38;5;241m>\u001b[39m Tensor:\n\u001b[1;32m--> 164\u001b[0m     result \u001b[38;5;241m=\u001b[39m \u001b[38;5;28mself\u001b[39m\u001b[38;5;241m.\u001b[39mblock(\u001b[38;5;28minput\u001b[39m)\n\u001b[0;32m    165\u001b[0m     \u001b[38;5;28;01mif\u001b[39;00m \u001b[38;5;28mself\u001b[39m\u001b[38;5;241m.\u001b[39muse_res_connect:\n\u001b[0;32m    166\u001b[0m         result \u001b[38;5;241m=\u001b[39m \u001b[38;5;28mself\u001b[39m\u001b[38;5;241m.\u001b[39mstochastic_depth(result)\n",
      "File \u001b[1;32m~\\miniconda3\\envs\\leaf_project\\Lib\\site-packages\\torch\\nn\\modules\\module.py:1532\u001b[0m, in \u001b[0;36mModule._wrapped_call_impl\u001b[1;34m(self, *args, **kwargs)\u001b[0m\n\u001b[0;32m   1530\u001b[0m     \u001b[38;5;28;01mreturn\u001b[39;00m \u001b[38;5;28mself\u001b[39m\u001b[38;5;241m.\u001b[39m_compiled_call_impl(\u001b[38;5;241m*\u001b[39margs, \u001b[38;5;241m*\u001b[39m\u001b[38;5;241m*\u001b[39mkwargs)  \u001b[38;5;66;03m# type: ignore[misc]\u001b[39;00m\n\u001b[0;32m   1531\u001b[0m \u001b[38;5;28;01melse\u001b[39;00m:\n\u001b[1;32m-> 1532\u001b[0m     \u001b[38;5;28;01mreturn\u001b[39;00m \u001b[38;5;28mself\u001b[39m\u001b[38;5;241m.\u001b[39m_call_impl(\u001b[38;5;241m*\u001b[39margs, \u001b[38;5;241m*\u001b[39m\u001b[38;5;241m*\u001b[39mkwargs)\n",
      "File \u001b[1;32m~\\miniconda3\\envs\\leaf_project\\Lib\\site-packages\\torch\\nn\\modules\\module.py:1541\u001b[0m, in \u001b[0;36mModule._call_impl\u001b[1;34m(self, *args, **kwargs)\u001b[0m\n\u001b[0;32m   1536\u001b[0m \u001b[38;5;66;03m# If we don't have any hooks, we want to skip the rest of the logic in\u001b[39;00m\n\u001b[0;32m   1537\u001b[0m \u001b[38;5;66;03m# this function, and just call forward.\u001b[39;00m\n\u001b[0;32m   1538\u001b[0m \u001b[38;5;28;01mif\u001b[39;00m \u001b[38;5;129;01mnot\u001b[39;00m (\u001b[38;5;28mself\u001b[39m\u001b[38;5;241m.\u001b[39m_backward_hooks \u001b[38;5;129;01mor\u001b[39;00m \u001b[38;5;28mself\u001b[39m\u001b[38;5;241m.\u001b[39m_backward_pre_hooks \u001b[38;5;129;01mor\u001b[39;00m \u001b[38;5;28mself\u001b[39m\u001b[38;5;241m.\u001b[39m_forward_hooks \u001b[38;5;129;01mor\u001b[39;00m \u001b[38;5;28mself\u001b[39m\u001b[38;5;241m.\u001b[39m_forward_pre_hooks\n\u001b[0;32m   1539\u001b[0m         \u001b[38;5;129;01mor\u001b[39;00m _global_backward_pre_hooks \u001b[38;5;129;01mor\u001b[39;00m _global_backward_hooks\n\u001b[0;32m   1540\u001b[0m         \u001b[38;5;129;01mor\u001b[39;00m _global_forward_hooks \u001b[38;5;129;01mor\u001b[39;00m _global_forward_pre_hooks):\n\u001b[1;32m-> 1541\u001b[0m     \u001b[38;5;28;01mreturn\u001b[39;00m forward_call(\u001b[38;5;241m*\u001b[39margs, \u001b[38;5;241m*\u001b[39m\u001b[38;5;241m*\u001b[39mkwargs)\n\u001b[0;32m   1543\u001b[0m \u001b[38;5;28;01mtry\u001b[39;00m:\n\u001b[0;32m   1544\u001b[0m     result \u001b[38;5;241m=\u001b[39m \u001b[38;5;28;01mNone\u001b[39;00m\n",
      "File \u001b[1;32m~\\miniconda3\\envs\\leaf_project\\Lib\\site-packages\\torch\\nn\\modules\\container.py:217\u001b[0m, in \u001b[0;36mSequential.forward\u001b[1;34m(self, input)\u001b[0m\n\u001b[0;32m    215\u001b[0m \u001b[38;5;28;01mdef\u001b[39;00m \u001b[38;5;21mforward\u001b[39m(\u001b[38;5;28mself\u001b[39m, \u001b[38;5;28minput\u001b[39m):\n\u001b[0;32m    216\u001b[0m     \u001b[38;5;28;01mfor\u001b[39;00m module \u001b[38;5;129;01min\u001b[39;00m \u001b[38;5;28mself\u001b[39m:\n\u001b[1;32m--> 217\u001b[0m         \u001b[38;5;28minput\u001b[39m \u001b[38;5;241m=\u001b[39m module(\u001b[38;5;28minput\u001b[39m)\n\u001b[0;32m    218\u001b[0m     \u001b[38;5;28;01mreturn\u001b[39;00m \u001b[38;5;28minput\u001b[39m\n",
      "File \u001b[1;32m~\\miniconda3\\envs\\leaf_project\\Lib\\site-packages\\torch\\nn\\modules\\module.py:1532\u001b[0m, in \u001b[0;36mModule._wrapped_call_impl\u001b[1;34m(self, *args, **kwargs)\u001b[0m\n\u001b[0;32m   1530\u001b[0m     \u001b[38;5;28;01mreturn\u001b[39;00m \u001b[38;5;28mself\u001b[39m\u001b[38;5;241m.\u001b[39m_compiled_call_impl(\u001b[38;5;241m*\u001b[39margs, \u001b[38;5;241m*\u001b[39m\u001b[38;5;241m*\u001b[39mkwargs)  \u001b[38;5;66;03m# type: ignore[misc]\u001b[39;00m\n\u001b[0;32m   1531\u001b[0m \u001b[38;5;28;01melse\u001b[39;00m:\n\u001b[1;32m-> 1532\u001b[0m     \u001b[38;5;28;01mreturn\u001b[39;00m \u001b[38;5;28mself\u001b[39m\u001b[38;5;241m.\u001b[39m_call_impl(\u001b[38;5;241m*\u001b[39margs, \u001b[38;5;241m*\u001b[39m\u001b[38;5;241m*\u001b[39mkwargs)\n",
      "File \u001b[1;32m~\\miniconda3\\envs\\leaf_project\\Lib\\site-packages\\torch\\nn\\modules\\module.py:1541\u001b[0m, in \u001b[0;36mModule._call_impl\u001b[1;34m(self, *args, **kwargs)\u001b[0m\n\u001b[0;32m   1536\u001b[0m \u001b[38;5;66;03m# If we don't have any hooks, we want to skip the rest of the logic in\u001b[39;00m\n\u001b[0;32m   1537\u001b[0m \u001b[38;5;66;03m# this function, and just call forward.\u001b[39;00m\n\u001b[0;32m   1538\u001b[0m \u001b[38;5;28;01mif\u001b[39;00m \u001b[38;5;129;01mnot\u001b[39;00m (\u001b[38;5;28mself\u001b[39m\u001b[38;5;241m.\u001b[39m_backward_hooks \u001b[38;5;129;01mor\u001b[39;00m \u001b[38;5;28mself\u001b[39m\u001b[38;5;241m.\u001b[39m_backward_pre_hooks \u001b[38;5;129;01mor\u001b[39;00m \u001b[38;5;28mself\u001b[39m\u001b[38;5;241m.\u001b[39m_forward_hooks \u001b[38;5;129;01mor\u001b[39;00m \u001b[38;5;28mself\u001b[39m\u001b[38;5;241m.\u001b[39m_forward_pre_hooks\n\u001b[0;32m   1539\u001b[0m         \u001b[38;5;129;01mor\u001b[39;00m _global_backward_pre_hooks \u001b[38;5;129;01mor\u001b[39;00m _global_backward_hooks\n\u001b[0;32m   1540\u001b[0m         \u001b[38;5;129;01mor\u001b[39;00m _global_forward_hooks \u001b[38;5;129;01mor\u001b[39;00m _global_forward_pre_hooks):\n\u001b[1;32m-> 1541\u001b[0m     \u001b[38;5;28;01mreturn\u001b[39;00m forward_call(\u001b[38;5;241m*\u001b[39margs, \u001b[38;5;241m*\u001b[39m\u001b[38;5;241m*\u001b[39mkwargs)\n\u001b[0;32m   1543\u001b[0m \u001b[38;5;28;01mtry\u001b[39;00m:\n\u001b[0;32m   1544\u001b[0m     result \u001b[38;5;241m=\u001b[39m \u001b[38;5;28;01mNone\u001b[39;00m\n",
      "File \u001b[1;32m~\\miniconda3\\envs\\leaf_project\\Lib\\site-packages\\torchvision\\ops\\misc.py:259\u001b[0m, in \u001b[0;36mSqueezeExcitation.forward\u001b[1;34m(self, input)\u001b[0m\n\u001b[0;32m    258\u001b[0m \u001b[38;5;28;01mdef\u001b[39;00m \u001b[38;5;21mforward\u001b[39m(\u001b[38;5;28mself\u001b[39m, \u001b[38;5;28minput\u001b[39m: Tensor) \u001b[38;5;241m-\u001b[39m\u001b[38;5;241m>\u001b[39m Tensor:\n\u001b[1;32m--> 259\u001b[0m     scale \u001b[38;5;241m=\u001b[39m \u001b[38;5;28mself\u001b[39m\u001b[38;5;241m.\u001b[39m_scale(\u001b[38;5;28minput\u001b[39m)\n\u001b[0;32m    260\u001b[0m     \u001b[38;5;28;01mreturn\u001b[39;00m scale \u001b[38;5;241m*\u001b[39m \u001b[38;5;28minput\u001b[39m\n",
      "File \u001b[1;32m~\\miniconda3\\envs\\leaf_project\\Lib\\site-packages\\torchvision\\ops\\misc.py:253\u001b[0m, in \u001b[0;36mSqueezeExcitation._scale\u001b[1;34m(self, input)\u001b[0m\n\u001b[0;32m    251\u001b[0m \u001b[38;5;28;01mdef\u001b[39;00m \u001b[38;5;21m_scale\u001b[39m(\u001b[38;5;28mself\u001b[39m, \u001b[38;5;28minput\u001b[39m: Tensor) \u001b[38;5;241m-\u001b[39m\u001b[38;5;241m>\u001b[39m Tensor:\n\u001b[0;32m    252\u001b[0m     scale \u001b[38;5;241m=\u001b[39m \u001b[38;5;28mself\u001b[39m\u001b[38;5;241m.\u001b[39mavgpool(\u001b[38;5;28minput\u001b[39m)\n\u001b[1;32m--> 253\u001b[0m     scale \u001b[38;5;241m=\u001b[39m \u001b[38;5;28mself\u001b[39m\u001b[38;5;241m.\u001b[39mfc1(scale)\n\u001b[0;32m    254\u001b[0m     scale \u001b[38;5;241m=\u001b[39m \u001b[38;5;28mself\u001b[39m\u001b[38;5;241m.\u001b[39mactivation(scale)\n\u001b[0;32m    255\u001b[0m     scale \u001b[38;5;241m=\u001b[39m \u001b[38;5;28mself\u001b[39m\u001b[38;5;241m.\u001b[39mfc2(scale)\n",
      "File \u001b[1;32m~\\miniconda3\\envs\\leaf_project\\Lib\\site-packages\\torch\\nn\\modules\\module.py:1532\u001b[0m, in \u001b[0;36mModule._wrapped_call_impl\u001b[1;34m(self, *args, **kwargs)\u001b[0m\n\u001b[0;32m   1530\u001b[0m     \u001b[38;5;28;01mreturn\u001b[39;00m \u001b[38;5;28mself\u001b[39m\u001b[38;5;241m.\u001b[39m_compiled_call_impl(\u001b[38;5;241m*\u001b[39margs, \u001b[38;5;241m*\u001b[39m\u001b[38;5;241m*\u001b[39mkwargs)  \u001b[38;5;66;03m# type: ignore[misc]\u001b[39;00m\n\u001b[0;32m   1531\u001b[0m \u001b[38;5;28;01melse\u001b[39;00m:\n\u001b[1;32m-> 1532\u001b[0m     \u001b[38;5;28;01mreturn\u001b[39;00m \u001b[38;5;28mself\u001b[39m\u001b[38;5;241m.\u001b[39m_call_impl(\u001b[38;5;241m*\u001b[39margs, \u001b[38;5;241m*\u001b[39m\u001b[38;5;241m*\u001b[39mkwargs)\n",
      "File \u001b[1;32m~\\miniconda3\\envs\\leaf_project\\Lib\\site-packages\\torch\\nn\\modules\\module.py:1541\u001b[0m, in \u001b[0;36mModule._call_impl\u001b[1;34m(self, *args, **kwargs)\u001b[0m\n\u001b[0;32m   1536\u001b[0m \u001b[38;5;66;03m# If we don't have any hooks, we want to skip the rest of the logic in\u001b[39;00m\n\u001b[0;32m   1537\u001b[0m \u001b[38;5;66;03m# this function, and just call forward.\u001b[39;00m\n\u001b[0;32m   1538\u001b[0m \u001b[38;5;28;01mif\u001b[39;00m \u001b[38;5;129;01mnot\u001b[39;00m (\u001b[38;5;28mself\u001b[39m\u001b[38;5;241m.\u001b[39m_backward_hooks \u001b[38;5;129;01mor\u001b[39;00m \u001b[38;5;28mself\u001b[39m\u001b[38;5;241m.\u001b[39m_backward_pre_hooks \u001b[38;5;129;01mor\u001b[39;00m \u001b[38;5;28mself\u001b[39m\u001b[38;5;241m.\u001b[39m_forward_hooks \u001b[38;5;129;01mor\u001b[39;00m \u001b[38;5;28mself\u001b[39m\u001b[38;5;241m.\u001b[39m_forward_pre_hooks\n\u001b[0;32m   1539\u001b[0m         \u001b[38;5;129;01mor\u001b[39;00m _global_backward_pre_hooks \u001b[38;5;129;01mor\u001b[39;00m _global_backward_hooks\n\u001b[0;32m   1540\u001b[0m         \u001b[38;5;129;01mor\u001b[39;00m _global_forward_hooks \u001b[38;5;129;01mor\u001b[39;00m _global_forward_pre_hooks):\n\u001b[1;32m-> 1541\u001b[0m     \u001b[38;5;28;01mreturn\u001b[39;00m forward_call(\u001b[38;5;241m*\u001b[39margs, \u001b[38;5;241m*\u001b[39m\u001b[38;5;241m*\u001b[39mkwargs)\n\u001b[0;32m   1543\u001b[0m \u001b[38;5;28;01mtry\u001b[39;00m:\n\u001b[0;32m   1544\u001b[0m     result \u001b[38;5;241m=\u001b[39m \u001b[38;5;28;01mNone\u001b[39;00m\n",
      "File \u001b[1;32m~\\miniconda3\\envs\\leaf_project\\Lib\\site-packages\\torch\\nn\\modules\\conv.py:460\u001b[0m, in \u001b[0;36mConv2d.forward\u001b[1;34m(self, input)\u001b[0m\n\u001b[0;32m    459\u001b[0m \u001b[38;5;28;01mdef\u001b[39;00m \u001b[38;5;21mforward\u001b[39m(\u001b[38;5;28mself\u001b[39m, \u001b[38;5;28minput\u001b[39m: Tensor) \u001b[38;5;241m-\u001b[39m\u001b[38;5;241m>\u001b[39m Tensor:\n\u001b[1;32m--> 460\u001b[0m     \u001b[38;5;28;01mreturn\u001b[39;00m \u001b[38;5;28mself\u001b[39m\u001b[38;5;241m.\u001b[39m_conv_forward(\u001b[38;5;28minput\u001b[39m, \u001b[38;5;28mself\u001b[39m\u001b[38;5;241m.\u001b[39mweight, \u001b[38;5;28mself\u001b[39m\u001b[38;5;241m.\u001b[39mbias)\n",
      "File \u001b[1;32m~\\miniconda3\\envs\\leaf_project\\Lib\\site-packages\\torch\\nn\\modules\\conv.py:456\u001b[0m, in \u001b[0;36mConv2d._conv_forward\u001b[1;34m(self, input, weight, bias)\u001b[0m\n\u001b[0;32m    452\u001b[0m \u001b[38;5;28;01mif\u001b[39;00m \u001b[38;5;28mself\u001b[39m\u001b[38;5;241m.\u001b[39mpadding_mode \u001b[38;5;241m!=\u001b[39m \u001b[38;5;124m'\u001b[39m\u001b[38;5;124mzeros\u001b[39m\u001b[38;5;124m'\u001b[39m:\n\u001b[0;32m    453\u001b[0m     \u001b[38;5;28;01mreturn\u001b[39;00m F\u001b[38;5;241m.\u001b[39mconv2d(F\u001b[38;5;241m.\u001b[39mpad(\u001b[38;5;28minput\u001b[39m, \u001b[38;5;28mself\u001b[39m\u001b[38;5;241m.\u001b[39m_reversed_padding_repeated_twice, mode\u001b[38;5;241m=\u001b[39m\u001b[38;5;28mself\u001b[39m\u001b[38;5;241m.\u001b[39mpadding_mode),\n\u001b[0;32m    454\u001b[0m                     weight, bias, \u001b[38;5;28mself\u001b[39m\u001b[38;5;241m.\u001b[39mstride,\n\u001b[0;32m    455\u001b[0m                     _pair(\u001b[38;5;241m0\u001b[39m), \u001b[38;5;28mself\u001b[39m\u001b[38;5;241m.\u001b[39mdilation, \u001b[38;5;28mself\u001b[39m\u001b[38;5;241m.\u001b[39mgroups)\n\u001b[1;32m--> 456\u001b[0m \u001b[38;5;28;01mreturn\u001b[39;00m F\u001b[38;5;241m.\u001b[39mconv2d(\u001b[38;5;28minput\u001b[39m, weight, bias, \u001b[38;5;28mself\u001b[39m\u001b[38;5;241m.\u001b[39mstride,\n\u001b[0;32m    457\u001b[0m                 \u001b[38;5;28mself\u001b[39m\u001b[38;5;241m.\u001b[39mpadding, \u001b[38;5;28mself\u001b[39m\u001b[38;5;241m.\u001b[39mdilation, \u001b[38;5;28mself\u001b[39m\u001b[38;5;241m.\u001b[39mgroups)\n",
      "\u001b[1;31mKeyboardInterrupt\u001b[0m: "
     ]
    }
   ],
   "source": [
    "overall_test.test()"
   ]
  },
  {
   "cell_type": "code",
   "execution_count": null,
   "id": "5ddaab11-9a9d-4907-a711-21148efbddeb",
   "metadata": {},
   "outputs": [],
   "source": [
    "overall_test.plot_confmat()"
   ]
  },
  {
   "cell_type": "code",
   "execution_count": null,
   "id": "3d4a1c52-d76d-4be9-9374-a6721f076aa8",
   "metadata": {},
   "outputs": [],
   "source": [
    "overall_test.save_model()"
   ]
  },
  {
   "cell_type": "code",
   "execution_count": null,
   "id": "bbd0fba1-f106-41e4-9ce9-1950125fcceb",
   "metadata": {},
   "outputs": [],
   "source": [
    "best_threshold_df, plt = overall_test.find_best_threshold()"
   ]
  },
  {
   "cell_type": "code",
   "execution_count": null,
   "id": "66fb5a18-d524-4fd1-95fd-16ef279d952b",
   "metadata": {},
   "outputs": [],
   "source": []
  },
  {
   "cell_type": "code",
   "execution_count": null,
   "id": "8e569819-0a36-4e9e-b0eb-9ff25d5a064e",
   "metadata": {},
   "outputs": [],
   "source": [
    "import torch\n",
    "\n",
    "torch.cuda.empty_cache()\n",
    "\n",
    "overall_test = Overall_tester(\n",
    "    path_to_model='./runs/classify/train1',\n",
    "    test_dataset= './datasets/tomato_rembg/test/',\n",
    "    save_result_path= './overall_tests/resnet50_best',\n",
    ")"
   ]
  },
  {
   "cell_type": "code",
   "execution_count": null,
   "id": "3015f6cf-b8c8-48c2-9d3b-af986de3551c",
   "metadata": {},
   "outputs": [],
   "source": [
    "overall_test.plot_confmat()"
   ]
  },
  {
   "cell_type": "code",
   "execution_count": null,
   "id": "88852c73-a7f8-40ba-aaf1-cac418dbfb09",
   "metadata": {},
   "outputs": [],
   "source": [
    "overall_test.test()"
   ]
  },
  {
   "cell_type": "code",
   "execution_count": null,
   "id": "02b939b7-49f3-479c-b6af-480be4449cba",
   "metadata": {},
   "outputs": [],
   "source": [
    "overall_test.save_model()"
   ]
  },
  {
   "cell_type": "code",
   "execution_count": null,
   "id": "1c711e2b-bd55-4175-a3b7-4a7e3ef42e30",
   "metadata": {},
   "outputs": [],
   "source": [
    "best_threshold_df, plt = overall_test.find_best_threshold()"
   ]
  },
  {
   "cell_type": "code",
   "execution_count": null,
   "id": "3475755c-06f2-4323-a123-2e16d4bbba89",
   "metadata": {},
   "outputs": [],
   "source": []
  },
  {
   "cell_type": "code",
   "execution_count": null,
   "id": "bdfe0dae-4c23-4bb8-b4d2-66d9f0b98905",
   "metadata": {},
   "outputs": [],
   "source": [
    "import torch\n",
    "\n",
    "torch.cuda.empty_cache()\n",
    "\n",
    "overall_test = Overall_tester(\n",
    "    path_to_model='./runs/classify/train2',\n",
    "    test_dataset= './datasets/tomato_rembg/test/',\n",
    "    save_result_path= './overall_tests/vgg16_best',\n",
    ")"
   ]
  },
  {
   "cell_type": "code",
   "execution_count": null,
   "id": "6df31fd3-0fc3-480f-be38-63f972affa32",
   "metadata": {},
   "outputs": [],
   "source": [
    "overall_test.plot_confmat()"
   ]
  },
  {
   "cell_type": "code",
   "execution_count": null,
   "id": "814a0a31-7e0a-47b9-b4e6-8a843dea4fb8",
   "metadata": {},
   "outputs": [],
   "source": [
    "overall_test.test()"
   ]
  },
  {
   "cell_type": "code",
   "execution_count": null,
   "id": "faac6439-a815-4264-9d90-0fcdfbccda1b",
   "metadata": {},
   "outputs": [],
   "source": [
    "overall_test.save_model()"
   ]
  },
  {
   "cell_type": "code",
   "execution_count": null,
   "id": "56db81f7-8cb9-4a7a-842b-c53db2e6a198",
   "metadata": {},
   "outputs": [],
   "source": [
    "best_threshold_df, plt = overall_test.find_best_threshold()"
   ]
  }
 ],
 "metadata": {
  "kernelspec": {
   "display_name": "Python 3 (ipykernel)",
   "language": "python",
   "name": "python3"
  },
  "language_info": {
   "codemirror_mode": {
    "name": "ipython",
    "version": 3
   },
   "file_extension": ".py",
   "mimetype": "text/x-python",
   "name": "python",
   "nbconvert_exporter": "python",
   "pygments_lexer": "ipython3",
   "version": "3.11.9"
  }
 },
 "nbformat": 4,
 "nbformat_minor": 5
}
