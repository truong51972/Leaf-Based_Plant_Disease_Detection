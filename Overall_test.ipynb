{
 "cells": [
  {
   "cell_type": "markdown",
   "id": "40e7a72a-ba8d-4679-b699-50044afe50a6",
   "metadata": {},
   "source": [
    "# Funcions"
   ]
  },
  {
   "cell_type": "markdown",
   "id": "06a72b83-3ee1-446e-86e9-e3bafa1e952a",
   "metadata": {},
   "source": [
    "## plot_predict_result"
   ]
  },
  {
   "cell_type": "code",
   "execution_count": 1,
   "id": "3202fbdb-ee2f-40e0-b84f-854698fe2a4e",
   "metadata": {},
   "outputs": [],
   "source": [
    "import matplotlib.pyplot as plt\n",
    "\n",
    "def plot_predict_result(results, save_path=None):\n",
    "    plt.figure(figsize=[7, 7])\n",
    "    \n",
    "    plt.subplot(2, 2, 1)\n",
    "    plt.imshow(results['image'])\n",
    "    plt.title(results['class_name'])\n",
    "    plt.axis(\"off\")\n",
    "    \n",
    "    plt.subplot(2, 2, 2)\n",
    "    plt.imshow(results['pointed_img'])\n",
    "    plt.title('pointed_img')\n",
    "    plt.axis(\"off\")\n",
    "    \n",
    "    plt.subplot(2, 2, 3)\n",
    "    plt.imshow(results['removed_bg_img'])\n",
    "    plt.title('rembg')\n",
    "    plt.axis(\"off\")\n",
    "    \n",
    "    plt.subplot(2, 2, 4)\n",
    "    plt.imshow(results['predicted_image'])\n",
    "    plt.title(results['score'])\n",
    "    plt.axis(\"off\")\n",
    "\n",
    "    if save_path is not None:\n",
    "        plt.savefig(save_path)\n",
    "\n",
    "    return plt"
   ]
  },
  {
   "cell_type": "markdown",
   "id": "cd1fd832-4b16-475e-81c0-0051ad641a81",
   "metadata": {},
   "source": [
    "## test"
   ]
  },
  {
   "cell_type": "code",
   "execution_count": 2,
   "id": "16cab316-e5b6-4de3-bbec-d79028b91e5c",
   "metadata": {
    "scrolled": true
   },
   "outputs": [],
   "source": [
    "import torch\n",
    "\n",
    "from pathlib import Path\n",
    "import os\n",
    "from tqdm.auto import tqdm\n",
    "import time\n",
    "from PIL import Image\n",
    "import json\n",
    "\n",
    "from model.disease_detection import AI_model\n",
    "\n",
    "def test(\n",
    "    disease_detector: AI_model,\n",
    "    test_dataset: list,\n",
    "    save_result_path: list,\n",
    "):\n",
    "    \n",
    "    test_path = Path(test_dataset)\n",
    "    \n",
    "    save_results_root_path = Path(save_result_path)\n",
    "    save_results_root_path.mkdir(exist_ok=True, parents=True)\n",
    "\n",
    "    save_results_img_path = save_results_root_path / 'imgs'\n",
    "    save_results_img_path.mkdir(exist_ok=True, parents=True)\n",
    "    \n",
    "    test_results = {\n",
    "        'preds' : [],\n",
    "        'targets' : [],\n",
    "        'scores' : []\n",
    "    }\n",
    "    \n",
    "    for class_name in tqdm(os.listdir(test_path), desc='Class process'):\n",
    "        for img_name in tqdm(os.listdir(test_path / class_name), desc='---Image predict'):\n",
    "            img_path = test_path / class_name / img_name\n",
    "            image = Image.open(img_path)\n",
    "    \n",
    "            results = disease_detector._predict(image)\n",
    "            \n",
    "            preds = disease_detector.cnn_model.class_name_to_idx[results['class_name']]\n",
    "            target = disease_detector.cnn_model.class_name_to_idx[class_name]\n",
    "            score = results['score']\n",
    "            \n",
    "            test_results['preds'].append(preds)\n",
    "            test_results['targets'].append(target)\n",
    "            test_results['scores'].append(score)\n",
    "            \n",
    "            plot_predict_result(results=results, save_path= save_results_img_path / (class_name + '_' + img_name + '.jpg'))\n",
    "            plt.close()\n",
    "        torch.cuda.empty_cache()\n",
    "    \n",
    "    info_data = {\n",
    "        'model': disease_detector.cnn_model.model_name,\n",
    "        \"class_names\" : disease_detector.cnn_model.class_names,\n",
    "        \"results\" : test_results\n",
    "    }\n",
    "    \n",
    "    with open(save_results_root_path / 'info.json', 'w') as f:\n",
    "        json.dump(info_data, f, indent=4)\n",
    "\n",
    "    return info_data"
   ]
  },
  {
   "cell_type": "markdown",
   "id": "76061d53-66bf-4c85-ba92-889ea2f99d5d",
   "metadata": {},
   "source": [
    "## rename_class_idx"
   ]
  },
  {
   "cell_type": "code",
   "execution_count": 3,
   "id": "94b66e26-3ab0-47f9-90e5-22578d6c96ce",
   "metadata": {},
   "outputs": [],
   "source": [
    "def rename_class_idx(df, target):\n",
    "    def _rename_class_idx(x):\n",
    "        if x == target:\n",
    "            return 0\n",
    "        else: return 1\n",
    "            \n",
    "    df['preds'] = df['preds'].apply(_rename_class_idx)\n",
    "    df['targets'] = df['targets'].apply(_rename_class_idx)"
   ]
  },
  {
   "cell_type": "markdown",
   "id": "c0ffce06-4394-4571-b6c9-d818374c81d2",
   "metadata": {},
   "source": [
    "## cal_precision_recall_with_threshold"
   ]
  },
  {
   "cell_type": "code",
   "execution_count": 4,
   "id": "3af515b4-8fc6-4fb5-904e-2f1a4120b4d6",
   "metadata": {},
   "outputs": [],
   "source": [
    "def cal_precision_recall_with_threshold(df, threshold):\n",
    "    \n",
    "    over_threshold = df['scores'] >= threshold\n",
    "    under_threshold = df['scores'] < threshold\n",
    "    \n",
    "    preds_eq_targets = (df['preds'] == df['targets']) & (df['targets'] == 0)\n",
    "    preds_ueq_targets = (df['preds'] != df['targets']) & (df['targets'] == 0)\n",
    "    \n",
    "    targets_ueq_preds = (df['preds'] != df['targets']) & (df['preds'] == 0)\n",
    "    \n",
    "    df = (df['preds'] != df['targets']) & (df['preds'] == 0)\n",
    "    \n",
    "    TP = len(df[preds_eq_targets & over_threshold])\n",
    "    FP = len(df[preds_ueq_targets & over_threshold])\n",
    "    FN = len(df[targets_ueq_preds | under_threshold])\n",
    "\n",
    "    try:\n",
    "        precision = TP / (TP + FP)\n",
    "    except ZeroDivisionError:\n",
    "        precision = 0\n",
    "\n",
    "    try:\n",
    "        recall = TP / (TP + FN)\n",
    "    except ZeroDivisionError:\n",
    "        recall = 0\n",
    "    \n",
    "    return round(precision, 4), round(recall, 4)"
   ]
  },
  {
   "cell_type": "markdown",
   "id": "65f48a40-f457-4399-92f7-126b3c7b6edd",
   "metadata": {},
   "source": [
    "## cal_precision_recall_per_class"
   ]
  },
  {
   "cell_type": "code",
   "execution_count": 5,
   "id": "50bf7422-6fa6-491e-8392-61cd91b1bd08",
   "metadata": {},
   "outputs": [],
   "source": [
    "from tqdm.auto import tqdm\n",
    "import numpy as np\n",
    "\n",
    "def cal_precision_recall_with_threshold_range(df):\n",
    "    results = {\n",
    "        'thresholds' : [],\n",
    "        'precision_scores' : [],\n",
    "        'recall_scores' : [],\n",
    "    }\n",
    "    \n",
    "    for threshold in tqdm(np.round(np.linspace(0, 100, 10000), 2), desc='--------'):\n",
    "        threshold /= 100\n",
    "        precision, recall = cal_precision_recall_with_threshold(df, threshold= threshold)\n",
    "        \n",
    "        results['precision_scores'].append(precision)\n",
    "        results['recall_scores'].append(recall)\n",
    "        results['thresholds'].append(threshold)\n",
    "\n",
    "    return results\n",
    "\n",
    "def cal_precision_recall_per_class(df):   \n",
    "    results = {}\n",
    "    \n",
    "    classes_idx = sorted(df['targets'].unique())\n",
    "    for class_idx in tqdm(classes_idx, desc='Class'):\n",
    "        sub_df = df[(df['targets'] == class_idx) | (df['preds'] == class_idx)].copy()\n",
    "        rename_class_idx(sub_df, class_idx)\n",
    "        precision_recall_results = cal_precision_recall_with_threshold_range(sub_df)\n",
    "        results[class_idx] = precision_recall_results\n",
    "        # break\n",
    "\n",
    "    return results"
   ]
  },
  {
   "cell_type": "markdown",
   "id": "10c75939-d0fc-48f3-9733-d1ca0a7844ad",
   "metadata": {},
   "source": [
    "## find_best_threshold"
   ]
  },
  {
   "cell_type": "code",
   "execution_count": 6,
   "id": "54cbe63c-7517-4882-8f7b-9bcb78f8c544",
   "metadata": {},
   "outputs": [],
   "source": [
    "import pandas as pd\n",
    "\n",
    "def find_best_threshold(results):\n",
    "    def __find_first(arr):\n",
    "        target = max(arr)\n",
    "        for i, value in enumerate(arr):\n",
    "            if value == target: return i\n",
    "                \n",
    "    summary = {}\n",
    "    \n",
    "    for class_idx, results_per_class in results.items():\n",
    "    \n",
    "        max_precision = max(results_per_class['precision_scores'])\n",
    "        best_threshold = (results_per_class['thresholds'][__find_first(arr=results_per_class['precision_scores'])])\n",
    "        recall = (results_per_class['recall_scores'][__find_first(arr=results_per_class['precision_scores'])])\n",
    "    \n",
    "        summary[class_idx] = {\n",
    "            'threshold': best_threshold,\n",
    "            'recall': recall,\n",
    "            'precision': max_precision,\n",
    "        }\n",
    "    df = pd.DataFrame(summary)\n",
    "    df['Average'] = df.T.apply(lambda column: np.average(column))\n",
    "    return df"
   ]
  },
  {
   "cell_type": "markdown",
   "id": "d7346138-0af6-4825-bb46-7d9b1d571783",
   "metadata": {},
   "source": [
    "## plot_summary"
   ]
  },
  {
   "cell_type": "code",
   "execution_count": 7,
   "id": "fe7ed31c-5e43-4f3d-a20c-a6ce762caf6d",
   "metadata": {},
   "outputs": [],
   "source": [
    "import pandas as pd\n",
    "import seaborn as sns\n",
    "import matplotlib.pyplot as plt\n",
    "\n",
    "def plot_summary(df):\n",
    "    plt.figure(figsize=(13, 5))\n",
    "    df_melted = df.T.reset_index().melt('index')\n",
    "    \n",
    "    ax = sns.barplot(x='index', y='value', hue='variable', data=df_melted)\n",
    "    ax.set_ylim(0, 1.5)\n",
    "    plt.title('Best threshold for Class')\n",
    "    plt.xlabel('Class')\n",
    "    plt.ylabel('Score')\n",
    "    \n",
    "    \n",
    "    for i in range(len(df_melted)):\n",
    "        p = ax.patches[i]\n",
    "        ax.annotate(format(p.get_height(), '.2f'), \n",
    "                        (p.get_x() + p.get_width() / 2., p.get_height()), \n",
    "                        ha = 'center', va = 'center', \n",
    "                        xytext = (0, 10), \n",
    "                        textcoords = 'offset points',\n",
    "                        fontsize = 7)\n",
    "\n",
    "    return plt"
   ]
  },
  {
   "cell_type": "markdown",
   "id": "e949cf2d-b018-47d2-bd80-e3a5f6d5c364",
   "metadata": {},
   "source": [
    "# Overall_tester Class"
   ]
  },
  {
   "cell_type": "code",
   "execution_count": 8,
   "id": "9c6430ea-e3e6-47cb-b164-f152289e1120",
   "metadata": {},
   "outputs": [],
   "source": [
    "import torch\n",
    "\n",
    "from model.utils import plot_confmat\n",
    "from model.disease_detection import AI_model\n",
    "import pandas as pd\n",
    "from pathlib import Path\n",
    "import json\n",
    "\n",
    "class Overall_tester:\n",
    "    def __init__(\n",
    "        self,\n",
    "        path_to_model: list,\n",
    "        test_dataset: list,\n",
    "        save_result_path: list,\n",
    "    ):\n",
    "        \n",
    "        self.path_to_model = Path(path_to_model)\n",
    "        self.test_dataset = Path(test_dataset)\n",
    "        self.save_result_path = Path(save_result_path)\n",
    "\n",
    "        self.disease_detector = AI_model(path_to_model)\n",
    "\n",
    "        self.info_data = None\n",
    "    def test(self):\n",
    "        self.info_data = test(\n",
    "            disease_detector= self.disease_detector,\n",
    "            test_dataset= self.test_dataset,\n",
    "            save_result_path= self.save_result_path\n",
    "        )\n",
    "\n",
    "    def save_model(self):\n",
    "        model_name = self.info_data['model']\n",
    "        print(f\"[Save] {self.save_result_path / f'{model_name}.pth'}\")\n",
    "        model = self.disease_detector.cnn_model.model\n",
    "        \n",
    "        torch.save(obj=model.state_dict(), f=(self.save_result_path / f'{model_name}.pth'))\n",
    "        \n",
    "    def load_info_data(self):\n",
    "        with open(str(self.save_result_path /'info.json'), 'r') as f:\n",
    "            self.info_data = json.load(f)\n",
    "            \n",
    "    def plot_confmat(self):\n",
    "        if self.info_data is None:\n",
    "            self.load_info_data()\n",
    "\n",
    "        class_names = self.info_data['class_names']\n",
    "        test_results = self.info_data['results']\n",
    "        plt = plot_confmat(\n",
    "            class_names= class_names,\n",
    "            test_results= test_results,\n",
    "        )\n",
    "        print(f\"[Save] {self.save_result_path / 'confusion_matrix.jpg'}\")\n",
    "        plt.savefig(self.save_result_path / 'confusion_matrix.jpg')\n",
    "        return plt\n",
    "\n",
    "    def find_best_threshold(self):\n",
    "        if self.info_data is None:\n",
    "            self.load_info_data()\n",
    "\n",
    "        info_data_df = pd.DataFrame(self.info_data['results'])\n",
    "\n",
    "        info_data_df['preds'] = info_data_df['preds'].astype(int)\n",
    "        info_data_df['targets'] = info_data_df['targets'].astype(int)\n",
    "\n",
    "        results = cal_precision_recall_per_class(info_data_df)\n",
    "\n",
    "        best_threshold_df = find_best_threshold(results)\n",
    "\n",
    "        plt = plot_summary(best_threshold_df)\n",
    "        \n",
    "        print(f\"[Save] {self.save_result_path / 'best_threshold.xlsx'}\")\n",
    "        best_threshold_df.to_excel(self.save_result_path / 'best_threshold.xlsx')\n",
    "\n",
    "        print(f\"[Save] {self.save_result_path / 'best_threshold.jpg'}\")\n",
    "        plt.savefig(self.save_result_path / 'best_threshold.jpg')\n",
    "        \n",
    "        return best_threshold_df, plt"
   ]
  },
  {
   "cell_type": "markdown",
   "id": "dc097bfd-81e6-4478-b360-232f622587a9",
   "metadata": {},
   "source": [
    "# Run"
   ]
  },
  {
   "cell_type": "code",
   "execution_count": 9,
   "id": "c04157d7-8ce9-4819-9866-d3a0f8cfd7b9",
   "metadata": {},
   "outputs": [],
   "source": [
    "overall_test = Overall_tester(\n",
    "    path_to_model='./runs/classify/train6',\n",
    "    test_dataset= './datasets/tomato_rembg/test/',\n",
    "    save_result_path= './overall_test/test3',\n",
    ")"
   ]
  },
  {
   "cell_type": "code",
   "execution_count": 12,
   "id": "5d854392-3330-40fd-8141-9c88f4346e8b",
   "metadata": {},
   "outputs": [
    {
     "data": {
      "application/vnd.jupyter.widget-view+json": {
       "model_id": "aa64f1c1f4384a79b75057f2e06ccadf",
       "version_major": 2,
       "version_minor": 0
      },
      "text/plain": [
       "Class process:   0%|          | 0/10 [00:00<?, ?it/s]"
      ]
     },
     "metadata": {},
     "output_type": "display_data"
    },
    {
     "data": {
      "application/vnd.jupyter.widget-view+json": {
       "model_id": "ca8457e7223d4e03b6b9ca705071eda8",
       "version_major": 2,
       "version_minor": 0
      },
      "text/plain": [
       "---Image predict:   0%|          | 0/100 [00:00<?, ?it/s]"
      ]
     },
     "metadata": {},
     "output_type": "display_data"
    },
    {
     "data": {
      "application/vnd.jupyter.widget-view+json": {
       "model_id": "08c81be171d74a94ae9561fb6954b819",
       "version_major": 2,
       "version_minor": 0
      },
      "text/plain": [
       "---Image predict:   0%|          | 0/100 [00:00<?, ?it/s]"
      ]
     },
     "metadata": {},
     "output_type": "display_data"
    },
    {
     "data": {
      "application/vnd.jupyter.widget-view+json": {
       "model_id": "a025121f098b4a178b7b85a831a1ef59",
       "version_major": 2,
       "version_minor": 0
      },
      "text/plain": [
       "---Image predict:   0%|          | 0/100 [00:00<?, ?it/s]"
      ]
     },
     "metadata": {},
     "output_type": "display_data"
    },
    {
     "data": {
      "application/vnd.jupyter.widget-view+json": {
       "model_id": "dc7c0585ebe44d188a903f52354d041a",
       "version_major": 2,
       "version_minor": 0
      },
      "text/plain": [
       "---Image predict:   0%|          | 0/100 [00:00<?, ?it/s]"
      ]
     },
     "metadata": {},
     "output_type": "display_data"
    },
    {
     "data": {
      "application/vnd.jupyter.widget-view+json": {
       "model_id": "1b40571128dd440a9a5532b082faa545",
       "version_major": 2,
       "version_minor": 0
      },
      "text/plain": [
       "---Image predict:   0%|          | 0/100 [00:00<?, ?it/s]"
      ]
     },
     "metadata": {},
     "output_type": "display_data"
    },
    {
     "data": {
      "application/vnd.jupyter.widget-view+json": {
       "model_id": "f6046ba6d9384fe089cab66ff2787a9c",
       "version_major": 2,
       "version_minor": 0
      },
      "text/plain": [
       "---Image predict:   0%|          | 0/100 [00:00<?, ?it/s]"
      ]
     },
     "metadata": {},
     "output_type": "display_data"
    },
    {
     "data": {
      "application/vnd.jupyter.widget-view+json": {
       "model_id": "52621cc433ba47bfb2b7eb8f4e09cc12",
       "version_major": 2,
       "version_minor": 0
      },
      "text/plain": [
       "---Image predict:   0%|          | 0/100 [00:00<?, ?it/s]"
      ]
     },
     "metadata": {},
     "output_type": "display_data"
    },
    {
     "data": {
      "application/vnd.jupyter.widget-view+json": {
       "model_id": "d95eb6eb3f4b4f17bdf4869d09f2f815",
       "version_major": 2,
       "version_minor": 0
      },
      "text/plain": [
       "---Image predict:   0%|          | 0/100 [00:00<?, ?it/s]"
      ]
     },
     "metadata": {},
     "output_type": "display_data"
    },
    {
     "data": {
      "application/vnd.jupyter.widget-view+json": {
       "model_id": "12fa8b825c2e42a9b420976083013fa5",
       "version_major": 2,
       "version_minor": 0
      },
      "text/plain": [
       "---Image predict:   0%|          | 0/100 [00:00<?, ?it/s]"
      ]
     },
     "metadata": {},
     "output_type": "display_data"
    },
    {
     "data": {
      "application/vnd.jupyter.widget-view+json": {
       "model_id": "2fd231bce4d04d1cb0ff380b133305c7",
       "version_major": 2,
       "version_minor": 0
      },
      "text/plain": [
       "---Image predict:   0%|          | 0/100 [00:00<?, ?it/s]"
      ]
     },
     "metadata": {},
     "output_type": "display_data"
    }
   ],
   "source": [
    "overall_test.test()"
   ]
  },
  {
   "cell_type": "code",
   "execution_count": 13,
   "id": "5ddaab11-9a9d-4907-a711-21148efbddeb",
   "metadata": {},
   "outputs": [
    {
     "name": "stdout",
     "output_type": "stream",
     "text": [
      "[Save] overall_test\\test3\\confusion_matrix.jpg\n"
     ]
    },
    {
     "data": {
      "text/plain": [
       "<module 'matplotlib.pyplot' from 'C:\\\\Users\\\\tranq\\\\miniconda3\\\\envs\\\\leaf_project\\\\Lib\\\\site-packages\\\\matplotlib\\\\pyplot.py'>"
      ]
     },
     "execution_count": 13,
     "metadata": {},
     "output_type": "execute_result"
    },
    {
     "data": {
      "image/png": "[encoded data removed]",
      "text/plain": [
       "<Figure size 750x500 with 2 Axes>"
      ]
     },
     "metadata": {},
     "output_type": "display_data"
    }
   ],
   "source": [
    "overall_test.plot_confmat()"
   ]
  },
  {
   "cell_type": "code",
   "execution_count": 15,
   "id": "3d4a1c52-d76d-4be9-9374-a6721f076aa8",
   "metadata": {},
   "outputs": [
    {
     "name": "stdout",
     "output_type": "stream",
     "text": [
      "[Save] overall_test\\test3\\effi_net_v2_s.pth\n"
     ]
    }
   ],
   "source": [
    "overall_test.save_model()"
   ]
  },
  {
   "cell_type": "code",
   "execution_count": 16,
   "id": "bbd0fba1-f106-41e4-9ce9-1950125fcceb",
   "metadata": {},
   "outputs": [
    {
     "data": {
      "application/vnd.jupyter.widget-view+json": {
       "model_id": "c30563dce028459988b15b32b685aa13",
       "version_major": 2,
       "version_minor": 0
      },
      "text/plain": [
       "Class:   0%|          | 0/10 [00:00<?, ?it/s]"
      ]
     },
     "metadata": {},
     "output_type": "display_data"
    },
    {
     "data": {
      "application/vnd.jupyter.widget-view+json": {
       "model_id": "3ddd090a9d9445b48ceb0a8314877f61",
       "version_major": 2,
       "version_minor": 0
      },
      "text/plain": [
       "--------:   0%|          | 0/10000 [00:00<?, ?it/s]"
      ]
     },
     "metadata": {},
     "output_type": "display_data"
    },
    {
     "data": {
      "application/vnd.jupyter.widget-view+json": {
       "model_id": "a56148f737d04f55930098909b537606",
       "version_major": 2,
       "version_minor": 0
      },
      "text/plain": [
       "--------:   0%|          | 0/10000 [00:00<?, ?it/s]"
      ]
     },
     "metadata": {},
     "output_type": "display_data"
    },
    {
     "data": {
      "application/vnd.jupyter.widget-view+json": {
       "model_id": "342bc1cc8dfe47eab8adffdd9de6d3b6",
       "version_major": 2,
       "version_minor": 0
      },
      "text/plain": [
       "--------:   0%|          | 0/10000 [00:00<?, ?it/s]"
      ]
     },
     "metadata": {},
     "output_type": "display_data"
    },
    {
     "data": {
      "application/vnd.jupyter.widget-view+json": {
       "model_id": "4d59ccbd442e4428adad7bac97c8cc01",
       "version_major": 2,
       "version_minor": 0
      },
      "text/plain": [
       "--------:   0%|          | 0/10000 [00:00<?, ?it/s]"
      ]
     },
     "metadata": {},
     "output_type": "display_data"
    },
    {
     "data": {
      "application/vnd.jupyter.widget-view+json": {
       "model_id": "8f1a0a06b1884b01a27293e26951b809",
       "version_major": 2,
       "version_minor": 0
      },
      "text/plain": [
       "--------:   0%|          | 0/10000 [00:00<?, ?it/s]"
      ]
     },
     "metadata": {},
     "output_type": "display_data"
    },
    {
     "data": {
      "application/vnd.jupyter.widget-view+json": {
       "model_id": "34bd863a86d7445ab1e533d8c96ef8d8",
       "version_major": 2,
       "version_minor": 0
      },
      "text/plain": [
       "--------:   0%|          | 0/10000 [00:00<?, ?it/s]"
      ]
     },
     "metadata": {},
     "output_type": "display_data"
    },
    {
     "data": {
      "application/vnd.jupyter.widget-view+json": {
       "model_id": "4d4d476c82934cb0998aaedc112f911a",
       "version_major": 2,
       "version_minor": 0
      },
      "text/plain": [
       "--------:   0%|          | 0/10000 [00:00<?, ?it/s]"
      ]
     },
     "metadata": {},
     "output_type": "display_data"
    },
    {
     "data": {
      "application/vnd.jupyter.widget-view+json": {
       "model_id": "143e6320f2e340f2a0d246888b3c7272",
       "version_major": 2,
       "version_minor": 0
      },
      "text/plain": [
       "--------:   0%|          | 0/10000 [00:00<?, ?it/s]"
      ]
     },
     "metadata": {},
     "output_type": "display_data"
    },
    {
     "data": {
      "application/vnd.jupyter.widget-view+json": {
       "model_id": "deffcef6005346baa4afd4b41ff3e767",
       "version_major": 2,
       "version_minor": 0
      },
      "text/plain": [
       "--------:   0%|          | 0/10000 [00:00<?, ?it/s]"
      ]
     },
     "metadata": {},
     "output_type": "display_data"
    },
    {
     "data": {
      "application/vnd.jupyter.widget-view+json": {
       "model_id": "db069fdda8c7498cb47fae54dd3115a7",
       "version_major": 2,
       "version_minor": 0
      },
      "text/plain": [
       "--------:   0%|          | 0/10000 [00:00<?, ?it/s]"
      ]
     },
     "metadata": {},
     "output_type": "display_data"
    },
    {
     "name": "stdout",
     "output_type": "stream",
     "text": [
      "[Save] overall_test\\test3\\best_threshold.xlsx\n",
      "[Save] overall_test\\test3\\best_threshold.jpg\n"
     ]
    },
    {
     "data": {
      "image/png": "[encoded data removed]",
      "text/plain": [
       "<Figure size 1300x500 with 1 Axes>"
      ]
     },
     "metadata": {},
     "output_type": "display_data"
    }
   ],
   "source": [
    "best_threshold_df, plt = overall_test.find_best_threshold()"
   ]
  },
  {
   "cell_type": "code",
   "execution_count": 17,
   "id": "87fa7fe0-6fc1-4716-8000-7797895beff9",
   "metadata": {},
   "outputs": [],
   "source": [
    "a = pd.read_excel('./overall_test/test0/best_threshold.xlsx', index_col=0)"
   ]
  },
  {
   "cell_type": "code",
   "execution_count": null,
   "id": "66fb5a18-d524-4fd1-95fd-16ef279d952b",
   "metadata": {},
   "outputs": [],
   "source": []
  }
 ],
 "metadata": {
  "kernelspec": {
   "display_name": "Python 3 (ipykernel)",
   "language": "python",
   "name": "python3"
  },
  "language_info": {
   "codemirror_mode": {
    "name": "ipython",
    "version": 3
   },
   "file_extension": ".py",
   "mimetype": "text/x-python",
   "name": "python",
   "nbconvert_exporter": "python",
   "pygments_lexer": "ipython3",
   "version": "3.11.9"
  }
 },
 "nbformat": 4,
 "nbformat_minor": 5
}
